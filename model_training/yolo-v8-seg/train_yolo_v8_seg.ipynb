{
 "nbformat": 4,
 "nbformat_minor": 0,
 "metadata": {
  "colab": {
   "provenance": [],
   "gpuType": "T4",
   "authorship_tag": "ABX9TyPo5iSrjmva2BZxTetGOElm"
  },
  "kernelspec": {
   "name": "python3",
   "display_name": "Python 3 (ipykernel)",
   "language": "python"
  },
  "language_info": {
   "name": "python"
  },
  "accelerator": "GPU"
 },
 "cells": [
  {
   "cell_type": "code",
   "execution_count": 1,
   "metadata": {
    "colab": {
     "base_uri": "https://localhost:8080/"
    },
    "id": "KkxFdHd65c8d",
    "executionInfo": {
     "status": "ok",
     "timestamp": 1732917024264,
     "user_tz": 300,
     "elapsed": 3932,
     "user": {
      "displayName": "Wei Xiang",
      "userId": "03584244961072852020"
     }
    },
    "outputId": "34ca5419-c06d-402f-991b-b615946c3fd5"
   },
   "outputs": [
    {
     "output_type": "stream",
     "name": "stdout",
     "text": [
      "Collecting ultralytics\n",
      "  Downloading ultralytics-8.3.39-py3-none-any.whl.metadata (35 kB)\n",
      "Requirement already satisfied: numpy>=1.23.0 in /usr/local/lib/python3.10/dist-packages (from ultralytics) (1.26.4)\n",
      "Requirement already satisfied: matplotlib>=3.3.0 in /usr/local/lib/python3.10/dist-packages (from ultralytics) (3.8.0)\n",
      "Requirement already satisfied: opencv-python>=4.6.0 in /usr/local/lib/python3.10/dist-packages (from ultralytics) (4.10.0.84)\n",
      "Requirement already satisfied: pillow>=7.1.2 in /usr/local/lib/python3.10/dist-packages (from ultralytics) (11.0.0)\n",
      "Requirement already satisfied: pyyaml>=5.3.1 in /usr/local/lib/python3.10/dist-packages (from ultralytics) (6.0.2)\n",
      "Requirement already satisfied: requests>=2.23.0 in /usr/local/lib/python3.10/dist-packages (from ultralytics) (2.32.3)\n",
      "Requirement already satisfied: scipy>=1.4.1 in /usr/local/lib/python3.10/dist-packages (from ultralytics) (1.13.1)\n",
      "Requirement already satisfied: torch>=1.8.0 in /usr/local/lib/python3.10/dist-packages (from ultralytics) (2.5.1+cu121)\n",
      "Requirement already satisfied: torchvision>=0.9.0 in /usr/local/lib/python3.10/dist-packages (from ultralytics) (0.20.1+cu121)\n",
      "Requirement already satisfied: tqdm>=4.64.0 in /usr/local/lib/python3.10/dist-packages (from ultralytics) (4.66.6)\n",
      "Requirement already satisfied: psutil in /usr/local/lib/python3.10/dist-packages (from ultralytics) (5.9.5)\n",
      "Requirement already satisfied: py-cpuinfo in /usr/local/lib/python3.10/dist-packages (from ultralytics) (9.0.0)\n",
      "Requirement already satisfied: pandas>=1.1.4 in /usr/local/lib/python3.10/dist-packages (from ultralytics) (2.2.2)\n",
      "Requirement already satisfied: seaborn>=0.11.0 in /usr/local/lib/python3.10/dist-packages (from ultralytics) (0.13.2)\n",
      "Collecting ultralytics-thop>=2.0.0 (from ultralytics)\n",
      "  Downloading ultralytics_thop-2.0.12-py3-none-any.whl.metadata (9.4 kB)\n",
      "Requirement already satisfied: contourpy>=1.0.1 in /usr/local/lib/python3.10/dist-packages (from matplotlib>=3.3.0->ultralytics) (1.3.1)\n",
      "Requirement already satisfied: cycler>=0.10 in /usr/local/lib/python3.10/dist-packages (from matplotlib>=3.3.0->ultralytics) (0.12.1)\n",
      "Requirement already satisfied: fonttools>=4.22.0 in /usr/local/lib/python3.10/dist-packages (from matplotlib>=3.3.0->ultralytics) (4.55.0)\n",
      "Requirement already satisfied: kiwisolver>=1.0.1 in /usr/local/lib/python3.10/dist-packages (from matplotlib>=3.3.0->ultralytics) (1.4.7)\n",
      "Requirement already satisfied: packaging>=20.0 in /usr/local/lib/python3.10/dist-packages (from matplotlib>=3.3.0->ultralytics) (24.2)\n",
      "Requirement already satisfied: pyparsing>=2.3.1 in /usr/local/lib/python3.10/dist-packages (from matplotlib>=3.3.0->ultralytics) (3.2.0)\n",
      "Requirement already satisfied: python-dateutil>=2.7 in /usr/local/lib/python3.10/dist-packages (from matplotlib>=3.3.0->ultralytics) (2.8.2)\n",
      "Requirement already satisfied: pytz>=2020.1 in /usr/local/lib/python3.10/dist-packages (from pandas>=1.1.4->ultralytics) (2024.2)\n",
      "Requirement already satisfied: tzdata>=2022.7 in /usr/local/lib/python3.10/dist-packages (from pandas>=1.1.4->ultralytics) (2024.2)\n",
      "Requirement already satisfied: charset-normalizer<4,>=2 in /usr/local/lib/python3.10/dist-packages (from requests>=2.23.0->ultralytics) (3.4.0)\n",
      "Requirement already satisfied: idna<4,>=2.5 in /usr/local/lib/python3.10/dist-packages (from requests>=2.23.0->ultralytics) (3.10)\n",
      "Requirement already satisfied: urllib3<3,>=1.21.1 in /usr/local/lib/python3.10/dist-packages (from requests>=2.23.0->ultralytics) (2.2.3)\n",
      "Requirement already satisfied: certifi>=2017.4.17 in /usr/local/lib/python3.10/dist-packages (from requests>=2.23.0->ultralytics) (2024.8.30)\n",
      "Requirement already satisfied: filelock in /usr/local/lib/python3.10/dist-packages (from torch>=1.8.0->ultralytics) (3.16.1)\n",
      "Requirement already satisfied: typing-extensions>=4.8.0 in /usr/local/lib/python3.10/dist-packages (from torch>=1.8.0->ultralytics) (4.12.2)\n",
      "Requirement already satisfied: networkx in /usr/local/lib/python3.10/dist-packages (from torch>=1.8.0->ultralytics) (3.4.2)\n",
      "Requirement already satisfied: jinja2 in /usr/local/lib/python3.10/dist-packages (from torch>=1.8.0->ultralytics) (3.1.4)\n",
      "Requirement already satisfied: fsspec in /usr/local/lib/python3.10/dist-packages (from torch>=1.8.0->ultralytics) (2024.10.0)\n",
      "Requirement already satisfied: sympy==1.13.1 in /usr/local/lib/python3.10/dist-packages (from torch>=1.8.0->ultralytics) (1.13.1)\n",
      "Requirement already satisfied: mpmath<1.4,>=1.1.0 in /usr/local/lib/python3.10/dist-packages (from sympy==1.13.1->torch>=1.8.0->ultralytics) (1.3.0)\n",
      "Requirement already satisfied: six>=1.5 in /usr/local/lib/python3.10/dist-packages (from python-dateutil>=2.7->matplotlib>=3.3.0->ultralytics) (1.16.0)\n",
      "Requirement already satisfied: MarkupSafe>=2.0 in /usr/local/lib/python3.10/dist-packages (from jinja2->torch>=1.8.0->ultralytics) (3.0.2)\n",
      "Downloading ultralytics-8.3.39-py3-none-any.whl (896 kB)\n",
      "\u001B[2K   \u001B[90m━━━━━━━━━━━━━━━━━━━━━━━━━━━━━━━━━━━━━━━━\u001B[0m \u001B[32m896.9/896.9 kB\u001B[0m \u001B[31m51.0 MB/s\u001B[0m eta \u001B[36m0:00:00\u001B[0m\n",
      "\u001B[?25hDownloading ultralytics_thop-2.0.12-py3-none-any.whl (26 kB)\n",
      "Installing collected packages: ultralytics-thop, ultralytics\n",
      "Successfully installed ultralytics-8.3.39 ultralytics-thop-2.0.12\n"
     ]
    }
   ],
   "source": [
    "!pip install ultralytics"
   ]
  },
  {
   "cell_type": "code",
   "source": [
    "!unzip datasets.zip"
   ],
   "metadata": {
    "colab": {
     "base_uri": "https://localhost:8080/"
    },
    "id": "tJT4NXJT6bdB",
    "executionInfo": {
     "status": "ok",
     "timestamp": 1732917195699,
     "user_tz": 300,
     "elapsed": 1264,
     "user": {
      "displayName": "Wei Xiang",
      "userId": "03584244961072852020"
     }
    },
    "outputId": "7faeec85-64ce-48ce-e0ed-33443591a832"
   },
   "execution_count": 4,
   "outputs": [
    {
     "output_type": "stream",
     "name": "stdout",
     "text": [
      "Archive:  datasets.zip\n",
      "   creating: datasets/\n",
      "  inflating: datasets/.DS_Store      \n",
      "  inflating: __MACOSX/datasets/._.DS_Store  \n",
      "   creating: datasets/ros-nav/\n",
      "  inflating: datasets/ros-nav/.DS_Store  \n",
      "  inflating: __MACOSX/datasets/ros-nav/._.DS_Store  \n",
      "   creating: datasets/ros-nav/images/\n",
      "  inflating: __MACOSX/datasets/ros-nav/._images  \n",
      "   creating: datasets/ros-nav/labels/\n",
      "  inflating: __MACOSX/datasets/ros-nav/._labels  \n",
      "  inflating: datasets/ros-nav/images/.DS_Store  \n",
      "  inflating: __MACOSX/datasets/ros-nav/images/._.DS_Store  \n",
      "   creating: datasets/ros-nav/images/train/\n",
      "  inflating: __MACOSX/datasets/ros-nav/images/._train  \n",
      "   creating: datasets/ros-nav/images/val/\n",
      "  inflating: datasets/ros-nav/labels/.DS_Store  \n",
      "  inflating: __MACOSX/datasets/ros-nav/labels/._.DS_Store  \n",
      "  inflating: datasets/ros-nav/labels/train.cache  \n",
      "   creating: datasets/ros-nav/labels/train/\n",
      "  inflating: __MACOSX/datasets/ros-nav/labels/._train  \n",
      "  inflating: datasets/ros-nav/labels/val.cache  \n",
      "   creating: datasets/ros-nav/labels/val/\n",
      "  inflating: datasets/ros-nav/images/train/3845562000000.jpeg  \n",
      "  inflating: __MACOSX/datasets/ros-nav/images/train/._3845562000000.jpeg  \n",
      "  inflating: datasets/ros-nav/images/train/9546842000000.jpeg  \n",
      "  inflating: __MACOSX/datasets/ros-nav/images/train/._9546842000000.jpeg  \n",
      "  inflating: datasets/ros-nav/images/train/10142638000000.jpeg  \n",
      "  inflating: __MACOSX/datasets/ros-nav/images/train/._10142638000000.jpeg  \n",
      "  inflating: datasets/ros-nav/images/train/1342214000000.jpeg  \n",
      "  inflating: __MACOSX/datasets/ros-nav/images/train/._1342214000000.jpeg  \n",
      "  inflating: datasets/ros-nav/images/train/9671636000000.jpeg  \n",
      "  inflating: __MACOSX/datasets/ros-nav/images/train/._9671636000000.jpeg  \n",
      "  inflating: datasets/ros-nav/images/train/1304878000000.jpeg  \n",
      "  inflating: __MACOSX/datasets/ros-nav/images/train/._1304878000000.jpeg  \n",
      "  inflating: datasets/ros-nav/images/train/7808400000000.jpeg  \n",
      "  inflating: __MACOSX/datasets/ros-nav/images/train/._7808400000000.jpeg  \n",
      "  inflating: datasets/ros-nav/images/train/3835728000000.jpeg  \n",
      "  inflating: __MACOSX/datasets/ros-nav/images/train/._3835728000000.jpeg  \n",
      "  inflating: datasets/ros-nav/images/train/6170336000000.jpeg  \n",
      "  inflating: __MACOSX/datasets/ros-nav/images/train/._6170336000000.jpeg  \n",
      "  inflating: datasets/ros-nav/images/train/9688720000000.jpeg  \n",
      "  inflating: __MACOSX/datasets/ros-nav/images/train/._9688720000000.jpeg  \n",
      "  inflating: datasets/ros-nav/images/train/9843646000000.jpeg  \n",
      "  inflating: __MACOSX/datasets/ros-nav/images/train/._9843646000000.jpeg  \n",
      "  inflating: datasets/ros-nav/images/train/9394054000000.jpeg  \n",
      "  inflating: __MACOSX/datasets/ros-nav/images/train/._9394054000000.jpeg  \n",
      "  inflating: datasets/ros-nav/images/train/10127080000000.jpeg  \n",
      "  inflating: __MACOSX/datasets/ros-nav/images/train/._10127080000000.jpeg  \n",
      "  inflating: datasets/ros-nav/images/train/7772944000000.jpeg  \n",
      "  inflating: __MACOSX/datasets/ros-nav/images/train/._7772944000000.jpeg  \n",
      "  inflating: datasets/ros-nav/images/train/9385218000000.jpeg  \n",
      "  inflating: __MACOSX/datasets/ros-nav/images/train/._9385218000000.jpeg  \n",
      "  inflating: datasets/ros-nav/images/train/3839168000000.jpeg  \n",
      "  inflating: __MACOSX/datasets/ros-nav/images/train/._3839168000000.jpeg  \n",
      "  inflating: datasets/ros-nav/images/train/9410438000000.jpeg  \n",
      "  inflating: __MACOSX/datasets/ros-nav/images/train/._9410438000000.jpeg  \n",
      "  inflating: datasets/ros-nav/images/train/3571336000000.jpeg  \n",
      "  inflating: __MACOSX/datasets/ros-nav/images/train/._3571336000000.jpeg  \n",
      "  inflating: datasets/ros-nav/images/train/9414800000000.jpeg  \n",
      "  inflating: __MACOSX/datasets/ros-nav/images/train/._9414800000000.jpeg  \n",
      "  inflating: datasets/ros-nav/images/train/3832426000000.jpeg  \n",
      "  inflating: __MACOSX/datasets/ros-nav/images/train/._3832426000000.jpeg  \n",
      "  inflating: datasets/ros-nav/images/train/10024384000000.jpeg  \n",
      "  inflating: __MACOSX/datasets/ros-nav/images/train/._10024384000000.jpeg  \n",
      "  inflating: datasets/ros-nav/images/train/9909750000000.jpeg  \n",
      "  inflating: __MACOSX/datasets/ros-nav/images/train/._9909750000000.jpeg  \n",
      "  inflating: datasets/ros-nav/images/train/10003360000000.jpeg  \n",
      "  inflating: __MACOSX/datasets/ros-nav/images/train/._10003360000000.jpeg  \n",
      "  inflating: datasets/ros-nav/images/train/10081130000000.jpeg  \n",
      "  inflating: __MACOSX/datasets/ros-nav/images/train/._10081130000000.jpeg  \n",
      "  inflating: datasets/ros-nav/images/train/6199144000000.jpeg  \n",
      "  inflating: __MACOSX/datasets/ros-nav/images/train/._6199144000000.jpeg  \n",
      "  inflating: datasets/ros-nav/images/train/9705284000000.jpeg  \n",
      "  inflating: __MACOSX/datasets/ros-nav/images/train/._9705284000000.jpeg  \n",
      "  inflating: datasets/ros-nav/images/train/9641620000000.jpeg  \n",
      "  inflating: __MACOSX/datasets/ros-nav/images/train/._9641620000000.jpeg  \n",
      "  inflating: datasets/ros-nav/images/train/10093538000000.jpeg  \n",
      "  inflating: __MACOSX/datasets/ros-nav/images/train/._10093538000000.jpeg  \n",
      "  inflating: datasets/ros-nav/images/train/10089526000000.jpeg  \n",
      "  inflating: __MACOSX/datasets/ros-nav/images/train/._10089526000000.jpeg  \n",
      "  inflating: datasets/ros-nav/images/train/3618610000000.jpeg  \n",
      "  inflating: __MACOSX/datasets/ros-nav/images/train/._3618610000000.jpeg  \n",
      "  inflating: datasets/ros-nav/images/train/9913970000000.jpeg  \n",
      "  inflating: __MACOSX/datasets/ros-nav/images/train/._9913970000000.jpeg  \n",
      "  inflating: datasets/ros-nav/images/train/93716000000.jpeg  \n",
      "  inflating: __MACOSX/datasets/ros-nav/images/train/._93716000000.jpeg  \n",
      "  inflating: datasets/ros-nav/images/train/3807674000000.jpeg  \n",
      "  inflating: __MACOSX/datasets/ros-nav/images/train/._3807674000000.jpeg  \n",
      "  inflating: datasets/ros-nav/images/train/583726000000.jpeg  \n",
      "  inflating: __MACOSX/datasets/ros-nav/images/train/._583726000000.jpeg  \n",
      "  inflating: datasets/ros-nav/images/train/9565428000000.jpeg  \n",
      "  inflating: __MACOSX/datasets/ros-nav/images/train/._9565428000000.jpeg  \n",
      "  inflating: datasets/ros-nav/images/train/9633644000000.jpeg  \n",
      "  inflating: __MACOSX/datasets/ros-nav/images/train/._9633644000000.jpeg  \n",
      "  inflating: datasets/ros-nav/images/train/1349288000000.jpeg  \n",
      "  inflating: __MACOSX/datasets/ros-nav/images/train/._1349288000000.jpeg  \n",
      "  inflating: datasets/ros-nav/images/train/237870000000.jpeg  \n",
      "  inflating: __MACOSX/datasets/ros-nav/images/train/._237870000000.jpeg  \n",
      "  inflating: datasets/ros-nav/images/train/3848914000000.jpeg  \n",
      "  inflating: __MACOSX/datasets/ros-nav/images/train/._3848914000000.jpeg  \n",
      "  inflating: datasets/ros-nav/images/train/113430000000.jpeg  \n",
      "  inflating: __MACOSX/datasets/ros-nav/images/train/._113430000000.jpeg  \n",
      "  inflating: datasets/ros-nav/images/train/605480000000.jpeg  \n",
      "  inflating: __MACOSX/datasets/ros-nav/images/train/._605480000000.jpeg  \n",
      "  inflating: datasets/ros-nav/images/train/2719388000000.jpeg  \n",
      "  inflating: __MACOSX/datasets/ros-nav/images/train/._2719388000000.jpeg  \n",
      "  inflating: datasets/ros-nav/images/train/129180000000.jpeg  \n",
      "  inflating: __MACOSX/datasets/ros-nav/images/train/._129180000000.jpeg  \n",
      "  inflating: datasets/ros-nav/images/train/615404000000.jpeg  \n",
      "  inflating: __MACOSX/datasets/ros-nav/images/train/._615404000000.jpeg  \n",
      "  inflating: datasets/ros-nav/images/train/10156518000000.jpeg  \n",
      "  inflating: __MACOSX/datasets/ros-nav/images/train/._10156518000000.jpeg  \n",
      "  inflating: datasets/ros-nav/images/train/6207292000000.jpeg  \n",
      "  inflating: __MACOSX/datasets/ros-nav/images/train/._6207292000000.jpeg  \n",
      "  inflating: datasets/ros-nav/images/train/6212774000000.jpeg  \n",
      "  inflating: __MACOSX/datasets/ros-nav/images/train/._6212774000000.jpeg  \n",
      "  inflating: datasets/ros-nav/images/train/2680434000000.jpeg  \n",
      "  inflating: __MACOSX/datasets/ros-nav/images/train/._2680434000000.jpeg  \n",
      "  inflating: datasets/ros-nav/images/train/9867746000000.jpeg  \n",
      "  inflating: __MACOSX/datasets/ros-nav/images/train/._9867746000000.jpeg  \n",
      "  inflating: datasets/ros-nav/images/train/1327488000000.jpeg  \n",
      "  inflating: __MACOSX/datasets/ros-nav/images/train/._1327488000000.jpeg  \n",
      "  inflating: datasets/ros-nav/images/train/89280000000.jpeg  \n",
      "  inflating: __MACOSX/datasets/ros-nav/images/train/._89280000000.jpeg  \n",
      "  inflating: datasets/ros-nav/images/train/2696300000000.jpeg  \n",
      "  inflating: __MACOSX/datasets/ros-nav/images/train/._2696300000000.jpeg  \n",
      "  inflating: datasets/ros-nav/images/train/10135726000000.jpeg  \n",
      "  inflating: __MACOSX/datasets/ros-nav/images/train/._10135726000000.jpeg  \n",
      "  inflating: datasets/ros-nav/images/train/609352000000.jpeg  \n",
      "  inflating: __MACOSX/datasets/ros-nav/images/train/._609352000000.jpeg  \n",
      "  inflating: datasets/ros-nav/images/train/9976308000000.jpeg  \n",
      "  inflating: __MACOSX/datasets/ros-nav/images/train/._9976308000000.jpeg  \n",
      "  inflating: datasets/ros-nav/images/train/234434000000.jpeg  \n",
      "  inflating: __MACOSX/datasets/ros-nav/images/train/._234434000000.jpeg  \n",
      "  inflating: datasets/ros-nav/images/train/7790062000000.jpeg  \n",
      "  inflating: __MACOSX/datasets/ros-nav/images/train/._7790062000000.jpeg  \n",
      "  inflating: datasets/ros-nav/images/train/10097550000000.jpeg  \n",
      "  inflating: __MACOSX/datasets/ros-nav/images/train/._10097550000000.jpeg  \n",
      "  inflating: datasets/ros-nav/images/train/3825574000000.jpeg  \n",
      "  inflating: __MACOSX/datasets/ros-nav/images/train/._3825574000000.jpeg  \n",
      "  inflating: datasets/ros-nav/images/train/220406000000.jpeg  \n",
      "  inflating: __MACOSX/datasets/ros-nav/images/train/._220406000000.jpeg  \n",
      "  inflating: datasets/ros-nav/images/train/9931636000000.jpeg  \n",
      "  inflating: __MACOSX/datasets/ros-nav/images/train/._9931636000000.jpeg  \n",
      "  inflating: datasets/ros-nav/images/train/108436000000.jpeg  \n",
      "  inflating: __MACOSX/datasets/ros-nav/images/train/._108436000000.jpeg  \n",
      "  inflating: datasets/ros-nav/images/train/248018000000.jpeg  \n",
      "  inflating: __MACOSX/datasets/ros-nav/images/train/._248018000000.jpeg  \n",
      "  inflating: datasets/ros-nav/images/train/2707730000000.jpeg  \n",
      "  inflating: __MACOSX/datasets/ros-nav/images/train/._2707730000000.jpeg  \n",
      "  inflating: datasets/ros-nav/images/train/10123244000000.jpeg  \n",
      "  inflating: __MACOSX/datasets/ros-nav/images/train/._10123244000000.jpeg  \n",
      "  inflating: datasets/ros-nav/images/train/9599332000000.jpeg  \n",
      "  inflating: __MACOSX/datasets/ros-nav/images/train/._9599332000000.jpeg  \n",
      "  inflating: datasets/ros-nav/images/train/3814658000000.jpeg  \n",
      "  inflating: __MACOSX/datasets/ros-nav/images/train/._3814658000000.jpeg  \n",
      "  inflating: datasets/ros-nav/images/train/3611122000000.jpeg  \n",
      "  inflating: __MACOSX/datasets/ros-nav/images/train/._3611122000000.jpeg  \n",
      "  inflating: datasets/ros-nav/images/train/3603488000000.jpeg  \n",
      "  inflating: __MACOSX/datasets/ros-nav/images/train/._3603488000000.jpeg  \n",
      "  inflating: datasets/ros-nav/images/train/6184032000000.jpeg  \n",
      "  inflating: __MACOSX/datasets/ros-nav/images/train/._6184032000000.jpeg  \n",
      "  inflating: datasets/ros-nav/images/train/9371100000000.jpeg  \n",
      "  inflating: __MACOSX/datasets/ros-nav/images/train/._9371100000000.jpeg  \n",
      "  inflating: datasets/ros-nav/images/train/9515896000000.jpeg  \n",
      "  inflating: __MACOSX/datasets/ros-nav/images/train/._9515896000000.jpeg  \n",
      "  inflating: datasets/ros-nav/images/train/594692000000.jpeg  \n",
      "  inflating: __MACOSX/datasets/ros-nav/images/train/._594692000000.jpeg  \n",
      "  inflating: datasets/ros-nav/images/train/9418942000000.jpeg  \n",
      "  inflating: __MACOSX/datasets/ros-nav/images/train/._9418942000000.jpeg  \n",
      "  inflating: datasets/ros-nav/images/train/9901326000000.jpeg  \n",
      "  inflating: __MACOSX/datasets/ros-nav/images/train/._9901326000000.jpeg  \n",
      "  inflating: datasets/ros-nav/images/train/1315846000000.jpeg  \n",
      "  inflating: __MACOSX/datasets/ros-nav/images/train/._1315846000000.jpeg  \n",
      "  inflating: datasets/ros-nav/images/train/3577526000000.jpeg  \n",
      "  inflating: __MACOSX/datasets/ros-nav/images/train/._3577526000000.jpeg  \n",
      "  inflating: datasets/ros-nav/images/train/9398030000000.jpeg  \n",
      "  inflating: __MACOSX/datasets/ros-nav/images/train/._9398030000000.jpeg  \n",
      "  inflating: datasets/ros-nav/images/train/10174088000000.jpeg  \n",
      "  inflating: __MACOSX/datasets/ros-nav/images/train/._10174088000000.jpeg  \n",
      "  inflating: datasets/ros-nav/images/train/102644000000.jpeg  \n",
      "  inflating: __MACOSX/datasets/ros-nav/images/train/._102644000000.jpeg  \n",
      "  inflating: datasets/ros-nav/images/train/98118000000.jpeg  \n",
      "  inflating: __MACOSX/datasets/ros-nav/images/train/._98118000000.jpeg  \n",
      "  inflating: datasets/ros-nav/images/train/1297174000000.jpeg  \n",
      "  inflating: __MACOSX/datasets/ros-nav/images/train/._1297174000000.jpeg  \n",
      "  inflating: datasets/ros-nav/images/train/9980676000000.jpeg  \n",
      "  inflating: __MACOSX/datasets/ros-nav/images/train/._9980676000000.jpeg  \n",
      "  inflating: datasets/ros-nav/images/train/9989116000000.jpeg  \n",
      "  inflating: __MACOSX/datasets/ros-nav/images/train/._9989116000000.jpeg  \n",
      "  inflating: datasets/ros-nav/images/train/618878000000.jpeg  \n",
      "  inflating: __MACOSX/datasets/ros-nav/images/train/._618878000000.jpeg  \n",
      "  inflating: datasets/ros-nav/images/train/7793758000000.jpeg  \n",
      "  inflating: __MACOSX/datasets/ros-nav/images/train/._7793758000000.jpeg  \n",
      "  inflating: datasets/ros-nav/images/train/195312000000.jpeg  \n",
      "  inflating: __MACOSX/datasets/ros-nav/images/train/._195312000000.jpeg  \n",
      "  inflating: datasets/ros-nav/images/train/10146256000000.jpeg  \n",
      "  inflating: __MACOSX/datasets/ros-nav/images/train/._10146256000000.jpeg  \n",
      "  inflating: datasets/ros-nav/images/train/9406570000000.jpeg  \n",
      "  inflating: __MACOSX/datasets/ros-nav/images/train/._9406570000000.jpeg  \n",
      "  inflating: datasets/ros-nav/images/train/3800714000000.jpeg  \n",
      "  inflating: __MACOSX/datasets/ros-nav/images/train/._3800714000000.jpeg  \n",
      "  inflating: datasets/ros-nav/images/train/7769454000000.jpeg  \n",
      "  inflating: __MACOSX/datasets/ros-nav/images/train/._7769454000000.jpeg  \n",
      "  inflating: datasets/ros-nav/images/train/9667478000000.jpeg  \n",
      "  inflating: __MACOSX/datasets/ros-nav/images/train/._9667478000000.jpeg  \n",
      "  inflating: datasets/ros-nav/images/train/7757724000000.jpeg  \n",
      "  inflating: __MACOSX/datasets/ros-nav/images/train/._7757724000000.jpeg  \n",
      "  inflating: datasets/ros-nav/images/train/9709520000000.jpeg  \n",
      "  inflating: __MACOSX/datasets/ros-nav/images/train/._9709520000000.jpeg  \n",
      "  inflating: datasets/ros-nav/images/train/10170446000000.jpeg  \n",
      "  inflating: __MACOSX/datasets/ros-nav/images/train/._10170446000000.jpeg  \n",
      "  inflating: datasets/ros-nav/images/train/9595030000000.jpeg  \n",
      "  inflating: __MACOSX/datasets/ros-nav/images/train/._9595030000000.jpeg  \n",
      "  inflating: datasets/ros-nav/images/train/9528124000000.jpeg  \n",
      "  inflating: __MACOSX/datasets/ros-nav/images/train/._9528124000000.jpeg  \n",
      "  inflating: datasets/ros-nav/images/train/1345788000000.jpeg  \n",
      "  inflating: __MACOSX/datasets/ros-nav/images/train/._1345788000000.jpeg  \n",
      "  inflating: datasets/ros-nav/images/train/9375228000000.jpeg  \n",
      "  inflating: __MACOSX/datasets/ros-nav/images/train/._9375228000000.jpeg  \n",
      "  inflating: datasets/ros-nav/images/train/199402000000.jpeg  \n",
      "  inflating: __MACOSX/datasets/ros-nav/images/train/._199402000000.jpeg  \n",
      "  inflating: datasets/ros-nav/images/train/9625672000000.jpeg  \n",
      "  inflating: __MACOSX/datasets/ros-nav/images/train/._9625672000000.jpeg  \n",
      "  inflating: datasets/ros-nav/images/train/2711572000000.jpeg  \n",
      "  inflating: __MACOSX/datasets/ros-nav/images/train/._2711572000000.jpeg  \n",
      "  inflating: datasets/ros-nav/images/train/9927502000000.jpeg  \n",
      "  inflating: __MACOSX/datasets/ros-nav/images/train/._9927502000000.jpeg  \n",
      "  inflating: datasets/ros-nav/images/train/6159042000000.jpeg  \n",
      "  inflating: __MACOSX/datasets/ros-nav/images/train/._6159042000000.jpeg  \n",
      "  inflating: datasets/ros-nav/images/train/9367044000000.jpeg  \n",
      "  inflating: __MACOSX/datasets/ros-nav/images/train/._9367044000000.jpeg  \n",
      "  inflating: datasets/ros-nav/images/train/10177404000000.jpeg  \n",
      "  inflating: __MACOSX/datasets/ros-nav/images/train/._10177404000000.jpeg  \n",
      "  inflating: datasets/ros-nav/images/train/10149774000000.jpeg  \n",
      "  inflating: __MACOSX/datasets/ros-nav/images/train/._10149774000000.jpeg  \n",
      "  inflating: datasets/ros-nav/images/train/9677298000000.jpeg  \n",
      "  inflating: __MACOSX/datasets/ros-nav/images/train/._9677298000000.jpeg  \n",
      "  inflating: datasets/ros-nav/images/train/6166744000000.jpeg  \n",
      "  inflating: __MACOSX/datasets/ros-nav/images/train/._6166744000000.jpeg  \n",
      "  inflating: datasets/ros-nav/images/train/9948184000000.jpeg  \n",
      "  inflating: __MACOSX/datasets/ros-nav/images/train/._9948184000000.jpeg  \n",
      "  inflating: datasets/ros-nav/images/train/3852454000000.jpeg  \n",
      "  inflating: __MACOSX/datasets/ros-nav/images/train/._3852454000000.jpeg  \n",
      "  inflating: datasets/ros-nav/images/train/9863438000000.jpeg  \n",
      "  inflating: __MACOSX/datasets/ros-nav/images/train/._9863438000000.jpeg  \n",
      "  inflating: datasets/ros-nav/images/train/10020588000000.jpeg  \n",
      "  inflating: __MACOSX/datasets/ros-nav/images/train/._10020588000000.jpeg  \n",
      "  inflating: datasets/ros-nav/images/train/9520296000000.jpeg  \n",
      "  inflating: __MACOSX/datasets/ros-nav/images/train/._9520296000000.jpeg  \n",
      "  inflating: datasets/ros-nav/images/train/9847712000000.jpeg  \n",
      "  inflating: __MACOSX/datasets/ros-nav/images/train/._9847712000000.jpeg  \n",
      "  inflating: datasets/ros-nav/images/train/7786032000000.jpeg  \n",
      "  inflating: __MACOSX/datasets/ros-nav/images/train/._7786032000000.jpeg  \n",
      "  inflating: datasets/ros-nav/images/train/622302000000.jpeg  \n",
      "  inflating: __MACOSX/datasets/ros-nav/images/train/._622302000000.jpeg  \n",
      "  inflating: datasets/ros-nav/images/train/244642000000.jpeg  \n",
      "  inflating: __MACOSX/datasets/ros-nav/images/train/._244642000000.jpeg  \n",
      "  inflating: datasets/ros-nav/images/train/224020000000.jpeg  \n",
      "  inflating: __MACOSX/datasets/ros-nav/images/train/._224020000000.jpeg  \n",
      "  inflating: datasets/ros-nav/images/train/1335204000000.jpeg  \n",
      "  inflating: __MACOSX/datasets/ros-nav/images/train/._1335204000000.jpeg  \n",
      "  inflating: datasets/ros-nav/images/train/9851570000000.jpeg  \n",
      "  inflating: __MACOSX/datasets/ros-nav/images/train/._9851570000000.jpeg  \n",
      "  inflating: datasets/ros-nav/images/train/590808000000.jpeg  \n",
      "  inflating: __MACOSX/datasets/ros-nav/images/train/._590808000000.jpeg  \n",
      "  inflating: datasets/ros-nav/images/train/6188572000000.jpeg  \n",
      "  inflating: __MACOSX/datasets/ros-nav/images/train/._6188572000000.jpeg  \n",
      "  inflating: datasets/ros-nav/images/train/6178668000000.jpeg  \n",
      "  inflating: __MACOSX/datasets/ros-nav/images/train/._6178668000000.jpeg  \n",
      "  inflating: datasets/ros-nav/images/train/241264000000.jpeg  \n",
      "  inflating: __MACOSX/datasets/ros-nav/images/train/._241264000000.jpeg  \n",
      "  inflating: datasets/ros-nav/images/train/7765822000000.jpeg  \n",
      "  inflating: __MACOSX/datasets/ros-nav/images/train/._7765822000000.jpeg  \n",
      "  inflating: datasets/ros-nav/images/train/9984838000000.jpeg  \n",
      "  inflating: __MACOSX/datasets/ros-nav/images/train/._9984838000000.jpeg  \n",
      "  inflating: datasets/ros-nav/images/train/9589854000000.jpeg  \n",
      "  inflating: __MACOSX/datasets/ros-nav/images/train/._9589854000000.jpeg  \n",
      "  inflating: datasets/ros-nav/images/train/10016550000000.jpeg  \n",
      "  inflating: __MACOSX/datasets/ros-nav/images/train/._10016550000000.jpeg  \n",
      "  inflating: datasets/ros-nav/images/train/9859680000000.jpeg  \n",
      "  inflating: __MACOSX/datasets/ros-nav/images/train/._9859680000000.jpeg  \n",
      "  inflating: datasets/ros-nav/images/train/9993682000000.jpeg  \n",
      "  inflating: __MACOSX/datasets/ros-nav/images/train/._9993682000000.jpeg  \n",
      "  inflating: datasets/ros-nav/images/train/10166958000000.jpeg  \n",
      "  inflating: __MACOSX/datasets/ros-nav/images/train/._10166958000000.jpeg  \n",
      "  inflating: datasets/ros-nav/images/train/231008000000.jpeg  \n",
      "  inflating: __MACOSX/datasets/ros-nav/images/train/._231008000000.jpeg  \n",
      "  inflating: datasets/ros-nav/images/train/10139186000000.jpeg  \n",
      "  inflating: __MACOSX/datasets/ros-nav/images/train/._10139186000000.jpeg  \n",
      "  inflating: datasets/ros-nav/images/train/9943188000000.jpeg  \n",
      "  inflating: __MACOSX/datasets/ros-nav/images/train/._9943188000000.jpeg  \n",
      "  inflating: datasets/ros-nav/images/train/3818086000000.jpeg  \n",
      "  inflating: __MACOSX/datasets/ros-nav/images/train/._3818086000000.jpeg  \n",
      "  inflating: datasets/ros-nav/images/train/203316000000.jpeg  \n",
      "  inflating: __MACOSX/datasets/ros-nav/images/train/._203316000000.jpeg  \n",
      "  inflating: datasets/ros-nav/images/train/1320040000000.jpeg  \n",
      "  inflating: __MACOSX/datasets/ros-nav/images/train/._1320040000000.jpeg  \n",
      "  inflating: datasets/ros-nav/images/train/1331466000000.jpeg  \n",
      "  inflating: __MACOSX/datasets/ros-nav/images/train/._1331466000000.jpeg  \n",
      "  inflating: datasets/ros-nav/images/train/1338650000000.jpeg  \n",
      "  inflating: __MACOSX/datasets/ros-nav/images/train/._1338650000000.jpeg  \n",
      "  inflating: datasets/ros-nav/images/train/9536770000000.jpeg  \n",
      "  inflating: __MACOSX/datasets/ros-nav/images/train/._9536770000000.jpeg  \n",
      "  inflating: datasets/ros-nav/images/train/3593126000000.jpeg  \n",
      "  inflating: __MACOSX/datasets/ros-nav/images/train/._3593126000000.jpeg  \n",
      "  inflating: datasets/ros-nav/images/train/10071298000000.jpeg  \n",
      "  inflating: __MACOSX/datasets/ros-nav/images/train/._10071298000000.jpeg  \n",
      "  inflating: datasets/ros-nav/images/train/9621272000000.jpeg  \n",
      "  inflating: __MACOSX/datasets/ros-nav/images/train/._9621272000000.jpeg  \n",
      "  inflating: datasets/ros-nav/images/train/10012576000000.jpeg  \n",
      "  inflating: __MACOSX/datasets/ros-nav/images/train/._10012576000000.jpeg  \n",
      "  inflating: datasets/ros-nav/images/train/3582252000000.jpeg  \n",
      "  inflating: __MACOSX/datasets/ros-nav/images/train/._3582252000000.jpeg  \n",
      "  inflating: datasets/ros-nav/images/train/9511742000000.jpeg  \n",
      "  inflating: __MACOSX/datasets/ros-nav/images/train/._9511742000000.jpeg  \n",
      "  inflating: datasets/ros-nav/images/train/6162934000000.jpeg  \n",
      "  inflating: __MACOSX/datasets/ros-nav/images/train/._6162934000000.jpeg  \n",
      "  inflating: datasets/ros-nav/images/train/9905668000000.jpeg  \n",
      "  inflating: __MACOSX/datasets/ros-nav/images/train/._9905668000000.jpeg  \n",
      "  inflating: datasets/ros-nav/images/train/9552884000000.jpeg  \n",
      "  inflating: __MACOSX/datasets/ros-nav/images/train/._9552884000000.jpeg  \n",
      "  inflating: datasets/ros-nav/images/train/3599084000000.jpeg  \n",
      "  inflating: __MACOSX/datasets/ros-nav/images/train/._3599084000000.jpeg  \n",
      "  inflating: datasets/ros-nav/images/train/580250000000.jpeg  \n",
      "  inflating: __MACOSX/datasets/ros-nav/images/train/._580250000000.jpeg  \n",
      "  inflating: datasets/ros-nav/images/train/3804230000000.jpeg  \n",
      "  inflating: __MACOSX/datasets/ros-nav/images/train/._3804230000000.jpeg  \n",
      "  inflating: datasets/ros-nav/images/train/2715698000000.jpeg  \n",
      "  inflating: __MACOSX/datasets/ros-nav/images/train/._2715698000000.jpeg  \n",
      "  inflating: datasets/ros-nav/images/train/1323838000000.jpeg  \n",
      "  inflating: __MACOSX/datasets/ros-nav/images/train/._1323838000000.jpeg  \n",
      "  inflating: datasets/ros-nav/images/train/10053570000000.jpeg  \n",
      "  inflating: __MACOSX/datasets/ros-nav/images/train/._10053570000000.jpeg  \n",
      "  inflating: datasets/ros-nav/images/train/569036000000.jpeg  \n",
      "  inflating: __MACOSX/datasets/ros-nav/images/train/._569036000000.jpeg  \n",
      "  inflating: datasets/ros-nav/images/train/118824000000.jpeg  \n",
      "  inflating: __MACOSX/datasets/ros-nav/images/train/._118824000000.jpeg  \n",
      "  inflating: datasets/ros-nav/images/train/7762272000000.jpeg  \n",
      "  inflating: __MACOSX/datasets/ros-nav/images/train/._7762272000000.jpeg  \n",
      "  inflating: datasets/ros-nav/images/train/2703886000000.jpeg  \n",
      "  inflating: __MACOSX/datasets/ros-nav/images/train/._2703886000000.jpeg  \n",
      "  inflating: datasets/ros-nav/images/train/9542268000000.jpeg  \n",
      "  inflating: __MACOSX/datasets/ros-nav/images/train/._9542268000000.jpeg  \n",
      "  inflating: datasets/ros-nav/images/train/9559334000000.jpeg  \n",
      "  inflating: __MACOSX/datasets/ros-nav/images/train/._9559334000000.jpeg  \n",
      "  inflating: datasets/ros-nav/images/train/9922840000000.jpeg  \n",
      "  inflating: __MACOSX/datasets/ros-nav/images/train/._9922840000000.jpeg  \n",
      "  inflating: datasets/ros-nav/images/train/9603704000000.jpeg  \n",
      "  inflating: __MACOSX/datasets/ros-nav/images/train/._9603704000000.jpeg  \n",
      "  inflating: datasets/ros-nav/images/train/2685738000000.jpeg  \n",
      "  inflating: __MACOSX/datasets/ros-nav/images/train/._2685738000000.jpeg  \n",
      "  inflating: datasets/ros-nav/images/train/83850000000.jpeg  \n",
      "  inflating: __MACOSX/datasets/ros-nav/images/train/._83850000000.jpeg  \n",
      "  inflating: datasets/ros-nav/images/train/134198000000.jpeg  \n",
      "  inflating: __MACOSX/datasets/ros-nav/images/train/._134198000000.jpeg  \n",
      "  inflating: datasets/ros-nav/images/train/2691222000000.jpeg  \n",
      "  inflating: __MACOSX/datasets/ros-nav/images/train/._2691222000000.jpeg  \n",
      "  inflating: datasets/ros-nav/images/train/9833468000000.jpeg  \n",
      "  inflating: __MACOSX/datasets/ros-nav/images/train/._9833468000000.jpeg  \n",
      "  inflating: datasets/ros-nav/images/train/576342000000.jpeg  \n",
      "  inflating: __MACOSX/datasets/ros-nav/images/train/._576342000000.jpeg  \n",
      "  inflating: datasets/ros-nav/images/train/6192074000000.jpeg  \n",
      "  inflating: __MACOSX/datasets/ros-nav/images/train/._6192074000000.jpeg  \n",
      "  inflating: datasets/ros-nav/images/train/9629754000000.jpeg  \n",
      "  inflating: __MACOSX/datasets/ros-nav/images/train/._9629754000000.jpeg  \n",
      "  inflating: datasets/ros-nav/images/train/7797286000000.jpeg  \n",
      "  inflating: __MACOSX/datasets/ros-nav/images/train/._7797286000000.jpeg  \n",
      "  inflating: datasets/ros-nav/images/train/3607398000000.jpeg  \n",
      "  inflating: __MACOSX/datasets/ros-nav/images/train/._3607398000000.jpeg  \n",
      "  inflating: datasets/ros-nav/images/train/9402460000000.jpeg  \n",
      "  inflating: __MACOSX/datasets/ros-nav/images/train/._9402460000000.jpeg  \n",
      "  inflating: datasets/ros-nav/images/train/10029168000000.jpeg  \n",
      "  inflating: __MACOSX/datasets/ros-nav/images/train/._10029168000000.jpeg  \n",
      "  inflating: datasets/ros-nav/images/train/10007806000000.jpeg  \n",
      "  inflating: __MACOSX/datasets/ros-nav/images/train/._10007806000000.jpeg  \n",
      "  inflating: datasets/ros-nav/images/train/213400000000.jpeg  \n",
      "  inflating: __MACOSX/datasets/ros-nav/images/train/._213400000000.jpeg  \n",
      "  inflating: datasets/ros-nav/images/train/10101290000000.jpeg  \n",
      "  inflating: __MACOSX/datasets/ros-nav/images/train/._10101290000000.jpeg  \n",
      "  inflating: datasets/ros-nav/images/train/10085610000000.jpeg  \n",
      "  inflating: __MACOSX/datasets/ros-nav/images/train/._10085610000000.jpeg  \n",
      "  inflating: datasets/ros-nav/images/train/9693172000000.jpeg  \n",
      "  inflating: __MACOSX/datasets/ros-nav/images/train/._9693172000000.jpeg  \n",
      "  inflating: datasets/ros-nav/images/train/9532694000000.jpeg  \n",
      "  inflating: __MACOSX/datasets/ros-nav/images/train/._9532694000000.jpeg  \n",
      "  inflating: datasets/ros-nav/images/train/9697216000000.jpeg  \n",
      "  inflating: __MACOSX/datasets/ros-nav/images/train/._9697216000000.jpeg  \n",
      "  inflating: datasets/ros-nav/images/train/9390060000000.jpeg  \n",
      "  inflating: __MACOSX/datasets/ros-nav/images/train/._9390060000000.jpeg  \n",
      "  inflating: datasets/ros-nav/images/train/216880000000.jpeg  \n",
      "  inflating: __MACOSX/datasets/ros-nav/images/train/._216880000000.jpeg  \n",
      "  inflating: datasets/ros-nav/images/train/10047582000000.jpeg  \n",
      "  inflating: __MACOSX/datasets/ros-nav/images/train/._10047582000000.jpeg  \n",
      "  inflating: datasets/ros-nav/images/train/9918282000000.jpeg  \n",
      "  inflating: __MACOSX/datasets/ros-nav/images/train/._9918282000000.jpeg  \n",
      "  inflating: datasets/ros-nav/images/train/9663446000000.jpeg  \n",
      "  inflating: __MACOSX/datasets/ros-nav/images/train/._9663446000000.jpeg  \n",
      "  inflating: datasets/ros-nav/images/train/7804492000000.jpeg  \n",
      "  inflating: __MACOSX/datasets/ros-nav/images/train/._7804492000000.jpeg  \n",
      "  inflating: datasets/ros-nav/images/train/7781594000000.jpeg  \n",
      "  inflating: __MACOSX/datasets/ros-nav/images/train/._7781594000000.jpeg  \n",
      "  inflating: datasets/ros-nav/images/train/9937992000000.jpeg  \n",
      "  inflating: __MACOSX/datasets/ros-nav/images/train/._9937992000000.jpeg  \n",
      "  inflating: datasets/ros-nav/images/train/206676000000.jpeg  \n",
      "  inflating: __MACOSX/datasets/ros-nav/images/train/._206676000000.jpeg  \n",
      "  inflating: datasets/ros-nav/images/train/9828100000000.jpeg  \n",
      "  inflating: __MACOSX/datasets/ros-nav/images/train/._9828100000000.jpeg  \n",
      "  inflating: datasets/ros-nav/images/train/123854000000.jpeg  \n",
      "  inflating: __MACOSX/datasets/ros-nav/images/train/._123854000000.jpeg  \n",
      "  inflating: datasets/ros-nav/images/train/3614992000000.jpeg  \n",
      "  inflating: __MACOSX/datasets/ros-nav/images/train/._3614992000000.jpeg  \n",
      "  inflating: datasets/ros-nav/images/val/10160112000000.jpeg  \n",
      "  inflating: __MACOSX/datasets/ros-nav/images/val/._10160112000000.jpeg  \n",
      "  inflating: datasets/ros-nav/images/val/1301140000000.jpeg  \n",
      "  inflating: __MACOSX/datasets/ros-nav/images/val/._1301140000000.jpeg  \n",
      "  inflating: datasets/ros-nav/images/val/598460000000.jpeg  \n",
      "  inflating: __MACOSX/datasets/ros-nav/images/val/._598460000000.jpeg  \n",
      "  inflating: datasets/ros-nav/images/val/3829222000000.jpeg  \n",
      "  inflating: __MACOSX/datasets/ros-nav/images/val/._3829222000000.jpeg  \n",
      "  inflating: datasets/ros-nav/images/val/9524140000000.jpeg  \n",
      "  inflating: __MACOSX/datasets/ros-nav/images/val/._9524140000000.jpeg  \n",
      "  inflating: datasets/ros-nav/images/val/2675932000000.jpeg  \n",
      "  inflating: __MACOSX/datasets/ros-nav/images/val/._2675932000000.jpeg  \n",
      "  inflating: datasets/ros-nav/images/val/587470000000.jpeg  \n",
      "  inflating: __MACOSX/datasets/ros-nav/images/val/._587470000000.jpeg  \n",
      "  inflating: datasets/ros-nav/images/val/3587368000000.jpeg  \n",
      "  inflating: __MACOSX/datasets/ros-nav/images/val/._3587368000000.jpeg  \n",
      "  inflating: datasets/ros-nav/images/val/227518000000.jpeg  \n",
      "  inflating: __MACOSX/datasets/ros-nav/images/val/._227518000000.jpeg  \n",
      "  inflating: datasets/ros-nav/images/val/2724130000000.jpeg  \n",
      "  inflating: __MACOSX/datasets/ros-nav/images/val/._2724130000000.jpeg  \n",
      "  inflating: datasets/ros-nav/images/val/9998598000000.jpeg  \n",
      "  inflating: __MACOSX/datasets/ros-nav/images/val/._9998598000000.jpeg  \n",
      "  inflating: datasets/ros-nav/images/val/9713564000000.jpeg  \n",
      "  inflating: __MACOSX/datasets/ros-nav/images/val/._9713564000000.jpeg  \n",
      "  inflating: datasets/ros-nav/images/val/602024000000.jpeg  \n",
      "  inflating: __MACOSX/datasets/ros-nav/images/val/._602024000000.jpeg  \n",
      "  inflating: datasets/ros-nav/images/val/9701042000000.jpeg  \n",
      "  inflating: __MACOSX/datasets/ros-nav/images/val/._9701042000000.jpeg  \n",
      "  inflating: datasets/ros-nav/images/val/9637644000000.jpeg  \n",
      "  inflating: __MACOSX/datasets/ros-nav/images/val/._9637644000000.jpeg  \n",
      "  inflating: datasets/ros-nav/images/val/7800904000000.jpeg  \n",
      "  inflating: __MACOSX/datasets/ros-nav/images/val/._7800904000000.jpeg  \n",
      "  inflating: datasets/ros-nav/images/val/210130000000.jpeg  \n",
      "  inflating: __MACOSX/datasets/ros-nav/images/val/._210130000000.jpeg  \n",
      "  inflating: datasets/ros-nav/images/val/7776678000000.jpeg  \n",
      "  inflating: __MACOSX/datasets/ros-nav/images/val/._7776678000000.jpeg  \n",
      "  inflating: datasets/ros-nav/images/val/612378000000.jpeg  \n",
      "  inflating: __MACOSX/datasets/ros-nav/images/val/._612378000000.jpeg  \n",
      "  inflating: datasets/ros-nav/images/val/9608066000000.jpeg  \n",
      "  inflating: __MACOSX/datasets/ros-nav/images/val/._9608066000000.jpeg  \n",
      "  inflating: datasets/ros-nav/images/val/9872800000000.jpeg  \n",
      "  inflating: __MACOSX/datasets/ros-nav/images/val/._9872800000000.jpeg  \n",
      "  inflating: datasets/ros-nav/images/val/572574000000.jpeg  \n",
      "  inflating: __MACOSX/datasets/ros-nav/images/val/._572574000000.jpeg  \n",
      "  inflating: datasets/ros-nav/images/val/3842292000000.jpeg  \n",
      "  inflating: __MACOSX/datasets/ros-nav/images/val/._3842292000000.jpeg  \n",
      "  inflating: datasets/ros-nav/images/val/10065596000000.jpeg  \n",
      "  inflating: __MACOSX/datasets/ros-nav/images/val/._10065596000000.jpeg  \n",
      "  inflating: datasets/ros-nav/images/val/9379898000000.jpeg  \n",
      "  inflating: __MACOSX/datasets/ros-nav/images/val/._9379898000000.jpeg  \n",
      "  inflating: datasets/ros-nav/images/val/9612378000000.jpeg  \n",
      "  inflating: __MACOSX/datasets/ros-nav/images/val/._9612378000000.jpeg  \n",
      "  inflating: datasets/ros-nav/images/val/10163480000000.jpeg  \n",
      "  inflating: __MACOSX/datasets/ros-nav/images/val/._10163480000000.jpeg  \n",
      "  inflating: datasets/ros-nav/images/val/1308518000000.jpeg  \n",
      "  inflating: __MACOSX/datasets/ros-nav/images/val/._1308518000000.jpeg  \n",
      "  inflating: datasets/ros-nav/images/val/9683232000000.jpeg  \n",
      "  inflating: __MACOSX/datasets/ros-nav/images/val/._9683232000000.jpeg  \n",
      "  inflating: datasets/ros-nav/images/val/9822798000000.jpeg  \n",
      "  inflating: __MACOSX/datasets/ros-nav/images/val/._9822798000000.jpeg  \n",
      "  inflating: datasets/ros-nav/images/val/9838674000000.jpeg  \n",
      "  inflating: __MACOSX/datasets/ros-nav/images/val/._9838674000000.jpeg  \n",
      "  inflating: datasets/ros-nav/images/val/2700048000000.jpeg  \n",
      "  inflating: __MACOSX/datasets/ros-nav/images/val/._2700048000000.jpeg  \n",
      "  inflating: datasets/ros-nav/images/val/10153090000000.jpeg  \n",
      "  inflating: __MACOSX/datasets/ros-nav/images/val/._10153090000000.jpeg  \n",
      "  inflating: datasets/ros-nav/images/val/9659120000000.jpeg  \n",
      "  inflating: __MACOSX/datasets/ros-nav/images/val/._9659120000000.jpeg  \n",
      "  inflating: datasets/ros-nav/images/val/6202622000000.jpeg  \n",
      "  inflating: __MACOSX/datasets/ros-nav/images/val/._6202622000000.jpeg  \n",
      "  inflating: datasets/ros-nav/images/val/6174362000000.jpeg  \n",
      "  inflating: __MACOSX/datasets/ros-nav/images/val/._6174362000000.jpeg  \n",
      "  inflating: datasets/ros-nav/images/val/10130882000000.jpeg  \n",
      "  inflating: __MACOSX/datasets/ros-nav/images/val/._10130882000000.jpeg  \n",
      "  inflating: datasets/ros-nav/images/val/10059882000000.jpeg  \n",
      "  inflating: __MACOSX/datasets/ros-nav/images/val/._10059882000000.jpeg  \n",
      "  inflating: datasets/ros-nav/images/val/1312068000000.jpeg  \n",
      "  inflating: __MACOSX/datasets/ros-nav/images/val/._1312068000000.jpeg  \n",
      "  inflating: datasets/ros-nav/images/val/6195730000000.jpeg  \n",
      "  inflating: __MACOSX/datasets/ros-nav/images/val/._6195730000000.jpeg  \n",
      "  inflating: datasets/ros-nav/images/val/9855422000000.jpeg  \n",
      "  inflating: __MACOSX/datasets/ros-nav/images/val/._9855422000000.jpeg  \n",
      "  inflating: datasets/ros-nav/images/val/3811168000000.jpeg  \n",
      "  inflating: __MACOSX/datasets/ros-nav/images/val/._3811168000000.jpeg  \n",
      "  inflating: datasets/ros-nav/images/val/10076148000000.jpeg  \n",
      "  inflating: __MACOSX/datasets/ros-nav/images/val/._10076148000000.jpeg  \n",
      "  inflating: datasets/ros-nav/images/val/9952370000000.jpeg  \n",
      "  inflating: __MACOSX/datasets/ros-nav/images/val/._9952370000000.jpeg  \n",
      "  inflating: datasets/ros-nav/images/val/3565772000000.jpeg  \n",
      "  inflating: __MACOSX/datasets/ros-nav/images/val/._3565772000000.jpeg  \n",
      "  inflating: datasets/ros-nav/images/val/3856212000000.jpeg  \n",
      "  inflating: __MACOSX/datasets/ros-nav/images/val/._3856212000000.jpeg  \n",
      "  inflating: datasets/ros-nav/images/val/9617274000000.jpeg  \n",
      "  inflating: __MACOSX/datasets/ros-nav/images/val/._9617274000000.jpeg  \n",
      "  inflating: datasets/ros-nav/images/val/3821940000000.jpeg  \n",
      "  inflating: __MACOSX/datasets/ros-nav/images/val/._3821940000000.jpeg  \n",
      "  inflating: datasets/ros-nav/labels/train/6170336000000.txt  \n",
      "  inflating: __MACOSX/datasets/ros-nav/labels/train/._6170336000000.txt  \n",
      "  inflating: datasets/ros-nav/labels/train/1345788000000.txt  \n",
      "  inflating: __MACOSX/datasets/ros-nav/labels/train/._1345788000000.txt  \n",
      "  inflating: datasets/ros-nav/labels/train/9931636000000.txt  \n",
      "  inflating: __MACOSX/datasets/ros-nav/labels/train/._9931636000000.txt  \n",
      "  inflating: datasets/ros-nav/labels/train/234434000000.txt  \n",
      "  inflating: __MACOSX/datasets/ros-nav/labels/train/._234434000000.txt  \n",
      "  inflating: datasets/ros-nav/labels/train/203316000000.txt  \n",
      "  inflating: __MACOSX/datasets/ros-nav/labels/train/._203316000000.txt  \n",
      "  inflating: datasets/ros-nav/labels/train/6207292000000.txt  \n",
      "  inflating: __MACOSX/datasets/ros-nav/labels/train/._6207292000000.txt  \n",
      "  inflating: datasets/ros-nav/labels/train/9677298000000.txt  \n",
      "  inflating: __MACOSX/datasets/ros-nav/labels/train/._9677298000000.txt  \n",
      "  inflating: datasets/ros-nav/labels/train/9688720000000.txt  \n",
      "  inflating: __MACOSX/datasets/ros-nav/labels/train/._9688720000000.txt  \n",
      "  inflating: datasets/ros-nav/labels/train/9367044000000.txt  \n",
      "  inflating: __MACOSX/datasets/ros-nav/labels/train/._9367044000000.txt  \n",
      "  inflating: datasets/ros-nav/labels/train/2715698000000.txt  \n",
      "  inflating: __MACOSX/datasets/ros-nav/labels/train/._2715698000000.txt  \n",
      "  inflating: datasets/ros-nav/labels/train/9633644000000.txt  \n",
      "  inflating: __MACOSX/datasets/ros-nav/labels/train/._9633644000000.txt  \n",
      "  inflating: datasets/ros-nav/labels/train/9976308000000.txt  \n",
      "  inflating: __MACOSX/datasets/ros-nav/labels/train/._9976308000000.txt  \n",
      "  inflating: datasets/ros-nav/labels/train/9625672000000.txt  \n",
      "  inflating: __MACOSX/datasets/ros-nav/labels/train/._9625672000000.txt  \n",
      "  inflating: datasets/ros-nav/labels/train/10024384000000.txt  \n",
      "  inflating: __MACOSX/datasets/ros-nav/labels/train/._10024384000000.txt  \n",
      "  inflating: datasets/ros-nav/labels/train/206676000000.txt  \n",
      "  inflating: __MACOSX/datasets/ros-nav/labels/train/._206676000000.txt  \n",
      "  inflating: datasets/ros-nav/labels/train/3582252000000.txt  \n",
      "  inflating: __MACOSX/datasets/ros-nav/labels/train/._3582252000000.txt  \n",
      "  inflating: datasets/ros-nav/labels/train/9705284000000.txt  \n",
      "  inflating: __MACOSX/datasets/ros-nav/labels/train/._9705284000000.txt  \n",
      "  inflating: datasets/ros-nav/labels/train/609352000000.txt  \n",
      "  inflating: __MACOSX/datasets/ros-nav/labels/train/._609352000000.txt  \n",
      "  inflating: datasets/ros-nav/labels/train/9671636000000.txt  \n",
      "  inflating: __MACOSX/datasets/ros-nav/labels/train/._9671636000000.txt  \n",
      "  inflating: datasets/ros-nav/labels/train/9603704000000.txt  \n",
      "  inflating: __MACOSX/datasets/ros-nav/labels/train/._9603704000000.txt  \n",
      "  inflating: datasets/ros-nav/labels/train/9905668000000.txt  \n",
      "  inflating: __MACOSX/datasets/ros-nav/labels/train/._9905668000000.txt  \n",
      "  inflating: datasets/ros-nav/labels/train/1338650000000.txt  \n",
      "  inflating: __MACOSX/datasets/ros-nav/labels/train/._1338650000000.txt  \n",
      "  inflating: datasets/ros-nav/labels/train/10029168000000.txt  \n",
      "  inflating: __MACOSX/datasets/ros-nav/labels/train/._10029168000000.txt  \n",
      "  inflating: datasets/ros-nav/labels/train/2696300000000.txt  \n",
      "  inflating: __MACOSX/datasets/ros-nav/labels/train/._2696300000000.txt  \n",
      "  inflating: datasets/ros-nav/labels/train/9599332000000.txt  \n",
      "  inflating: __MACOSX/datasets/ros-nav/labels/train/._9599332000000.txt  \n",
      "  inflating: datasets/ros-nav/labels/train/9863438000000.txt  \n",
      "  inflating: __MACOSX/datasets/ros-nav/labels/train/._9863438000000.txt  \n",
      "  inflating: datasets/ros-nav/labels/train/10146256000000.txt  \n",
      "  inflating: __MACOSX/datasets/ros-nav/labels/train/._10146256000000.txt  \n",
      "  inflating: datasets/ros-nav/labels/train/10127080000000.txt  \n",
      "  inflating: __MACOSX/datasets/ros-nav/labels/train/._10127080000000.txt  \n",
      "  inflating: datasets/ros-nav/labels/train/7786032000000.txt  \n",
      "  inflating: __MACOSX/datasets/ros-nav/labels/train/._7786032000000.txt  \n",
      "  inflating: datasets/ros-nav/labels/train/2707730000000.txt  \n",
      "  inflating: __MACOSX/datasets/ros-nav/labels/train/._2707730000000.txt  \n",
      "  inflating: datasets/ros-nav/labels/train/10016550000000.txt  \n",
      "  inflating: __MACOSX/datasets/ros-nav/labels/train/._10016550000000.txt  \n",
      "  inflating: datasets/ros-nav/labels/train/1304878000000.txt  \n",
      "  inflating: __MACOSX/datasets/ros-nav/labels/train/._1304878000000.txt  \n",
      "  inflating: datasets/ros-nav/labels/train/9851570000000.txt  \n",
      "  inflating: __MACOSX/datasets/ros-nav/labels/train/._9851570000000.txt  \n",
      "  inflating: datasets/ros-nav/labels/train/9980676000000.txt  \n",
      "  inflating: __MACOSX/datasets/ros-nav/labels/train/._9980676000000.txt  \n",
      "  inflating: datasets/ros-nav/labels/train/605480000000.txt  \n",
      "  inflating: __MACOSX/datasets/ros-nav/labels/train/._605480000000.txt  \n",
      "  inflating: datasets/ros-nav/labels/train/7772944000000.txt  \n",
      "  inflating: __MACOSX/datasets/ros-nav/labels/train/._7772944000000.txt  \n",
      "  inflating: datasets/ros-nav/labels/train/7757724000000.txt  \n",
      "  inflating: __MACOSX/datasets/ros-nav/labels/train/._7757724000000.txt  \n",
      "  inflating: datasets/ros-nav/labels/train/9867746000000.txt  \n",
      "  inflating: __MACOSX/datasets/ros-nav/labels/train/._9867746000000.txt  \n",
      "  inflating: datasets/ros-nav/labels/train/113430000000.txt  \n",
      "  inflating: __MACOSX/datasets/ros-nav/labels/train/._113430000000.txt  \n",
      "  inflating: datasets/ros-nav/labels/train/618878000000.txt  \n",
      "  inflating: __MACOSX/datasets/ros-nav/labels/train/._618878000000.txt  \n",
      "  inflating: datasets/ros-nav/labels/train/9385218000000.txt  \n",
      "  inflating: __MACOSX/datasets/ros-nav/labels/train/._9385218000000.txt  \n",
      "  inflating: datasets/ros-nav/labels/train/10081130000000.txt  \n",
      "  inflating: __MACOSX/datasets/ros-nav/labels/train/._10081130000000.txt  \n",
      "  inflating: datasets/ros-nav/labels/train/3818086000000.txt  \n",
      "  inflating: __MACOSX/datasets/ros-nav/labels/train/._3818086000000.txt  \n",
      "  inflating: datasets/ros-nav/labels/train/9948184000000.txt  \n",
      "  inflating: __MACOSX/datasets/ros-nav/labels/train/._9948184000000.txt  \n",
      "  inflating: datasets/ros-nav/labels/train/10123244000000.txt  \n",
      "  inflating: __MACOSX/datasets/ros-nav/labels/train/._10123244000000.txt  \n",
      "  inflating: datasets/ros-nav/labels/train/9943188000000.txt  \n",
      "  inflating: __MACOSX/datasets/ros-nav/labels/train/._9943188000000.txt  \n",
      "  inflating: datasets/ros-nav/labels/train/590808000000.txt  \n",
      "  inflating: __MACOSX/datasets/ros-nav/labels/train/._590808000000.txt  \n",
      "  inflating: datasets/ros-nav/labels/train/2711572000000.txt  \n",
      "  inflating: __MACOSX/datasets/ros-nav/labels/train/._2711572000000.txt  \n",
      "  inflating: datasets/ros-nav/labels/train/9693172000000.txt  \n",
      "  inflating: __MACOSX/datasets/ros-nav/labels/train/._9693172000000.txt  \n",
      "  inflating: datasets/ros-nav/labels/train/220406000000.txt  \n",
      "  inflating: __MACOSX/datasets/ros-nav/labels/train/._220406000000.txt  \n",
      "  inflating: datasets/ros-nav/labels/train/134198000000.txt  \n",
      "  inflating: __MACOSX/datasets/ros-nav/labels/train/._134198000000.txt  \n",
      "  inflating: datasets/ros-nav/labels/train/615404000000.txt  \n",
      "  inflating: __MACOSX/datasets/ros-nav/labels/train/._615404000000.txt  \n",
      "  inflating: datasets/ros-nav/labels/train/6178668000000.txt  \n",
      "  inflating: __MACOSX/datasets/ros-nav/labels/train/._6178668000000.txt  \n",
      "  inflating: datasets/ros-nav/labels/train/3577526000000.txt  \n",
      "  inflating: __MACOSX/datasets/ros-nav/labels/train/._3577526000000.txt  \n",
      "  inflating: datasets/ros-nav/labels/train/89280000000.txt  \n",
      "  inflating: __MACOSX/datasets/ros-nav/labels/train/._89280000000.txt  \n",
      "  inflating: datasets/ros-nav/labels/train/83850000000.txt  \n",
      "  inflating: __MACOSX/datasets/ros-nav/labels/train/._83850000000.txt  \n",
      "  inflating: datasets/ros-nav/labels/train/10071298000000.txt  \n",
      "  inflating: __MACOSX/datasets/ros-nav/labels/train/._10071298000000.txt  \n",
      "  inflating: datasets/ros-nav/labels/train/9371100000000.txt  \n",
      "  inflating: __MACOSX/datasets/ros-nav/labels/train/._9371100000000.txt  \n",
      "  inflating: datasets/ros-nav/labels/train/118824000000.txt  \n",
      "  inflating: __MACOSX/datasets/ros-nav/labels/train/._118824000000.txt  \n",
      "  inflating: datasets/ros-nav/labels/train/7797286000000.txt  \n",
      "  inflating: __MACOSX/datasets/ros-nav/labels/train/._7797286000000.txt  \n",
      "  inflating: datasets/ros-nav/labels/train/93716000000.txt  \n",
      "  inflating: __MACOSX/datasets/ros-nav/labels/train/._93716000000.txt  \n",
      "  inflating: datasets/ros-nav/labels/train/10093538000000.txt  \n",
      "  inflating: __MACOSX/datasets/ros-nav/labels/train/._10093538000000.txt  \n",
      "  inflating: datasets/ros-nav/labels/train/9375228000000.txt  \n",
      "  inflating: __MACOSX/datasets/ros-nav/labels/train/._9375228000000.txt  \n",
      "  inflating: datasets/ros-nav/labels/train/10149774000000.txt  \n",
      "  inflating: __MACOSX/datasets/ros-nav/labels/train/._10149774000000.txt  \n",
      "  inflating: datasets/ros-nav/labels/train/9984838000000.txt  \n",
      "  inflating: __MACOSX/datasets/ros-nav/labels/train/._9984838000000.txt  \n",
      "  inflating: datasets/ros-nav/labels/train/1327488000000.txt  \n",
      "  inflating: __MACOSX/datasets/ros-nav/labels/train/._1327488000000.txt  \n",
      "  inflating: datasets/ros-nav/labels/train/10085610000000.txt  \n",
      "  inflating: __MACOSX/datasets/ros-nav/labels/train/._10085610000000.txt  \n",
      "  inflating: datasets/ros-nav/labels/train/9402460000000.txt  \n",
      "  inflating: __MACOSX/datasets/ros-nav/labels/train/._9402460000000.txt  \n",
      "  inflating: datasets/ros-nav/labels/train/9621272000000.txt  \n",
      "  inflating: __MACOSX/datasets/ros-nav/labels/train/._9621272000000.txt  \n",
      "  inflating: datasets/ros-nav/labels/train/3839168000000.txt  \n",
      "  inflating: __MACOSX/datasets/ros-nav/labels/train/._3839168000000.txt  \n",
      "  inflating: datasets/ros-nav/labels/train/9536770000000.txt  \n",
      "  inflating: __MACOSX/datasets/ros-nav/labels/train/._9536770000000.txt  \n",
      "  inflating: datasets/ros-nav/labels/train/7781594000000.txt  \n",
      "  inflating: __MACOSX/datasets/ros-nav/labels/train/._7781594000000.txt  \n",
      "  inflating: datasets/ros-nav/labels/train/2703886000000.txt  \n",
      "  inflating: __MACOSX/datasets/ros-nav/labels/train/._2703886000000.txt  \n",
      "  inflating: datasets/ros-nav/labels/train/9546842000000.txt  \n",
      "  inflating: __MACOSX/datasets/ros-nav/labels/train/._9546842000000.txt  \n",
      "  inflating: datasets/ros-nav/labels/train/3599084000000.txt  \n",
      "  inflating: __MACOSX/datasets/ros-nav/labels/train/._3599084000000.txt  \n",
      "  inflating: datasets/ros-nav/labels/train/9828100000000.txt  \n",
      "  inflating: __MACOSX/datasets/ros-nav/labels/train/._9828100000000.txt  \n",
      "  inflating: datasets/ros-nav/labels/train/9667478000000.txt  \n",
      "  inflating: __MACOSX/datasets/ros-nav/labels/train/._9667478000000.txt  \n",
      "  inflating: datasets/ros-nav/labels/train/123854000000.txt  \n",
      "  inflating: __MACOSX/datasets/ros-nav/labels/train/._123854000000.txt  \n",
      "  inflating: datasets/ros-nav/labels/train/3852454000000.txt  \n",
      "  inflating: __MACOSX/datasets/ros-nav/labels/train/._3852454000000.txt  \n",
      "  inflating: datasets/ros-nav/labels/train/3614992000000.txt  \n",
      "  inflating: __MACOSX/datasets/ros-nav/labels/train/._3614992000000.txt  \n",
      "  inflating: datasets/ros-nav/labels/train/576342000000.txt  \n",
      "  inflating: __MACOSX/datasets/ros-nav/labels/train/._576342000000.txt  \n",
      "  inflating: datasets/ros-nav/labels/train/224020000000.txt  \n",
      "  inflating: __MACOSX/datasets/ros-nav/labels/train/._224020000000.txt  \n",
      "  inflating: datasets/ros-nav/labels/train/10007806000000.txt  \n",
      "  inflating: __MACOSX/datasets/ros-nav/labels/train/._10007806000000.txt  \n",
      "  inflating: datasets/ros-nav/labels/train/1349288000000.txt  \n",
      "  inflating: __MACOSX/datasets/ros-nav/labels/train/._1349288000000.txt  \n",
      "  inflating: datasets/ros-nav/labels/train/10142638000000.txt  \n",
      "  inflating: __MACOSX/datasets/ros-nav/labels/train/._10142638000000.txt  \n",
      "  inflating: datasets/ros-nav/labels/train/2691222000000.txt  \n",
      "  inflating: __MACOSX/datasets/ros-nav/labels/train/._2691222000000.txt  \n",
      "  inflating: datasets/ros-nav/labels/train/2680434000000.txt  \n",
      "  inflating: __MACOSX/datasets/ros-nav/labels/train/._2680434000000.txt  \n",
      "  inflating: datasets/ros-nav/labels/train/3607398000000.txt  \n",
      "  inflating: __MACOSX/datasets/ros-nav/labels/train/._3607398000000.txt  \n",
      "  inflating: datasets/ros-nav/labels/train/1323838000000.txt  \n",
      "  inflating: __MACOSX/datasets/ros-nav/labels/train/._1323838000000.txt  \n",
      "  inflating: datasets/ros-nav/labels/train/10156518000000.txt  \n",
      "  inflating: __MACOSX/datasets/ros-nav/labels/train/._10156518000000.txt  \n",
      "  inflating: datasets/ros-nav/labels/train/9520296000000.txt  \n",
      "  inflating: __MACOSX/datasets/ros-nav/labels/train/._9520296000000.txt  \n",
      "  inflating: datasets/ros-nav/labels/train/9414800000000.txt  \n",
      "  inflating: __MACOSX/datasets/ros-nav/labels/train/._9414800000000.txt  \n",
      "  inflating: datasets/ros-nav/labels/train/216880000000.txt  \n",
      "  inflating: __MACOSX/datasets/ros-nav/labels/train/._216880000000.txt  \n",
      "  inflating: datasets/ros-nav/labels/train/10047582000000.txt  \n",
      "  inflating: __MACOSX/datasets/ros-nav/labels/train/._10047582000000.txt  \n",
      "  inflating: datasets/ros-nav/labels/train/3593126000000.txt  \n",
      "  inflating: __MACOSX/datasets/ros-nav/labels/train/._3593126000000.txt  \n",
      "  inflating: datasets/ros-nav/labels/train/1335204000000.txt  \n",
      "  inflating: __MACOSX/datasets/ros-nav/labels/train/._1335204000000.txt  \n",
      "  inflating: datasets/ros-nav/labels/train/9709520000000.txt  \n",
      "  inflating: __MACOSX/datasets/ros-nav/labels/train/._9709520000000.txt  \n",
      "  inflating: datasets/ros-nav/labels/train/7793758000000.txt  \n",
      "  inflating: __MACOSX/datasets/ros-nav/labels/train/._7793758000000.txt  \n",
      "  inflating: datasets/ros-nav/labels/train/9847712000000.txt  \n",
      "  inflating: __MACOSX/datasets/ros-nav/labels/train/._9847712000000.txt  \n",
      "  inflating: datasets/ros-nav/labels/train/6188572000000.txt  \n",
      "  inflating: __MACOSX/datasets/ros-nav/labels/train/._6188572000000.txt  \n",
      "  inflating: datasets/ros-nav/labels/train/3832426000000.txt  \n",
      "  inflating: __MACOSX/datasets/ros-nav/labels/train/._3832426000000.txt  \n",
      "  inflating: datasets/ros-nav/labels/train/580250000000.txt  \n",
      "  inflating: __MACOSX/datasets/ros-nav/labels/train/._580250000000.txt  \n",
      "  inflating: datasets/ros-nav/labels/train/9532694000000.txt  \n",
      "  inflating: __MACOSX/datasets/ros-nav/labels/train/._9532694000000.txt  \n",
      "  inflating: datasets/ros-nav/labels/train/9390060000000.txt  \n",
      "  inflating: __MACOSX/datasets/ros-nav/labels/train/._9390060000000.txt  \n",
      "  inflating: datasets/ros-nav/labels/train/10053570000000.txt  \n",
      "  inflating: __MACOSX/datasets/ros-nav/labels/train/._10053570000000.txt  \n",
      "  inflating: datasets/ros-nav/labels/train/3571336000000.txt  \n",
      "  inflating: __MACOSX/datasets/ros-nav/labels/train/._3571336000000.txt  \n",
      "  inflating: datasets/ros-nav/labels/train/9410438000000.txt  \n",
      "  inflating: __MACOSX/datasets/ros-nav/labels/train/._9410438000000.txt  \n",
      "  inflating: datasets/ros-nav/labels/train/129180000000.txt  \n",
      "  inflating: __MACOSX/datasets/ros-nav/labels/train/._129180000000.txt  \n",
      "  inflating: datasets/ros-nav/labels/train/9418942000000.txt  \n",
      "  inflating: __MACOSX/datasets/ros-nav/labels/train/._9418942000000.txt  \n",
      "  inflating: datasets/ros-nav/labels/train/9595030000000.txt  \n",
      "  inflating: __MACOSX/datasets/ros-nav/labels/train/._9595030000000.txt  \n",
      "  inflating: datasets/ros-nav/labels/train/9629754000000.txt  \n",
      "  inflating: __MACOSX/datasets/ros-nav/labels/train/._9629754000000.txt  \n",
      "  inflating: datasets/ros-nav/labels/train/1320040000000.txt  \n",
      "  inflating: __MACOSX/datasets/ros-nav/labels/train/._1320040000000.txt  \n",
      "  inflating: datasets/ros-nav/labels/train/9918282000000.txt  \n",
      "  inflating: __MACOSX/datasets/ros-nav/labels/train/._9918282000000.txt  \n",
      "  inflating: datasets/ros-nav/labels/train/9697216000000.txt  \n",
      "  inflating: __MACOSX/datasets/ros-nav/labels/train/._9697216000000.txt  \n",
      "  inflating: datasets/ros-nav/labels/train/10012576000000.txt  \n",
      "  inflating: __MACOSX/datasets/ros-nav/labels/train/._10012576000000.txt  \n",
      "  inflating: datasets/ros-nav/labels/train/195312000000.txt  \n",
      "  inflating: __MACOSX/datasets/ros-nav/labels/train/._195312000000.txt  \n",
      "  inflating: datasets/ros-nav/labels/train/10003360000000.txt  \n",
      "  inflating: __MACOSX/datasets/ros-nav/labels/train/._10003360000000.txt  \n",
      "  inflating: datasets/ros-nav/labels/train/98118000000.txt  \n",
      "  inflating: __MACOSX/datasets/ros-nav/labels/train/._98118000000.txt  \n",
      "  inflating: datasets/ros-nav/labels/train/199402000000.txt  \n",
      "  inflating: __MACOSX/datasets/ros-nav/labels/train/._199402000000.txt  \n",
      "  inflating: datasets/ros-nav/labels/train/569036000000.txt  \n",
      "  inflating: __MACOSX/datasets/ros-nav/labels/train/._569036000000.txt  \n",
      "  inflating: datasets/ros-nav/labels/train/6184032000000.txt  \n",
      "  inflating: __MACOSX/datasets/ros-nav/labels/train/._6184032000000.txt  \n",
      "  inflating: datasets/ros-nav/labels/train/3825574000000.txt  \n",
      "  inflating: __MACOSX/datasets/ros-nav/labels/train/._3825574000000.txt  \n",
      "  inflating: datasets/ros-nav/labels/train/213400000000.txt  \n",
      "  inflating: __MACOSX/datasets/ros-nav/labels/train/._213400000000.txt  \n",
      "  inflating: datasets/ros-nav/labels/train/9922840000000.txt  \n",
      "  inflating: __MACOSX/datasets/ros-nav/labels/train/._9922840000000.txt  \n",
      "  inflating: datasets/ros-nav/labels/train/7765822000000.txt  \n",
      "  inflating: __MACOSX/datasets/ros-nav/labels/train/._7765822000000.txt  \n",
      "  inflating: datasets/ros-nav/labels/train/9859680000000.txt  \n",
      "  inflating: __MACOSX/datasets/ros-nav/labels/train/._9859680000000.txt  \n",
      "  inflating: datasets/ros-nav/labels/train/9843646000000.txt  \n",
      "  inflating: __MACOSX/datasets/ros-nav/labels/train/._9843646000000.txt  \n",
      "  inflating: datasets/ros-nav/labels/train/10135726000000.txt  \n",
      "  inflating: __MACOSX/datasets/ros-nav/labels/train/._10135726000000.txt  \n",
      "  inflating: datasets/ros-nav/labels/train/7804492000000.txt  \n",
      "  inflating: __MACOSX/datasets/ros-nav/labels/train/._7804492000000.txt  \n",
      "  inflating: datasets/ros-nav/labels/train/9406570000000.txt  \n",
      "  inflating: __MACOSX/datasets/ros-nav/labels/train/._9406570000000.txt  \n",
      "  inflating: datasets/ros-nav/labels/train/108436000000.txt  \n",
      "  inflating: __MACOSX/datasets/ros-nav/labels/train/._108436000000.txt  \n",
      "  inflating: datasets/ros-nav/labels/train/9901326000000.txt  \n",
      "  inflating: __MACOSX/datasets/ros-nav/labels/train/._9901326000000.txt  \n",
      "  inflating: datasets/ros-nav/labels/train/3804230000000.txt  \n",
      "  inflating: __MACOSX/datasets/ros-nav/labels/train/._3804230000000.txt  \n",
      "  inflating: datasets/ros-nav/labels/train/9663446000000.txt  \n",
      "  inflating: __MACOSX/datasets/ros-nav/labels/train/._9663446000000.txt  \n",
      "  inflating: datasets/ros-nav/labels/train/241264000000.txt  \n",
      "  inflating: __MACOSX/datasets/ros-nav/labels/train/._241264000000.txt  \n",
      "  inflating: datasets/ros-nav/labels/train/10089526000000.txt  \n",
      "  inflating: __MACOSX/datasets/ros-nav/labels/train/._10089526000000.txt  \n",
      "  inflating: datasets/ros-nav/labels/train/9559334000000.txt  \n",
      "  inflating: __MACOSX/datasets/ros-nav/labels/train/._9559334000000.txt  \n",
      "  inflating: datasets/ros-nav/labels/train/9641620000000.txt  \n",
      "  inflating: __MACOSX/datasets/ros-nav/labels/train/._9641620000000.txt  \n",
      "  inflating: datasets/ros-nav/labels/train/2685738000000.txt  \n",
      "  inflating: __MACOSX/datasets/ros-nav/labels/train/._2685738000000.txt  \n",
      "  inflating: datasets/ros-nav/labels/train/622302000000.txt  \n",
      "  inflating: __MACOSX/datasets/ros-nav/labels/train/._622302000000.txt  \n",
      "  inflating: datasets/ros-nav/labels/train/10097550000000.txt  \n",
      "  inflating: __MACOSX/datasets/ros-nav/labels/train/._10097550000000.txt  \n",
      "  inflating: datasets/ros-nav/labels/train/1331466000000.txt  \n",
      "  inflating: __MACOSX/datasets/ros-nav/labels/train/._1331466000000.txt  \n",
      "  inflating: datasets/ros-nav/labels/train/244642000000.txt  \n",
      "  inflating: __MACOSX/datasets/ros-nav/labels/train/._244642000000.txt  \n",
      "  inflating: datasets/ros-nav/labels/train/10101290000000.txt  \n",
      "  inflating: __MACOSX/datasets/ros-nav/labels/train/._10101290000000.txt  \n",
      "  inflating: datasets/ros-nav/labels/train/9989116000000.txt  \n",
      "  inflating: __MACOSX/datasets/ros-nav/labels/train/._9989116000000.txt  \n",
      "  inflating: datasets/ros-nav/labels/train/7769454000000.txt  \n",
      "  inflating: __MACOSX/datasets/ros-nav/labels/train/._7769454000000.txt  \n",
      "  inflating: datasets/ros-nav/labels/train/3800714000000.txt  \n",
      "  inflating: __MACOSX/datasets/ros-nav/labels/train/._3800714000000.txt  \n",
      "  inflating: datasets/ros-nav/labels/train/9937992000000.txt  \n",
      "  inflating: __MACOSX/datasets/ros-nav/labels/train/._9937992000000.txt  \n",
      "  inflating: datasets/ros-nav/labels/train/6166744000000.txt  \n",
      "  inflating: __MACOSX/datasets/ros-nav/labels/train/._6166744000000.txt  \n",
      "  inflating: datasets/ros-nav/labels/train/3848914000000.txt  \n",
      "  inflating: __MACOSX/datasets/ros-nav/labels/train/._3848914000000.txt  \n",
      "  inflating: datasets/ros-nav/labels/train/9542268000000.txt  \n",
      "  inflating: __MACOSX/datasets/ros-nav/labels/train/._9542268000000.txt  \n",
      "  inflating: datasets/ros-nav/labels/train/7808400000000.txt  \n",
      "  inflating: __MACOSX/datasets/ros-nav/labels/train/._7808400000000.txt  \n",
      "  inflating: datasets/ros-nav/labels/train/9565428000000.txt  \n",
      "  inflating: __MACOSX/datasets/ros-nav/labels/train/._9565428000000.txt  \n",
      "  inflating: datasets/ros-nav/labels/train/2719388000000.txt  \n",
      "  inflating: __MACOSX/datasets/ros-nav/labels/train/._2719388000000.txt  \n",
      "  inflating: datasets/ros-nav/labels/train/3845562000000.txt  \n",
      "  inflating: __MACOSX/datasets/ros-nav/labels/train/._3845562000000.txt  \n",
      "  inflating: datasets/ros-nav/labels/train/9515896000000.txt  \n",
      "  inflating: __MACOSX/datasets/ros-nav/labels/train/._9515896000000.txt  \n",
      "  inflating: datasets/ros-nav/labels/train/6159042000000.txt  \n",
      "  inflating: __MACOSX/datasets/ros-nav/labels/train/._6159042000000.txt  \n",
      "  inflating: datasets/ros-nav/labels/train/7762272000000.txt  \n",
      "  inflating: __MACOSX/datasets/ros-nav/labels/train/._7762272000000.txt  \n",
      "  inflating: datasets/ros-nav/labels/train/10177404000000.txt  \n",
      "  inflating: __MACOSX/datasets/ros-nav/labels/train/._10177404000000.txt  \n",
      "  inflating: datasets/ros-nav/labels/train/583726000000.txt  \n",
      "  inflating: __MACOSX/datasets/ros-nav/labels/train/._583726000000.txt  \n",
      "  inflating: datasets/ros-nav/labels/train/1315846000000.txt  \n",
      "  inflating: __MACOSX/datasets/ros-nav/labels/train/._1315846000000.txt  \n",
      "  inflating: datasets/ros-nav/labels/train/231008000000.txt  \n",
      "  inflating: __MACOSX/datasets/ros-nav/labels/train/._231008000000.txt  \n",
      "  inflating: datasets/ros-nav/labels/train/9528124000000.txt  \n",
      "  inflating: __MACOSX/datasets/ros-nav/labels/train/._9528124000000.txt  \n",
      "  inflating: datasets/ros-nav/labels/train/10170446000000.txt  \n",
      "  inflating: __MACOSX/datasets/ros-nav/labels/train/._10170446000000.txt  \n",
      "  inflating: datasets/ros-nav/labels/train/3807674000000.txt  \n",
      "  inflating: __MACOSX/datasets/ros-nav/labels/train/._3807674000000.txt  \n",
      "  inflating: datasets/ros-nav/labels/train/7790062000000.txt  \n",
      "  inflating: __MACOSX/datasets/ros-nav/labels/train/._7790062000000.txt  \n",
      "  inflating: datasets/ros-nav/labels/train/9398030000000.txt  \n",
      "  inflating: __MACOSX/datasets/ros-nav/labels/train/._9398030000000.txt  \n",
      "  inflating: datasets/ros-nav/labels/train/3835728000000.txt  \n",
      "  inflating: __MACOSX/datasets/ros-nav/labels/train/._3835728000000.txt  \n",
      "  inflating: datasets/ros-nav/labels/train/3611122000000.txt  \n",
      "  inflating: __MACOSX/datasets/ros-nav/labels/train/._3611122000000.txt  \n",
      "  inflating: datasets/ros-nav/labels/train/9913970000000.txt  \n",
      "  inflating: __MACOSX/datasets/ros-nav/labels/train/._9913970000000.txt  \n",
      "  inflating: datasets/ros-nav/labels/train/10020588000000.txt  \n",
      "  inflating: __MACOSX/datasets/ros-nav/labels/train/._10020588000000.txt  \n",
      "  inflating: datasets/ros-nav/labels/train/237870000000.txt  \n",
      "  inflating: __MACOSX/datasets/ros-nav/labels/train/._237870000000.txt  \n",
      "  inflating: datasets/ros-nav/labels/train/1297174000000.txt  \n",
      "  inflating: __MACOSX/datasets/ros-nav/labels/train/._1297174000000.txt  \n",
      "  inflating: datasets/ros-nav/labels/train/9909750000000.txt  \n",
      "  inflating: __MACOSX/datasets/ros-nav/labels/train/._9909750000000.txt  \n",
      "  inflating: datasets/ros-nav/labels/train/1342214000000.txt  \n",
      "  inflating: __MACOSX/datasets/ros-nav/labels/train/._1342214000000.txt  \n",
      "  inflating: datasets/ros-nav/labels/train/3814658000000.txt  \n",
      "  inflating: __MACOSX/datasets/ros-nav/labels/train/._3814658000000.txt  \n",
      "  inflating: datasets/ros-nav/labels/train/9589854000000.txt  \n",
      "  inflating: __MACOSX/datasets/ros-nav/labels/train/._9589854000000.txt  \n",
      "  inflating: datasets/ros-nav/labels/train/6212774000000.txt  \n",
      "  inflating: __MACOSX/datasets/ros-nav/labels/train/._6212774000000.txt  \n",
      "  inflating: datasets/ros-nav/labels/train/102644000000.txt  \n",
      "  inflating: __MACOSX/datasets/ros-nav/labels/train/._102644000000.txt  \n",
      "  inflating: datasets/ros-nav/labels/train/9511742000000.txt  \n",
      "  inflating: __MACOSX/datasets/ros-nav/labels/train/._9511742000000.txt  \n",
      "  inflating: datasets/ros-nav/labels/train/594692000000.txt  \n",
      "  inflating: __MACOSX/datasets/ros-nav/labels/train/._594692000000.txt  \n",
      "  inflating: datasets/ros-nav/labels/train/9552884000000.txt  \n",
      "  inflating: __MACOSX/datasets/ros-nav/labels/train/._9552884000000.txt  \n",
      "  inflating: datasets/ros-nav/labels/train/10139186000000.txt  \n",
      "  inflating: __MACOSX/datasets/ros-nav/labels/train/._10139186000000.txt  \n",
      "  inflating: datasets/ros-nav/labels/train/6162934000000.txt  \n",
      "  inflating: __MACOSX/datasets/ros-nav/labels/train/._6162934000000.txt  \n",
      "  inflating: datasets/ros-nav/labels/train/9833468000000.txt  \n",
      "  inflating: __MACOSX/datasets/ros-nav/labels/train/._9833468000000.txt  \n",
      "  inflating: datasets/ros-nav/labels/train/6192074000000.txt  \n",
      "  inflating: __MACOSX/datasets/ros-nav/labels/train/._6192074000000.txt  \n",
      "  inflating: datasets/ros-nav/labels/train/3603488000000.txt  \n",
      "  inflating: __MACOSX/datasets/ros-nav/labels/train/._3603488000000.txt  \n",
      "  inflating: datasets/ros-nav/labels/train/9993682000000.txt  \n",
      "  inflating: __MACOSX/datasets/ros-nav/labels/train/._9993682000000.txt  \n",
      "  inflating: datasets/ros-nav/labels/train/6199144000000.txt  \n",
      "  inflating: __MACOSX/datasets/ros-nav/labels/train/._6199144000000.txt  \n",
      "  inflating: datasets/ros-nav/labels/train/9927502000000.txt  \n",
      "  inflating: __MACOSX/datasets/ros-nav/labels/train/._9927502000000.txt  \n",
      "  inflating: datasets/ros-nav/labels/train/10166958000000.txt  \n",
      "  inflating: __MACOSX/datasets/ros-nav/labels/train/._10166958000000.txt  \n",
      "  inflating: datasets/ros-nav/labels/train/3618610000000.txt  \n",
      "  inflating: __MACOSX/datasets/ros-nav/labels/train/._3618610000000.txt  \n",
      "  inflating: datasets/ros-nav/labels/train/10174088000000.txt  \n",
      "  inflating: __MACOSX/datasets/ros-nav/labels/train/._10174088000000.txt  \n",
      "  inflating: datasets/ros-nav/labels/train/248018000000.txt  \n",
      "  inflating: __MACOSX/datasets/ros-nav/labels/train/._248018000000.txt  \n",
      "  inflating: datasets/ros-nav/labels/train/9394054000000.txt  \n",
      "  inflating: __MACOSX/datasets/ros-nav/labels/train/._9394054000000.txt  \n",
      "  inflating: datasets/ros-nav/labels/val/9998598000000.txt  \n",
      "  inflating: __MACOSX/datasets/ros-nav/labels/val/._9998598000000.txt  \n",
      "  inflating: datasets/ros-nav/labels/val/3811168000000.txt  \n",
      "  inflating: __MACOSX/datasets/ros-nav/labels/val/._3811168000000.txt  \n",
      "  inflating: datasets/ros-nav/labels/val/9822798000000.txt  \n",
      "  inflating: __MACOSX/datasets/ros-nav/labels/val/._9822798000000.txt  \n",
      "  inflating: datasets/ros-nav/labels/val/3565772000000.txt  \n",
      "  inflating: __MACOSX/datasets/ros-nav/labels/val/._3565772000000.txt  \n",
      "  inflating: datasets/ros-nav/labels/val/7776678000000.txt  \n",
      "  inflating: __MACOSX/datasets/ros-nav/labels/val/._7776678000000.txt  \n",
      "  inflating: datasets/ros-nav/labels/val/572574000000.txt  \n",
      "  inflating: __MACOSX/datasets/ros-nav/labels/val/._572574000000.txt  \n",
      "  inflating: datasets/ros-nav/labels/val/9659120000000.txt  \n",
      "  inflating: __MACOSX/datasets/ros-nav/labels/val/._9659120000000.txt  \n",
      "  inflating: datasets/ros-nav/labels/val/3829222000000.txt  \n",
      "  inflating: __MACOSX/datasets/ros-nav/labels/val/._3829222000000.txt  \n",
      "  inflating: datasets/ros-nav/labels/val/10076148000000.txt  \n",
      "  inflating: __MACOSX/datasets/ros-nav/labels/val/._10076148000000.txt  \n",
      "  inflating: datasets/ros-nav/labels/val/1308518000000.txt  \n",
      "  inflating: __MACOSX/datasets/ros-nav/labels/val/._1308518000000.txt  \n",
      "  inflating: datasets/ros-nav/labels/val/6195730000000.txt  \n",
      "  inflating: __MACOSX/datasets/ros-nav/labels/val/._6195730000000.txt  \n",
      "  inflating: datasets/ros-nav/labels/val/3821940000000.txt  \n",
      "  inflating: __MACOSX/datasets/ros-nav/labels/val/._3821940000000.txt  \n",
      "  inflating: datasets/ros-nav/labels/val/9683232000000.txt  \n",
      "  inflating: __MACOSX/datasets/ros-nav/labels/val/._9683232000000.txt  \n",
      "  inflating: datasets/ros-nav/labels/val/10065596000000.txt  \n",
      "  inflating: __MACOSX/datasets/ros-nav/labels/val/._10065596000000.txt  \n",
      "  inflating: datasets/ros-nav/labels/val/6174362000000.txt  \n",
      "  inflating: __MACOSX/datasets/ros-nav/labels/val/._6174362000000.txt  \n",
      "  inflating: datasets/ros-nav/labels/val/2700048000000.txt  \n",
      "  inflating: __MACOSX/datasets/ros-nav/labels/val/._2700048000000.txt  \n",
      "  inflating: datasets/ros-nav/labels/val/7800904000000.txt  \n",
      "  inflating: __MACOSX/datasets/ros-nav/labels/val/._7800904000000.txt  \n",
      "  inflating: datasets/ros-nav/labels/val/3842292000000.txt  \n",
      "  inflating: __MACOSX/datasets/ros-nav/labels/val/._3842292000000.txt  \n",
      "  inflating: datasets/ros-nav/labels/val/3856212000000.txt  \n",
      "  inflating: __MACOSX/datasets/ros-nav/labels/val/._3856212000000.txt  \n",
      "  inflating: datasets/ros-nav/labels/val/602024000000.txt  \n",
      "  inflating: __MACOSX/datasets/ros-nav/labels/val/._602024000000.txt  \n",
      "  inflating: datasets/ros-nav/labels/val/10163480000000.txt  \n",
      "  inflating: __MACOSX/datasets/ros-nav/labels/val/._10163480000000.txt  \n",
      "  inflating: datasets/ros-nav/labels/val/9612378000000.txt  \n",
      "  inflating: __MACOSX/datasets/ros-nav/labels/val/._9612378000000.txt  \n",
      "  inflating: datasets/ros-nav/labels/val/10153090000000.txt  \n",
      "  inflating: __MACOSX/datasets/ros-nav/labels/val/._10153090000000.txt  \n",
      "  inflating: datasets/ros-nav/labels/val/587470000000.txt  \n",
      "  inflating: __MACOSX/datasets/ros-nav/labels/val/._587470000000.txt  \n",
      "  inflating: datasets/ros-nav/labels/val/2724130000000.txt  \n",
      "  inflating: __MACOSX/datasets/ros-nav/labels/val/._2724130000000.txt  \n",
      "  inflating: datasets/ros-nav/labels/val/9617274000000.txt  \n",
      "  inflating: __MACOSX/datasets/ros-nav/labels/val/._9617274000000.txt  \n",
      "  inflating: datasets/ros-nav/labels/val/227518000000.txt  \n",
      "  inflating: __MACOSX/datasets/ros-nav/labels/val/._227518000000.txt  \n",
      "  inflating: datasets/ros-nav/labels/val/9701042000000.txt  \n",
      "  inflating: __MACOSX/datasets/ros-nav/labels/val/._9701042000000.txt  \n",
      "  inflating: datasets/ros-nav/labels/val/210130000000.txt  \n",
      "  inflating: __MACOSX/datasets/ros-nav/labels/val/._210130000000.txt  \n",
      "  inflating: datasets/ros-nav/labels/val/9952370000000.txt  \n",
      "  inflating: __MACOSX/datasets/ros-nav/labels/val/._9952370000000.txt  \n",
      "  inflating: datasets/ros-nav/labels/val/9838674000000.txt  \n",
      "  inflating: __MACOSX/datasets/ros-nav/labels/val/._9838674000000.txt  \n",
      "  inflating: datasets/ros-nav/labels/val/10160112000000.txt  \n",
      "  inflating: __MACOSX/datasets/ros-nav/labels/val/._10160112000000.txt  \n",
      "  inflating: datasets/ros-nav/labels/val/612378000000.txt  \n",
      "  inflating: __MACOSX/datasets/ros-nav/labels/val/._612378000000.txt  \n",
      "  inflating: datasets/ros-nav/labels/val/6202622000000.txt  \n",
      "  inflating: __MACOSX/datasets/ros-nav/labels/val/._6202622000000.txt  \n",
      "  inflating: datasets/ros-nav/labels/val/598460000000.txt  \n",
      "  inflating: __MACOSX/datasets/ros-nav/labels/val/._598460000000.txt  \n",
      "  inflating: datasets/ros-nav/labels/val/2675932000000.txt  \n",
      "  inflating: __MACOSX/datasets/ros-nav/labels/val/._2675932000000.txt  \n",
      "  inflating: datasets/ros-nav/labels/val/10059882000000.txt  \n",
      "  inflating: __MACOSX/datasets/ros-nav/labels/val/._10059882000000.txt  \n",
      "  inflating: datasets/ros-nav/labels/val/9379898000000.txt  \n",
      "  inflating: __MACOSX/datasets/ros-nav/labels/val/._9379898000000.txt  \n",
      "  inflating: datasets/ros-nav/labels/val/9637644000000.txt  \n",
      "  inflating: __MACOSX/datasets/ros-nav/labels/val/._9637644000000.txt  \n",
      "  inflating: datasets/ros-nav/labels/val/1301140000000.txt  \n",
      "  inflating: __MACOSX/datasets/ros-nav/labels/val/._1301140000000.txt  \n",
      "  inflating: datasets/ros-nav/labels/val/9872800000000.txt  \n",
      "  inflating: __MACOSX/datasets/ros-nav/labels/val/._9872800000000.txt  \n",
      "  inflating: datasets/ros-nav/labels/val/3587368000000.txt  \n",
      "  inflating: __MACOSX/datasets/ros-nav/labels/val/._3587368000000.txt  \n",
      "  inflating: datasets/ros-nav/labels/val/9713564000000.txt  \n",
      "  inflating: __MACOSX/datasets/ros-nav/labels/val/._9713564000000.txt  \n",
      "  inflating: datasets/ros-nav/labels/val/9855422000000.txt  \n",
      "  inflating: __MACOSX/datasets/ros-nav/labels/val/._9855422000000.txt  \n",
      "  inflating: datasets/ros-nav/labels/val/9608066000000.txt  \n",
      "  inflating: __MACOSX/datasets/ros-nav/labels/val/._9608066000000.txt  \n",
      "  inflating: datasets/ros-nav/labels/val/10130882000000.txt  \n",
      "  inflating: __MACOSX/datasets/ros-nav/labels/val/._10130882000000.txt  \n",
      "  inflating: datasets/ros-nav/labels/val/1312068000000.txt  \n",
      "  inflating: __MACOSX/datasets/ros-nav/labels/val/._1312068000000.txt  \n",
      "  inflating: datasets/ros-nav/labels/val/9524140000000.txt  \n",
      "  inflating: __MACOSX/datasets/ros-nav/labels/val/._9524140000000.txt  \n"
     ]
    }
   ]
  },
  {
   "metadata": {
    "ExecuteTime": {
     "end_time": "2024-11-30T04:07:36.297360Z",
     "start_time": "2024-11-30T04:07:31.353056Z"
    }
   },
   "cell_type": "code",
   "outputs": [
    {
     "name": "stderr",
     "output_type": "stream",
     "text": [
      "/Users/wallflower/PythonProjects/AI_Based_Auton_Nav/venv/lib/python3.9/site-packages/urllib3/__init__.py:35: NotOpenSSLWarning: urllib3 v2 only supports OpenSSL 1.1.1+, currently the 'ssl' module is compiled with 'LibreSSL 2.8.3'. See: https://github.com/urllib3/urllib3/issues/3020\n",
      "  warnings.warn(\n"
     ]
    },
    {
     "name": "stdout",
     "output_type": "stream",
     "text": [
      "Downloading https://github.com/ultralytics/assets/releases/download/v8.3.0/yolov8n-seg.pt to 'yolov8n-seg.pt'...\n"
     ]
    },
    {
     "name": "stderr",
     "output_type": "stream",
     "text": [
      "100%|██████████| 6.74M/6.74M [00:00<00:00, 27.3MB/s]\n"
     ]
    }
   ],
   "execution_count": 1,
   "source": [
    "from ultralytics import YOLO\n",
    "\n",
    "# Load a pretrained YOLO8 segment model\n",
    "model = YOLO(\"yolov8n-seg.pt\")"
   ]
  },
  {
   "metadata": {
    "colab": {
     "base_uri": "https://localhost:8080/"
    },
    "id": "mxF-0KeM50Tx",
    "executionInfo": {
     "status": "ok",
     "timestamp": 1732917856886,
     "user_tz": 300,
     "elapsed": 652720,
     "user": {
      "displayName": "Wei Xiang",
      "userId": "03584244961072852020"
     }
    },
    "outputId": "4a019cd9-9519-4ef1-f4af-a5fa86a21b42"
   },
   "cell_type": "code",
   "outputs": [
    {
     "output_type": "stream",
     "name": "stdout",
     "text": [
      "Ultralytics 8.3.39 🚀 Python-3.10.12 torch-2.5.1+cu121 CUDA:0 (Tesla T4, 15102MiB)\n",
      "\u001B[34m\u001B[1mengine/trainer: \u001B[0mtask=segment, mode=train, model=yolov8n-seg.pt, data=./data.yaml, epochs=100, time=None, patience=100, batch=16, imgsz=640, save=True, save_period=-1, cache=False, device=None, workers=8, project=None, name=train3, exist_ok=False, pretrained=True, optimizer=auto, verbose=True, seed=0, deterministic=True, single_cls=False, rect=False, cos_lr=False, close_mosaic=10, resume=False, amp=True, fraction=1.0, profile=False, freeze=None, multi_scale=False, overlap_mask=True, mask_ratio=4, dropout=0.0, val=True, split=val, save_json=False, save_hybrid=False, conf=None, iou=0.7, max_det=300, half=False, dnn=False, plots=True, source=None, vid_stride=1, stream_buffer=False, visualize=False, augment=False, agnostic_nms=False, classes=None, retina_masks=False, embed=None, show=False, save_frames=False, save_txt=False, save_conf=False, save_crop=False, show_labels=True, show_conf=True, show_boxes=True, line_width=None, format=torchscript, keras=False, optimize=False, int8=False, dynamic=False, simplify=True, opset=None, workspace=None, nms=False, lr0=0.01, lrf=0.01, momentum=0.937, weight_decay=0.0005, warmup_epochs=3.0, warmup_momentum=0.8, warmup_bias_lr=0.1, box=7.5, cls=0.5, dfl=1.5, pose=12.0, kobj=1.0, nbs=64, hsv_h=0.015, hsv_s=0.7, hsv_v=0.4, degrees=0.0, translate=0.1, scale=0.5, shear=0.0, perspective=0.0, flipud=0.0, fliplr=0.5, bgr=0.0, mosaic=1.0, mixup=0.0, copy_paste=0.0, copy_paste_mode=flip, auto_augment=randaugment, erasing=0.4, crop_fraction=1.0, cfg=None, tracker=botsort.yaml, save_dir=runs/segment/train3\n",
      "Downloading https://ultralytics.com/assets/Arial.ttf to '/root/.config/Ultralytics/Arial.ttf'...\n"
     ]
    },
    {
     "output_type": "stream",
     "name": "stderr",
     "text": [
      "100%|██████████| 755k/755k [00:00<00:00, 107MB/s]\n"
     ]
    },
    {
     "output_type": "stream",
     "name": "stdout",
     "text": [
      "Overriding model.yaml nc=80 with nc=3\n",
      "\n",
      "                   from  n    params  module                                       arguments                     \n",
      "  0                  -1  1       464  ultralytics.nn.modules.conv.Conv             [3, 16, 3, 2]                 \n",
      "  1                  -1  1      4672  ultralytics.nn.modules.conv.Conv             [16, 32, 3, 2]                \n",
      "  2                  -1  1      7360  ultralytics.nn.modules.block.C2f             [32, 32, 1, True]             \n",
      "  3                  -1  1     18560  ultralytics.nn.modules.conv.Conv             [32, 64, 3, 2]                \n",
      "  4                  -1  2     49664  ultralytics.nn.modules.block.C2f             [64, 64, 2, True]             \n",
      "  5                  -1  1     73984  ultralytics.nn.modules.conv.Conv             [64, 128, 3, 2]               \n",
      "  6                  -1  2    197632  ultralytics.nn.modules.block.C2f             [128, 128, 2, True]           \n",
      "  7                  -1  1    295424  ultralytics.nn.modules.conv.Conv             [128, 256, 3, 2]              \n",
      "  8                  -1  1    460288  ultralytics.nn.modules.block.C2f             [256, 256, 1, True]           \n",
      "  9                  -1  1    164608  ultralytics.nn.modules.block.SPPF            [256, 256, 5]                 \n",
      " 10                  -1  1         0  torch.nn.modules.upsampling.Upsample         [None, 2, 'nearest']          \n",
      " 11             [-1, 6]  1         0  ultralytics.nn.modules.conv.Concat           [1]                           \n",
      " 12                  -1  1    148224  ultralytics.nn.modules.block.C2f             [384, 128, 1]                 \n",
      " 13                  -1  1         0  torch.nn.modules.upsampling.Upsample         [None, 2, 'nearest']          \n",
      " 14             [-1, 4]  1         0  ultralytics.nn.modules.conv.Concat           [1]                           \n",
      " 15                  -1  1     37248  ultralytics.nn.modules.block.C2f             [192, 64, 1]                  \n",
      " 16                  -1  1     36992  ultralytics.nn.modules.conv.Conv             [64, 64, 3, 2]                \n",
      " 17            [-1, 12]  1         0  ultralytics.nn.modules.conv.Concat           [1]                           \n",
      " 18                  -1  1    123648  ultralytics.nn.modules.block.C2f             [192, 128, 1]                 \n",
      " 19                  -1  1    147712  ultralytics.nn.modules.conv.Conv             [128, 128, 3, 2]              \n",
      " 20             [-1, 9]  1         0  ultralytics.nn.modules.conv.Concat           [1]                           \n",
      " 21                  -1  1    493056  ultralytics.nn.modules.block.C2f             [384, 256, 1]                 \n",
      " 22        [15, 18, 21]  1   1004665  ultralytics.nn.modules.head.Segment          [3, 32, 64, [64, 128, 256]]   \n",
      "YOLOv8n-seg summary: 261 layers, 3,264,201 parameters, 3,264,185 gradients, 12.1 GFLOPs\n",
      "\n",
      "Transferred 381/417 items from pretrained weights\n",
      "\u001B[34m\u001B[1mTensorBoard: \u001B[0mStart with 'tensorboard --logdir runs/segment/train3', view at http://localhost:6006/\n",
      "Freezing layer 'model.22.dfl.conv.weight'\n",
      "\u001B[34m\u001B[1mAMP: \u001B[0mrunning Automatic Mixed Precision (AMP) checks...\n",
      "Downloading https://github.com/ultralytics/assets/releases/download/v8.3.0/yolo11n.pt to 'yolo11n.pt'...\n"
     ]
    },
    {
     "output_type": "stream",
     "name": "stderr",
     "text": [
      "100%|██████████| 5.35M/5.35M [00:00<00:00, 345MB/s]\n"
     ]
    },
    {
     "output_type": "stream",
     "name": "stdout",
     "text": [
      "\u001B[34m\u001B[1mAMP: \u001B[0mchecks passed ✅\n"
     ]
    },
    {
     "output_type": "stream",
     "name": "stderr",
     "text": [
      "\u001B[34m\u001B[1mtrain: \u001B[0mScanning /content/datasets/ros-nav/labels/train... 195 images, 0 backgrounds, 0 corrupt: 100%|██████████| 195/195 [00:00<00:00, 1446.17it/s]"
     ]
    },
    {
     "output_type": "stream",
     "name": "stdout",
     "text": [
      "\u001B[34m\u001B[1mtrain: \u001B[0mNew cache created: /content/datasets/ros-nav/labels/train.cache\n"
     ]
    },
    {
     "output_type": "stream",
     "name": "stderr",
     "text": [
      "\n"
     ]
    },
    {
     "output_type": "stream",
     "name": "stdout",
     "text": [
      "\u001B[34m\u001B[1malbumentations: \u001B[0mBlur(p=0.01, blur_limit=(3, 7)), MedianBlur(p=0.01, blur_limit=(3, 7)), ToGray(p=0.01, num_output_channels=3, method='weighted_average'), CLAHE(p=0.01, clip_limit=(1.0, 4.0), tile_grid_size=(8, 8))\n"
     ]
    },
    {
     "output_type": "stream",
     "name": "stderr",
     "text": [
      "/usr/local/lib/python3.10/dist-packages/albumentations/__init__.py:24: UserWarning: A new version of Albumentations is available: 1.4.21 (you have 1.4.20). Upgrade using: pip install -U albumentations. To disable automatic update checks, set the environment variable NO_ALBUMENTATIONS_UPDATE to 1.\n",
      "  check_for_updates()\n",
      "\u001B[34m\u001B[1mval: \u001B[0mScanning /content/datasets/ros-nav/labels/val... 48 images, 0 backgrounds, 0 corrupt: 100%|██████████| 48/48 [00:00<00:00, 1270.53it/s]"
     ]
    },
    {
     "output_type": "stream",
     "name": "stdout",
     "text": [
      "\u001B[34m\u001B[1mval: \u001B[0mNew cache created: /content/datasets/ros-nav/labels/val.cache\n"
     ]
    },
    {
     "output_type": "stream",
     "name": "stderr",
     "text": [
      "\n"
     ]
    },
    {
     "output_type": "stream",
     "name": "stdout",
     "text": [
      "Plotting labels to runs/segment/train3/labels.jpg... \n",
      "\u001B[34m\u001B[1moptimizer:\u001B[0m 'optimizer=auto' found, ignoring 'lr0=0.01' and 'momentum=0.937' and determining best 'optimizer', 'lr0' and 'momentum' automatically... \n",
      "\u001B[34m\u001B[1moptimizer:\u001B[0m AdamW(lr=0.001429, momentum=0.9) with parameter groups 66 weight(decay=0.0), 77 weight(decay=0.0005), 76 bias(decay=0.0)\n",
      "\u001B[34m\u001B[1mTensorBoard: \u001B[0mmodel graph visualization added ✅\n",
      "Image sizes 640 train, 640 val\n",
      "Using 2 dataloader workers\n",
      "Logging results to \u001B[1mruns/segment/train3\u001B[0m\n",
      "Starting training for 100 epochs...\n",
      "\n",
      "      Epoch    GPU_mem   box_loss   seg_loss   cls_loss   dfl_loss  Instances       Size\n"
     ]
    },
    {
     "output_type": "stream",
     "name": "stderr",
     "text": [
      "      1/100      2.98G      1.595      4.624       3.28      1.547         21        640: 100%|██████████| 13/13 [00:11<00:00,  1.14it/s]\n",
      "                 Class     Images  Instances      Box(P          R      mAP50  mAP50-95)     Mask(P          R      mAP50  mAP50-95): 100%|██████████| 2/2 [00:00<00:00,  2.63it/s]"
     ]
    },
    {
     "output_type": "stream",
     "name": "stdout",
     "text": [
      "                   all         48        137    0.00711      0.635      0.188      0.108     0.0073      0.649      0.196      0.111\n"
     ]
    },
    {
     "output_type": "stream",
     "name": "stderr",
     "text": [
      "\n"
     ]
    },
    {
     "output_type": "stream",
     "name": "stdout",
     "text": [
      "\n",
      "      Epoch    GPU_mem   box_loss   seg_loss   cls_loss   dfl_loss  Instances       Size\n"
     ]
    },
    {
     "output_type": "stream",
     "name": "stderr",
     "text": [
      "      2/100      2.86G     0.9475      1.549      1.937      1.161         21        640: 100%|██████████| 13/13 [00:04<00:00,  3.19it/s]\n",
      "                 Class     Images  Instances      Box(P          R      mAP50  mAP50-95)     Mask(P          R      mAP50  mAP50-95): 100%|██████████| 2/2 [00:00<00:00,  2.99it/s]"
     ]
    },
    {
     "output_type": "stream",
     "name": "stdout",
     "text": [
      "                   all         48        137     0.0073      0.681      0.357      0.222    0.00755      0.711       0.35      0.218\n"
     ]
    },
    {
     "output_type": "stream",
     "name": "stderr",
     "text": [
      "\n"
     ]
    },
    {
     "output_type": "stream",
     "name": "stdout",
     "text": [
      "\n",
      "      Epoch    GPU_mem   box_loss   seg_loss   cls_loss   dfl_loss  Instances       Size\n"
     ]
    },
    {
     "output_type": "stream",
     "name": "stderr",
     "text": [
      "      3/100      2.93G     0.9331      1.291      1.379      1.129         24        640: 100%|██████████| 13/13 [00:05<00:00,  2.51it/s]\n",
      "                 Class     Images  Instances      Box(P          R      mAP50  mAP50-95)     Mask(P          R      mAP50  mAP50-95): 100%|██████████| 2/2 [00:01<00:00,  1.51it/s]"
     ]
    },
    {
     "output_type": "stream",
     "name": "stdout",
     "text": [
      "                   all         48        137      0.564      0.386      0.467      0.325      0.532      0.379      0.431      0.332\n"
     ]
    },
    {
     "output_type": "stream",
     "name": "stderr",
     "text": [
      "\n"
     ]
    },
    {
     "output_type": "stream",
     "name": "stdout",
     "text": [
      "\n",
      "      Epoch    GPU_mem   box_loss   seg_loss   cls_loss   dfl_loss  Instances       Size\n"
     ]
    },
    {
     "output_type": "stream",
     "name": "stderr",
     "text": [
      "      4/100      2.85G     0.9299      1.095      1.226      1.126         19        640: 100%|██████████| 13/13 [00:06<00:00,  2.10it/s]\n",
      "                 Class     Images  Instances      Box(P          R      mAP50  mAP50-95)     Mask(P          R      mAP50  mAP50-95): 100%|██████████| 2/2 [00:00<00:00,  3.18it/s]"
     ]
    },
    {
     "output_type": "stream",
     "name": "stdout",
     "text": [
      "                   all         48        137      0.686      0.578      0.584        0.4       0.66      0.509       0.53       0.36\n"
     ]
    },
    {
     "output_type": "stream",
     "name": "stderr",
     "text": [
      "\n"
     ]
    },
    {
     "output_type": "stream",
     "name": "stdout",
     "text": [
      "\n",
      "      Epoch    GPU_mem   box_loss   seg_loss   cls_loss   dfl_loss  Instances       Size\n"
     ]
    },
    {
     "output_type": "stream",
     "name": "stderr",
     "text": [
      "      5/100      2.95G     0.9016      1.054      1.101      1.118         18        640: 100%|██████████| 13/13 [00:03<00:00,  3.36it/s]\n",
      "                 Class     Images  Instances      Box(P          R      mAP50  mAP50-95)     Mask(P          R      mAP50  mAP50-95): 100%|██████████| 2/2 [00:00<00:00,  2.94it/s]\n"
     ]
    },
    {
     "output_type": "stream",
     "name": "stdout",
     "text": [
      "                   all         48        137      0.683      0.576      0.567      0.412      0.693      0.587      0.603      0.441\n",
      "\n",
      "      Epoch    GPU_mem   box_loss   seg_loss   cls_loss   dfl_loss  Instances       Size\n"
     ]
    },
    {
     "output_type": "stream",
     "name": "stderr",
     "text": [
      "      6/100      2.95G     0.8992      1.048      1.072      1.097         21        640: 100%|██████████| 13/13 [00:05<00:00,  2.54it/s]\n",
      "                 Class     Images  Instances      Box(P          R      mAP50  mAP50-95)     Mask(P          R      mAP50  mAP50-95): 100%|██████████| 2/2 [00:01<00:00,  1.31it/s]"
     ]
    },
    {
     "output_type": "stream",
     "name": "stdout",
     "text": [
      "                   all         48        137      0.593       0.46      0.516      0.363       0.48      0.397      0.404      0.304\n"
     ]
    },
    {
     "output_type": "stream",
     "name": "stderr",
     "text": [
      "\n"
     ]
    },
    {
     "output_type": "stream",
     "name": "stdout",
     "text": [
      "\n",
      "      Epoch    GPU_mem   box_loss   seg_loss   cls_loss   dfl_loss  Instances       Size\n"
     ]
    },
    {
     "output_type": "stream",
     "name": "stderr",
     "text": [
      "      7/100      2.94G      0.939      1.104      1.049      1.107         25        640: 100%|██████████| 13/13 [00:03<00:00,  3.56it/s]\n",
      "                 Class     Images  Instances      Box(P          R      mAP50  mAP50-95)     Mask(P          R      mAP50  mAP50-95): 100%|██████████| 2/2 [00:00<00:00,  2.85it/s]"
     ]
    },
    {
     "output_type": "stream",
     "name": "stdout",
     "text": [
      "                   all         48        137      0.627      0.613      0.591      0.423      0.648       0.62      0.621      0.464\n"
     ]
    },
    {
     "output_type": "stream",
     "name": "stderr",
     "text": [
      "\n"
     ]
    },
    {
     "output_type": "stream",
     "name": "stdout",
     "text": [
      "\n",
      "      Epoch    GPU_mem   box_loss   seg_loss   cls_loss   dfl_loss  Instances       Size\n"
     ]
    },
    {
     "output_type": "stream",
     "name": "stderr",
     "text": [
      "      8/100      2.93G     0.9265      1.076      1.036      1.107         18        640: 100%|██████████| 13/13 [00:03<00:00,  3.48it/s]\n",
      "                 Class     Images  Instances      Box(P          R      mAP50  mAP50-95)     Mask(P          R      mAP50  mAP50-95): 100%|██████████| 2/2 [00:00<00:00,  2.90it/s]"
     ]
    },
    {
     "output_type": "stream",
     "name": "stdout",
     "text": [
      "                   all         48        137      0.699      0.578      0.632      0.439      0.692      0.565      0.628      0.493\n"
     ]
    },
    {
     "output_type": "stream",
     "name": "stderr",
     "text": [
      "\n"
     ]
    },
    {
     "output_type": "stream",
     "name": "stdout",
     "text": [
      "\n",
      "      Epoch    GPU_mem   box_loss   seg_loss   cls_loss   dfl_loss  Instances       Size\n"
     ]
    },
    {
     "output_type": "stream",
     "name": "stderr",
     "text": [
      "      9/100      2.92G     0.9045      1.005      1.009      1.103         22        640: 100%|██████████| 13/13 [00:05<00:00,  2.17it/s]\n",
      "                 Class     Images  Instances      Box(P          R      mAP50  mAP50-95)     Mask(P          R      mAP50  mAP50-95): 100%|██████████| 2/2 [00:00<00:00,  2.48it/s]"
     ]
    },
    {
     "output_type": "stream",
     "name": "stdout",
     "text": [
      "                   all         48        137      0.558      0.609      0.583      0.432      0.547      0.594      0.558      0.442\n"
     ]
    },
    {
     "output_type": "stream",
     "name": "stderr",
     "text": [
      "\n"
     ]
    },
    {
     "output_type": "stream",
     "name": "stdout",
     "text": [
      "\n",
      "      Epoch    GPU_mem   box_loss   seg_loss   cls_loss   dfl_loss  Instances       Size\n"
     ]
    },
    {
     "output_type": "stream",
     "name": "stderr",
     "text": [
      "     10/100      2.97G     0.8901      1.043      1.038      1.079         26        640: 100%|██████████| 13/13 [00:03<00:00,  3.44it/s]\n",
      "                 Class     Images  Instances      Box(P          R      mAP50  mAP50-95)     Mask(P          R      mAP50  mAP50-95): 100%|██████████| 2/2 [00:00<00:00,  3.21it/s]"
     ]
    },
    {
     "output_type": "stream",
     "name": "stdout",
     "text": [
      "                   all         48        137      0.793      0.538      0.668      0.401      0.763      0.542      0.684      0.495\n"
     ]
    },
    {
     "output_type": "stream",
     "name": "stderr",
     "text": [
      "\n"
     ]
    },
    {
     "output_type": "stream",
     "name": "stdout",
     "text": [
      "\n",
      "      Epoch    GPU_mem   box_loss   seg_loss   cls_loss   dfl_loss  Instances       Size\n"
     ]
    },
    {
     "output_type": "stream",
     "name": "stderr",
     "text": [
      "     11/100      2.92G     0.8877      1.129     0.9852      1.074         20        640: 100%|██████████| 13/13 [00:03<00:00,  3.27it/s]\n",
      "                 Class     Images  Instances      Box(P          R      mAP50  mAP50-95)     Mask(P          R      mAP50  mAP50-95): 100%|██████████| 2/2 [00:01<00:00,  1.71it/s]"
     ]
    },
    {
     "output_type": "stream",
     "name": "stdout",
     "text": [
      "                   all         48        137      0.887      0.546      0.721      0.423      0.903      0.546      0.721      0.452\n"
     ]
    },
    {
     "output_type": "stream",
     "name": "stderr",
     "text": [
      "\n"
     ]
    },
    {
     "output_type": "stream",
     "name": "stdout",
     "text": [
      "\n",
      "      Epoch    GPU_mem   box_loss   seg_loss   cls_loss   dfl_loss  Instances       Size\n"
     ]
    },
    {
     "output_type": "stream",
     "name": "stderr",
     "text": [
      "     12/100      2.93G     0.9097     0.9249      0.973      1.111         21        640: 100%|██████████| 13/13 [00:05<00:00,  2.49it/s]\n",
      "                 Class     Images  Instances      Box(P          R      mAP50  mAP50-95)     Mask(P          R      mAP50  mAP50-95): 100%|██████████| 2/2 [00:00<00:00,  3.14it/s]\n"
     ]
    },
    {
     "output_type": "stream",
     "name": "stdout",
     "text": [
      "                   all         48        137      0.709      0.705      0.718      0.518      0.739      0.735      0.751      0.573\n",
      "\n",
      "      Epoch    GPU_mem   box_loss   seg_loss   cls_loss   dfl_loss  Instances       Size\n"
     ]
    },
    {
     "output_type": "stream",
     "name": "stderr",
     "text": [
      "     13/100      2.88G       0.84     0.8777     0.9295      1.088         17        640: 100%|██████████| 13/13 [00:03<00:00,  3.40it/s]\n",
      "                 Class     Images  Instances      Box(P          R      mAP50  mAP50-95)     Mask(P          R      mAP50  mAP50-95): 100%|██████████| 2/2 [00:00<00:00,  3.33it/s]"
     ]
    },
    {
     "output_type": "stream",
     "name": "stdout",
     "text": [
      "                   all         48        137      0.757      0.755      0.747      0.532      0.771      0.765      0.748      0.594\n"
     ]
    },
    {
     "output_type": "stream",
     "name": "stderr",
     "text": [
      "\n"
     ]
    },
    {
     "output_type": "stream",
     "name": "stdout",
     "text": [
      "\n",
      "      Epoch    GPU_mem   box_loss   seg_loss   cls_loss   dfl_loss  Instances       Size\n"
     ]
    },
    {
     "output_type": "stream",
     "name": "stderr",
     "text": [
      "     14/100      2.94G     0.8061     0.8463     0.8808      1.047         16        640: 100%|██████████| 13/13 [00:04<00:00,  2.80it/s]\n",
      "                 Class     Images  Instances      Box(P          R      mAP50  mAP50-95)     Mask(P          R      mAP50  mAP50-95): 100%|██████████| 2/2 [00:01<00:00,  1.55it/s]"
     ]
    },
    {
     "output_type": "stream",
     "name": "stdout",
     "text": [
      "                   all         48        137      0.831      0.823      0.797      0.561      0.847      0.796        0.8      0.602\n"
     ]
    },
    {
     "output_type": "stream",
     "name": "stderr",
     "text": [
      "\n"
     ]
    },
    {
     "output_type": "stream",
     "name": "stdout",
     "text": [
      "\n",
      "      Epoch    GPU_mem   box_loss   seg_loss   cls_loss   dfl_loss  Instances       Size\n"
     ]
    },
    {
     "output_type": "stream",
     "name": "stderr",
     "text": [
      "     15/100      2.95G     0.8127     0.8999     0.8936      1.056         22        640: 100%|██████████| 13/13 [00:04<00:00,  3.14it/s]\n",
      "                 Class     Images  Instances      Box(P          R      mAP50  mAP50-95)     Mask(P          R      mAP50  mAP50-95): 100%|██████████| 2/2 [00:00<00:00,  2.93it/s]"
     ]
    },
    {
     "output_type": "stream",
     "name": "stdout",
     "text": [
      "                   all         48        137      0.846      0.738      0.754      0.551      0.827      0.774      0.759      0.565\n"
     ]
    },
    {
     "output_type": "stream",
     "name": "stderr",
     "text": [
      "\n"
     ]
    },
    {
     "output_type": "stream",
     "name": "stdout",
     "text": [
      "\n",
      "      Epoch    GPU_mem   box_loss   seg_loss   cls_loss   dfl_loss  Instances       Size\n"
     ]
    },
    {
     "output_type": "stream",
     "name": "stderr",
     "text": [
      "     16/100      2.92G     0.7989      0.933     0.8605      1.046         27        640: 100%|██████████| 13/13 [00:03<00:00,  3.43it/s]\n",
      "                 Class     Images  Instances      Box(P          R      mAP50  mAP50-95)     Mask(P          R      mAP50  mAP50-95): 100%|██████████| 2/2 [00:00<00:00,  3.21it/s]"
     ]
    },
    {
     "output_type": "stream",
     "name": "stdout",
     "text": [
      "                   all         48        137      0.876      0.755      0.795      0.604      0.882      0.761      0.806      0.621\n"
     ]
    },
    {
     "output_type": "stream",
     "name": "stderr",
     "text": [
      "\n"
     ]
    },
    {
     "output_type": "stream",
     "name": "stdout",
     "text": [
      "\n",
      "      Epoch    GPU_mem   box_loss   seg_loss   cls_loss   dfl_loss  Instances       Size\n"
     ]
    },
    {
     "output_type": "stream",
     "name": "stderr",
     "text": [
      "     17/100      2.92G     0.7906     0.8227      0.842      1.039         22        640: 100%|██████████| 13/13 [00:05<00:00,  2.24it/s]\n",
      "                 Class     Images  Instances      Box(P          R      mAP50  mAP50-95)     Mask(P          R      mAP50  mAP50-95): 100%|██████████| 2/2 [00:01<00:00,  1.40it/s]"
     ]
    },
    {
     "output_type": "stream",
     "name": "stdout",
     "text": [
      "                   all         48        137       0.84      0.768      0.799      0.616      0.846      0.775       0.81      0.629\n"
     ]
    },
    {
     "output_type": "stream",
     "name": "stderr",
     "text": [
      "\n"
     ]
    },
    {
     "output_type": "stream",
     "name": "stdout",
     "text": [
      "\n",
      "      Epoch    GPU_mem   box_loss   seg_loss   cls_loss   dfl_loss  Instances       Size\n"
     ]
    },
    {
     "output_type": "stream",
     "name": "stderr",
     "text": [
      "     18/100      2.95G      0.771     0.8398     0.8188      1.049         20        640: 100%|██████████| 13/13 [00:03<00:00,  3.40it/s]\n",
      "                 Class     Images  Instances      Box(P          R      mAP50  mAP50-95)     Mask(P          R      mAP50  mAP50-95): 100%|██████████| 2/2 [00:00<00:00,  3.11it/s]\n"
     ]
    },
    {
     "output_type": "stream",
     "name": "stdout",
     "text": [
      "                   all         48        137      0.776       0.76      0.785      0.606      0.798      0.786      0.802      0.625\n",
      "\n",
      "      Epoch    GPU_mem   box_loss   seg_loss   cls_loss   dfl_loss  Instances       Size\n"
     ]
    },
    {
     "output_type": "stream",
     "name": "stderr",
     "text": [
      "     19/100      2.89G     0.7747     0.7794     0.8047      1.049         21        640: 100%|██████████| 13/13 [00:03<00:00,  3.39it/s]\n",
      "                 Class     Images  Instances      Box(P          R      mAP50  mAP50-95)     Mask(P          R      mAP50  mAP50-95): 100%|██████████| 2/2 [00:00<00:00,  2.25it/s]"
     ]
    },
    {
     "output_type": "stream",
     "name": "stdout",
     "text": [
      "                   all         48        137      0.803      0.705      0.726      0.544      0.832      0.731      0.764      0.589\n"
     ]
    },
    {
     "output_type": "stream",
     "name": "stderr",
     "text": [
      "\n"
     ]
    },
    {
     "output_type": "stream",
     "name": "stdout",
     "text": [
      "\n",
      "      Epoch    GPU_mem   box_loss   seg_loss   cls_loss   dfl_loss  Instances       Size\n"
     ]
    },
    {
     "output_type": "stream",
     "name": "stderr",
     "text": [
      "     20/100      2.93G     0.7635     0.8199     0.7878      1.066         15        640: 100%|██████████| 13/13 [00:05<00:00,  2.17it/s]\n",
      "                 Class     Images  Instances      Box(P          R      mAP50  mAP50-95)     Mask(P          R      mAP50  mAP50-95): 100%|██████████| 2/2 [00:00<00:00,  2.65it/s]\n"
     ]
    },
    {
     "output_type": "stream",
     "name": "stdout",
     "text": [
      "                   all         48        137      0.839      0.751       0.78      0.607      0.839      0.751      0.787       0.62\n",
      "\n",
      "      Epoch    GPU_mem   box_loss   seg_loss   cls_loss   dfl_loss  Instances       Size\n"
     ]
    },
    {
     "output_type": "stream",
     "name": "stderr",
     "text": [
      "     21/100       2.9G     0.7496     0.7625     0.7754      1.043         15        640: 100%|██████████| 13/13 [00:03<00:00,  3.41it/s]\n",
      "                 Class     Images  Instances      Box(P          R      mAP50  mAP50-95)     Mask(P          R      mAP50  mAP50-95): 100%|██████████| 2/2 [00:00<00:00,  3.08it/s]"
     ]
    },
    {
     "output_type": "stream",
     "name": "stdout",
     "text": [
      "                   all         48        137      0.919      0.695      0.797      0.598      0.819      0.742      0.794        0.6\n"
     ]
    },
    {
     "output_type": "stream",
     "name": "stderr",
     "text": [
      "\n"
     ]
    },
    {
     "output_type": "stream",
     "name": "stdout",
     "text": [
      "\n",
      "      Epoch    GPU_mem   box_loss   seg_loss   cls_loss   dfl_loss  Instances       Size\n"
     ]
    },
    {
     "output_type": "stream",
     "name": "stderr",
     "text": [
      "     22/100      2.97G     0.7661     0.7705      0.782      1.047         16        640: 100%|██████████| 13/13 [00:04<00:00,  3.17it/s]\n",
      "                 Class     Images  Instances      Box(P          R      mAP50  mAP50-95)     Mask(P          R      mAP50  mAP50-95): 100%|██████████| 2/2 [00:01<00:00,  1.79it/s]"
     ]
    },
    {
     "output_type": "stream",
     "name": "stdout",
     "text": [
      "                   all         48        137      0.855      0.774      0.803      0.613      0.849      0.771      0.795      0.621\n"
     ]
    },
    {
     "output_type": "stream",
     "name": "stderr",
     "text": [
      "\n"
     ]
    },
    {
     "output_type": "stream",
     "name": "stdout",
     "text": [
      "\n",
      "      Epoch    GPU_mem   box_loss   seg_loss   cls_loss   dfl_loss  Instances       Size\n"
     ]
    },
    {
     "output_type": "stream",
     "name": "stderr",
     "text": [
      "     23/100      2.93G     0.7393     0.8216     0.7519      1.019         31        640: 100%|██████████| 13/13 [00:05<00:00,  2.46it/s]\n",
      "                 Class     Images  Instances      Box(P          R      mAP50  mAP50-95)     Mask(P          R      mAP50  mAP50-95): 100%|██████████| 2/2 [00:00<00:00,  3.20it/s]\n"
     ]
    },
    {
     "output_type": "stream",
     "name": "stdout",
     "text": [
      "                   all         48        137      0.828      0.764      0.793      0.598      0.853       0.78      0.819      0.622\n",
      "\n",
      "      Epoch    GPU_mem   box_loss   seg_loss   cls_loss   dfl_loss  Instances       Size\n"
     ]
    },
    {
     "output_type": "stream",
     "name": "stderr",
     "text": [
      "     24/100      2.89G     0.7231     0.8155      0.723      1.017         14        640: 100%|██████████| 13/13 [00:03<00:00,  3.34it/s]\n",
      "                 Class     Images  Instances      Box(P          R      mAP50  mAP50-95)     Mask(P          R      mAP50  mAP50-95): 100%|██████████| 2/2 [00:00<00:00,  3.16it/s]"
     ]
    },
    {
     "output_type": "stream",
     "name": "stdout",
     "text": [
      "                   all         48        137      0.935      0.741       0.85      0.631      0.939      0.746      0.844      0.669\n"
     ]
    },
    {
     "output_type": "stream",
     "name": "stderr",
     "text": [
      "\n"
     ]
    },
    {
     "output_type": "stream",
     "name": "stdout",
     "text": [
      "\n",
      "      Epoch    GPU_mem   box_loss   seg_loss   cls_loss   dfl_loss  Instances       Size\n"
     ]
    },
    {
     "output_type": "stream",
     "name": "stderr",
     "text": [
      "     25/100      2.94G     0.7158     0.7565      0.715      1.014         18        640: 100%|██████████| 13/13 [00:04<00:00,  2.69it/s]\n",
      "                 Class     Images  Instances      Box(P          R      mAP50  mAP50-95)     Mask(P          R      mAP50  mAP50-95): 100%|██████████| 2/2 [00:01<00:00,  1.69it/s]"
     ]
    },
    {
     "output_type": "stream",
     "name": "stdout",
     "text": [
      "                   all         48        137      0.838      0.817      0.846      0.642      0.841      0.817      0.849      0.671\n"
     ]
    },
    {
     "output_type": "stream",
     "name": "stderr",
     "text": [
      "\n"
     ]
    },
    {
     "output_type": "stream",
     "name": "stdout",
     "text": [
      "\n",
      "      Epoch    GPU_mem   box_loss   seg_loss   cls_loss   dfl_loss  Instances       Size\n"
     ]
    },
    {
     "output_type": "stream",
     "name": "stderr",
     "text": [
      "     26/100      2.94G     0.7055     0.7802       0.69       1.01         16        640: 100%|██████████| 13/13 [00:04<00:00,  3.02it/s]\n",
      "                 Class     Images  Instances      Box(P          R      mAP50  mAP50-95)     Mask(P          R      mAP50  mAP50-95): 100%|██████████| 2/2 [00:00<00:00,  3.20it/s]\n"
     ]
    },
    {
     "output_type": "stream",
     "name": "stdout",
     "text": [
      "                   all         48        137      0.759      0.817      0.802      0.626      0.826      0.816       0.82       0.63\n",
      "\n",
      "      Epoch    GPU_mem   box_loss   seg_loss   cls_loss   dfl_loss  Instances       Size\n"
     ]
    },
    {
     "output_type": "stream",
     "name": "stderr",
     "text": [
      "     27/100      2.93G     0.7003     0.7952     0.6902      1.004         19        640: 100%|██████████| 13/13 [00:03<00:00,  3.43it/s]\n",
      "                 Class     Images  Instances      Box(P          R      mAP50  mAP50-95)     Mask(P          R      mAP50  mAP50-95): 100%|██████████| 2/2 [00:00<00:00,  2.94it/s]\n"
     ]
    },
    {
     "output_type": "stream",
     "name": "stdout",
     "text": [
      "                   all         48        137      0.842      0.741      0.814      0.649      0.858      0.754      0.825      0.652\n",
      "\n",
      "      Epoch    GPU_mem   box_loss   seg_loss   cls_loss   dfl_loss  Instances       Size\n"
     ]
    },
    {
     "output_type": "stream",
     "name": "stderr",
     "text": [
      "     28/100      2.93G     0.7526     0.7824     0.7305      1.026         15        640: 100%|██████████| 13/13 [00:05<00:00,  2.32it/s]\n",
      "                 Class     Images  Instances      Box(P          R      mAP50  mAP50-95)     Mask(P          R      mAP50  mAP50-95): 100%|██████████| 2/2 [00:01<00:00,  1.64it/s]"
     ]
    },
    {
     "output_type": "stream",
     "name": "stdout",
     "text": [
      "                   all         48        137      0.798      0.771      0.818      0.641      0.841       0.78      0.834      0.651\n"
     ]
    },
    {
     "output_type": "stream",
     "name": "stderr",
     "text": [
      "\n"
     ]
    },
    {
     "output_type": "stream",
     "name": "stdout",
     "text": [
      "\n",
      "      Epoch    GPU_mem   box_loss   seg_loss   cls_loss   dfl_loss  Instances       Size\n"
     ]
    },
    {
     "output_type": "stream",
     "name": "stderr",
     "text": [
      "     29/100      2.96G     0.7137      0.741      0.704      1.017         20        640: 100%|██████████| 13/13 [00:03<00:00,  3.41it/s]\n",
      "                 Class     Images  Instances      Box(P          R      mAP50  mAP50-95)     Mask(P          R      mAP50  mAP50-95): 100%|██████████| 2/2 [00:00<00:00,  3.13it/s]"
     ]
    },
    {
     "output_type": "stream",
     "name": "stdout",
     "text": [
      "                   all         48        137      0.832      0.797      0.825      0.628       0.84      0.804      0.831      0.637\n"
     ]
    },
    {
     "output_type": "stream",
     "name": "stderr",
     "text": [
      "\n"
     ]
    },
    {
     "output_type": "stream",
     "name": "stdout",
     "text": [
      "\n",
      "      Epoch    GPU_mem   box_loss   seg_loss   cls_loss   dfl_loss  Instances       Size\n"
     ]
    },
    {
     "output_type": "stream",
     "name": "stderr",
     "text": [
      "     30/100      2.89G     0.6771     0.6944     0.6422      1.012         11        640: 100%|██████████| 13/13 [00:03<00:00,  3.31it/s]\n",
      "                 Class     Images  Instances      Box(P          R      mAP50  mAP50-95)     Mask(P          R      mAP50  mAP50-95): 100%|██████████| 2/2 [00:01<00:00,  1.89it/s]"
     ]
    },
    {
     "output_type": "stream",
     "name": "stdout",
     "text": [
      "                   all         48        137      0.787      0.778      0.779      0.614      0.833      0.751      0.784      0.619\n"
     ]
    },
    {
     "output_type": "stream",
     "name": "stderr",
     "text": [
      "\n"
     ]
    },
    {
     "output_type": "stream",
     "name": "stdout",
     "text": [
      "\n",
      "      Epoch    GPU_mem   box_loss   seg_loss   cls_loss   dfl_loss  Instances       Size\n"
     ]
    },
    {
     "output_type": "stream",
     "name": "stderr",
     "text": [
      "     31/100      2.93G     0.6633     0.8941     0.6598     0.9831         10        640: 100%|██████████| 13/13 [00:06<00:00,  2.02it/s]\n",
      "                 Class     Images  Instances      Box(P          R      mAP50  mAP50-95)     Mask(P          R      mAP50  mAP50-95): 100%|██████████| 2/2 [00:01<00:00,  1.38it/s]"
     ]
    },
    {
     "output_type": "stream",
     "name": "stdout",
     "text": [
      "                   all         48        137      0.853      0.785      0.811      0.635      0.864      0.795      0.819      0.624\n"
     ]
    },
    {
     "output_type": "stream",
     "name": "stderr",
     "text": [
      "\n"
     ]
    },
    {
     "output_type": "stream",
     "name": "stdout",
     "text": [
      "\n",
      "      Epoch    GPU_mem   box_loss   seg_loss   cls_loss   dfl_loss  Instances       Size\n"
     ]
    },
    {
     "output_type": "stream",
     "name": "stderr",
     "text": [
      "     32/100      2.95G     0.6941     0.7649     0.6403      1.003         19        640: 100%|██████████| 13/13 [00:03<00:00,  3.38it/s]\n",
      "                 Class     Images  Instances      Box(P          R      mAP50  mAP50-95)     Mask(P          R      mAP50  mAP50-95): 100%|██████████| 2/2 [00:00<00:00,  3.26it/s]\n"
     ]
    },
    {
     "output_type": "stream",
     "name": "stdout",
     "text": [
      "                   all         48        137      0.877      0.784      0.825        0.6      0.888      0.794       0.83      0.645\n",
      "\n",
      "      Epoch    GPU_mem   box_loss   seg_loss   cls_loss   dfl_loss  Instances       Size\n"
     ]
    },
    {
     "output_type": "stream",
     "name": "stderr",
     "text": [
      "     33/100      2.96G     0.6899      0.743     0.6567      1.013         13        640: 100%|██████████| 13/13 [00:03<00:00,  3.49it/s]\n",
      "                 Class     Images  Instances      Box(P          R      mAP50  mAP50-95)     Mask(P          R      mAP50  mAP50-95): 100%|██████████| 2/2 [00:00<00:00,  2.98it/s]"
     ]
    },
    {
     "output_type": "stream",
     "name": "stdout",
     "text": [
      "                   all         48        137      0.858      0.781      0.825      0.623      0.848      0.771       0.81      0.622\n"
     ]
    },
    {
     "output_type": "stream",
     "name": "stderr",
     "text": [
      "\n"
     ]
    },
    {
     "output_type": "stream",
     "name": "stdout",
     "text": [
      "\n",
      "      Epoch    GPU_mem   box_loss   seg_loss   cls_loss   dfl_loss  Instances       Size\n"
     ]
    },
    {
     "output_type": "stream",
     "name": "stderr",
     "text": [
      "     34/100      2.92G     0.6752     0.7531     0.6739      1.018         20        640: 100%|██████████| 13/13 [00:05<00:00,  2.33it/s]\n",
      "                 Class     Images  Instances      Box(P          R      mAP50  mAP50-95)     Mask(P          R      mAP50  mAP50-95): 100%|██████████| 2/2 [00:00<00:00,  2.88it/s]\n"
     ]
    },
    {
     "output_type": "stream",
     "name": "stdout",
     "text": [
      "                   all         48        137      0.834      0.825      0.812      0.633      0.824      0.783      0.788      0.638\n",
      "\n",
      "      Epoch    GPU_mem   box_loss   seg_loss   cls_loss   dfl_loss  Instances       Size\n"
     ]
    },
    {
     "output_type": "stream",
     "name": "stderr",
     "text": [
      "     35/100      2.96G     0.6771     0.7497     0.6722      1.002         18        640: 100%|██████████| 13/13 [00:03<00:00,  3.43it/s]\n",
      "                 Class     Images  Instances      Box(P          R      mAP50  mAP50-95)     Mask(P          R      mAP50  mAP50-95): 100%|██████████| 2/2 [00:00<00:00,  3.11it/s]\n"
     ]
    },
    {
     "output_type": "stream",
     "name": "stdout",
     "text": [
      "                   all         48        137       0.82      0.813      0.803      0.655      0.819      0.813        0.8      0.647\n",
      "\n",
      "      Epoch    GPU_mem   box_loss   seg_loss   cls_loss   dfl_loss  Instances       Size\n"
     ]
    },
    {
     "output_type": "stream",
     "name": "stderr",
     "text": [
      "     36/100      2.94G     0.6683     0.7904       0.65     0.9939         27        640: 100%|██████████| 13/13 [00:04<00:00,  3.02it/s]\n",
      "                 Class     Images  Instances      Box(P          R      mAP50  mAP50-95)     Mask(P          R      mAP50  mAP50-95): 100%|██████████| 2/2 [00:01<00:00,  1.98it/s]"
     ]
    },
    {
     "output_type": "stream",
     "name": "stdout",
     "text": [
      "                   all         48        137      0.821      0.817      0.829      0.656      0.838      0.805      0.824      0.672\n"
     ]
    },
    {
     "output_type": "stream",
     "name": "stderr",
     "text": [
      "\n"
     ]
    },
    {
     "output_type": "stream",
     "name": "stdout",
     "text": [
      "\n",
      "      Epoch    GPU_mem   box_loss   seg_loss   cls_loss   dfl_loss  Instances       Size\n"
     ]
    },
    {
     "output_type": "stream",
     "name": "stderr",
     "text": [
      "     37/100      2.92G     0.6438      0.736     0.6254     0.9789         23        640: 100%|██████████| 13/13 [00:04<00:00,  2.64it/s]\n",
      "                 Class     Images  Instances      Box(P          R      mAP50  mAP50-95)     Mask(P          R      mAP50  mAP50-95): 100%|██████████| 2/2 [00:00<00:00,  2.73it/s]"
     ]
    },
    {
     "output_type": "stream",
     "name": "stdout",
     "text": [
      "                   all         48        137      0.852      0.807       0.84      0.661      0.848      0.814      0.843      0.675\n"
     ]
    },
    {
     "output_type": "stream",
     "name": "stderr",
     "text": [
      "\n"
     ]
    },
    {
     "output_type": "stream",
     "name": "stdout",
     "text": [
      "\n",
      "      Epoch    GPU_mem   box_loss   seg_loss   cls_loss   dfl_loss  Instances       Size\n"
     ]
    },
    {
     "output_type": "stream",
     "name": "stderr",
     "text": [
      "     38/100      2.93G     0.6658     0.7257     0.6508      1.004         21        640: 100%|██████████| 13/13 [00:03<00:00,  3.44it/s]\n",
      "                 Class     Images  Instances      Box(P          R      mAP50  mAP50-95)     Mask(P          R      mAP50  mAP50-95): 100%|██████████| 2/2 [00:00<00:00,  3.60it/s]"
     ]
    },
    {
     "output_type": "stream",
     "name": "stdout",
     "text": [
      "                   all         48        137      0.819      0.807      0.809      0.641      0.839      0.807      0.819      0.646\n"
     ]
    },
    {
     "output_type": "stream",
     "name": "stderr",
     "text": [
      "\n"
     ]
    },
    {
     "output_type": "stream",
     "name": "stdout",
     "text": [
      "\n",
      "      Epoch    GPU_mem   box_loss   seg_loss   cls_loss   dfl_loss  Instances       Size\n"
     ]
    },
    {
     "output_type": "stream",
     "name": "stderr",
     "text": [
      "     39/100      2.97G     0.6529     0.7011      0.645     0.9872         15        640: 100%|██████████| 13/13 [00:04<00:00,  2.86it/s]\n",
      "                 Class     Images  Instances      Box(P          R      mAP50  mAP50-95)     Mask(P          R      mAP50  mAP50-95): 100%|██████████| 2/2 [00:01<00:00,  1.57it/s]"
     ]
    },
    {
     "output_type": "stream",
     "name": "stdout",
     "text": [
      "                   all         48        137      0.878      0.784      0.821       0.64       0.88      0.784      0.825      0.641\n"
     ]
    },
    {
     "output_type": "stream",
     "name": "stderr",
     "text": [
      "\n"
     ]
    },
    {
     "output_type": "stream",
     "name": "stdout",
     "text": [
      "\n",
      "      Epoch    GPU_mem   box_loss   seg_loss   cls_loss   dfl_loss  Instances       Size\n"
     ]
    },
    {
     "output_type": "stream",
     "name": "stderr",
     "text": [
      "     40/100      2.87G     0.6458     0.6419     0.5914     0.9885         19        640: 100%|██████████| 13/13 [00:04<00:00,  3.18it/s]\n",
      "                 Class     Images  Instances      Box(P          R      mAP50  mAP50-95)     Mask(P          R      mAP50  mAP50-95): 100%|██████████| 2/2 [00:00<00:00,  2.81it/s]"
     ]
    },
    {
     "output_type": "stream",
     "name": "stdout",
     "text": [
      "                   all         48        137      0.881       0.81      0.832      0.652      0.875      0.794      0.824      0.635\n"
     ]
    },
    {
     "output_type": "stream",
     "name": "stderr",
     "text": [
      "\n"
     ]
    },
    {
     "output_type": "stream",
     "name": "stdout",
     "text": [
      "\n",
      "      Epoch    GPU_mem   box_loss   seg_loss   cls_loss   dfl_loss  Instances       Size\n"
     ]
    },
    {
     "output_type": "stream",
     "name": "stderr",
     "text": [
      "     41/100      2.95G     0.6565     0.7092     0.6121      1.007         27        640: 100%|██████████| 13/13 [00:03<00:00,  3.32it/s]\n",
      "                 Class     Images  Instances      Box(P          R      mAP50  mAP50-95)     Mask(P          R      mAP50  mAP50-95): 100%|██████████| 2/2 [00:00<00:00,  3.60it/s]"
     ]
    },
    {
     "output_type": "stream",
     "name": "stdout",
     "text": [
      "                   all         48        137      0.866      0.823      0.819      0.643      0.884      0.827      0.823      0.635\n"
     ]
    },
    {
     "output_type": "stream",
     "name": "stderr",
     "text": [
      "\n"
     ]
    },
    {
     "output_type": "stream",
     "name": "stdout",
     "text": [
      "\n",
      "      Epoch    GPU_mem   box_loss   seg_loss   cls_loss   dfl_loss  Instances       Size\n"
     ]
    },
    {
     "output_type": "stream",
     "name": "stderr",
     "text": [
      "     42/100      2.91G     0.6408     0.7019     0.5949     0.9985         16        640: 100%|██████████| 13/13 [00:05<00:00,  2.38it/s]\n",
      "                 Class     Images  Instances      Box(P          R      mAP50  mAP50-95)     Mask(P          R      mAP50  mAP50-95): 100%|██████████| 2/2 [00:01<00:00,  1.29it/s]"
     ]
    },
    {
     "output_type": "stream",
     "name": "stdout",
     "text": [
      "                   all         48        137      0.909      0.796      0.828      0.662      0.909      0.796      0.826       0.66\n"
     ]
    },
    {
     "output_type": "stream",
     "name": "stderr",
     "text": [
      "\n"
     ]
    },
    {
     "output_type": "stream",
     "name": "stdout",
     "text": [
      "\n",
      "      Epoch    GPU_mem   box_loss   seg_loss   cls_loss   dfl_loss  Instances       Size\n"
     ]
    },
    {
     "output_type": "stream",
     "name": "stderr",
     "text": [
      "     43/100      2.98G      0.644      0.746     0.5973     0.9846         25        640: 100%|██████████| 13/13 [00:03<00:00,  3.49it/s]\n",
      "                 Class     Images  Instances      Box(P          R      mAP50  mAP50-95)     Mask(P          R      mAP50  mAP50-95): 100%|██████████| 2/2 [00:00<00:00,  2.99it/s]\n"
     ]
    },
    {
     "output_type": "stream",
     "name": "stdout",
     "text": [
      "                   all         48        137      0.905      0.804      0.835      0.681      0.905      0.804      0.833      0.662\n",
      "\n",
      "      Epoch    GPU_mem   box_loss   seg_loss   cls_loss   dfl_loss  Instances       Size\n"
     ]
    },
    {
     "output_type": "stream",
     "name": "stderr",
     "text": [
      "     44/100      2.98G      0.635     0.7089     0.6132      0.992         23        640: 100%|██████████| 13/13 [00:03<00:00,  3.38it/s]\n",
      "                 Class     Images  Instances      Box(P          R      mAP50  mAP50-95)     Mask(P          R      mAP50  mAP50-95): 100%|██████████| 2/2 [00:00<00:00,  3.28it/s]"
     ]
    },
    {
     "output_type": "stream",
     "name": "stdout",
     "text": [
      "                   all         48        137      0.873      0.828      0.838       0.65      0.876      0.814      0.835      0.658\n"
     ]
    },
    {
     "output_type": "stream",
     "name": "stderr",
     "text": [
      "\n"
     ]
    },
    {
     "output_type": "stream",
     "name": "stdout",
     "text": [
      "\n",
      "      Epoch    GPU_mem   box_loss   seg_loss   cls_loss   dfl_loss  Instances       Size\n"
     ]
    },
    {
     "output_type": "stream",
     "name": "stderr",
     "text": [
      "     45/100      2.97G     0.6006     0.7364     0.5754     0.9848         15        640: 100%|██████████| 13/13 [00:05<00:00,  2.29it/s]\n",
      "                 Class     Images  Instances      Box(P          R      mAP50  mAP50-95)     Mask(P          R      mAP50  mAP50-95): 100%|██████████| 2/2 [00:00<00:00,  2.79it/s]"
     ]
    },
    {
     "output_type": "stream",
     "name": "stdout",
     "text": [
      "                   all         48        137      0.834       0.85      0.823      0.651      0.824       0.84      0.816      0.617\n"
     ]
    },
    {
     "output_type": "stream",
     "name": "stderr",
     "text": [
      "\n"
     ]
    },
    {
     "output_type": "stream",
     "name": "stdout",
     "text": [
      "\n",
      "      Epoch    GPU_mem   box_loss   seg_loss   cls_loss   dfl_loss  Instances       Size\n"
     ]
    },
    {
     "output_type": "stream",
     "name": "stderr",
     "text": [
      "     46/100      2.88G     0.6258     0.7282     0.5855     0.9819         17        640: 100%|██████████| 13/13 [00:03<00:00,  3.41it/s]\n",
      "                 Class     Images  Instances      Box(P          R      mAP50  mAP50-95)     Mask(P          R      mAP50  mAP50-95): 100%|██████████| 2/2 [00:00<00:00,  3.26it/s]"
     ]
    },
    {
     "output_type": "stream",
     "name": "stdout",
     "text": [
      "                   all         48        137      0.845      0.822      0.824      0.644      0.834      0.812      0.813      0.643\n"
     ]
    },
    {
     "output_type": "stream",
     "name": "stderr",
     "text": [
      "\n"
     ]
    },
    {
     "output_type": "stream",
     "name": "stdout",
     "text": [
      "\n",
      "      Epoch    GPU_mem   box_loss   seg_loss   cls_loss   dfl_loss  Instances       Size\n"
     ]
    },
    {
     "output_type": "stream",
     "name": "stderr",
     "text": [
      "     47/100      2.92G     0.6383     0.6588     0.5864     0.9755         26        640: 100%|██████████| 13/13 [00:04<00:00,  3.08it/s]\n",
      "                 Class     Images  Instances      Box(P          R      mAP50  mAP50-95)     Mask(P          R      mAP50  mAP50-95): 100%|██████████| 2/2 [00:01<00:00,  1.81it/s]"
     ]
    },
    {
     "output_type": "stream",
     "name": "stdout",
     "text": [
      "                   all         48        137      0.881      0.784      0.832      0.658      0.867      0.775      0.813      0.651\n"
     ]
    },
    {
     "output_type": "stream",
     "name": "stderr",
     "text": [
      "\n"
     ]
    },
    {
     "output_type": "stream",
     "name": "stdout",
     "text": [
      "\n",
      "      Epoch    GPU_mem   box_loss   seg_loss   cls_loss   dfl_loss  Instances       Size\n"
     ]
    },
    {
     "output_type": "stream",
     "name": "stderr",
     "text": [
      "     48/100      2.95G     0.6174     0.6589     0.5837     0.9806         13        640: 100%|██████████| 13/13 [00:04<00:00,  2.61it/s]\n",
      "                 Class     Images  Instances      Box(P          R      mAP50  mAP50-95)     Mask(P          R      mAP50  mAP50-95): 100%|██████████| 2/2 [00:00<00:00,  2.82it/s]"
     ]
    },
    {
     "output_type": "stream",
     "name": "stdout",
     "text": [
      "                   all         48        137      0.878      0.801      0.843      0.669      0.867       0.79      0.824      0.651\n"
     ]
    },
    {
     "output_type": "stream",
     "name": "stderr",
     "text": [
      "\n"
     ]
    },
    {
     "output_type": "stream",
     "name": "stdout",
     "text": [
      "\n",
      "      Epoch    GPU_mem   box_loss   seg_loss   cls_loss   dfl_loss  Instances       Size\n"
     ]
    },
    {
     "output_type": "stream",
     "name": "stderr",
     "text": [
      "     49/100      2.94G     0.6406     0.6637     0.5584     0.9805         20        640: 100%|██████████| 13/13 [00:03<00:00,  3.43it/s]\n",
      "                 Class     Images  Instances      Box(P          R      mAP50  mAP50-95)     Mask(P          R      mAP50  mAP50-95): 100%|██████████| 2/2 [00:00<00:00,  3.40it/s]\n"
     ]
    },
    {
     "output_type": "stream",
     "name": "stdout",
     "text": [
      "                   all         48        137      0.836      0.849       0.84      0.671      0.836      0.849      0.841      0.664\n",
      "\n",
      "      Epoch    GPU_mem   box_loss   seg_loss   cls_loss   dfl_loss  Instances       Size\n"
     ]
    },
    {
     "output_type": "stream",
     "name": "stderr",
     "text": [
      "     50/100      2.93G     0.5819     0.6157     0.5365     0.9511         27        640: 100%|██████████| 13/13 [00:04<00:00,  2.88it/s]\n",
      "                 Class     Images  Instances      Box(P          R      mAP50  mAP50-95)     Mask(P          R      mAP50  mAP50-95): 100%|██████████| 2/2 [00:01<00:00,  1.54it/s]"
     ]
    },
    {
     "output_type": "stream",
     "name": "stdout",
     "text": [
      "                   all         48        137        0.9      0.811      0.837      0.665        0.9      0.811      0.836      0.655\n"
     ]
    },
    {
     "output_type": "stream",
     "name": "stderr",
     "text": [
      "\n"
     ]
    },
    {
     "output_type": "stream",
     "name": "stdout",
     "text": [
      "\n",
      "      Epoch    GPU_mem   box_loss   seg_loss   cls_loss   dfl_loss  Instances       Size\n"
     ]
    },
    {
     "output_type": "stream",
     "name": "stderr",
     "text": [
      "     51/100      2.95G     0.6175     0.6277      0.553     0.9945         19        640: 100%|██████████| 13/13 [00:04<00:00,  3.13it/s]\n",
      "                 Class     Images  Instances      Box(P          R      mAP50  mAP50-95)     Mask(P          R      mAP50  mAP50-95): 100%|██████████| 2/2 [00:00<00:00,  3.30it/s]"
     ]
    },
    {
     "output_type": "stream",
     "name": "stdout",
     "text": [
      "                   all         48        137      0.885      0.853      0.842      0.672      0.883      0.817      0.833      0.659\n"
     ]
    },
    {
     "output_type": "stream",
     "name": "stderr",
     "text": [
      "\n"
     ]
    },
    {
     "output_type": "stream",
     "name": "stdout",
     "text": [
      "\n",
      "      Epoch    GPU_mem   box_loss   seg_loss   cls_loss   dfl_loss  Instances       Size\n"
     ]
    },
    {
     "output_type": "stream",
     "name": "stderr",
     "text": [
      "     52/100       2.9G     0.6063     0.6369     0.5495     0.9795         24        640: 100%|██████████| 13/13 [00:03<00:00,  3.30it/s]\n",
      "                 Class     Images  Instances      Box(P          R      mAP50  mAP50-95)     Mask(P          R      mAP50  mAP50-95): 100%|██████████| 2/2 [00:00<00:00,  3.44it/s]"
     ]
    },
    {
     "output_type": "stream",
     "name": "stdout",
     "text": [
      "                   all         48        137      0.891      0.842      0.859      0.691      0.895      0.839      0.855      0.678\n"
     ]
    },
    {
     "output_type": "stream",
     "name": "stderr",
     "text": [
      "\n"
     ]
    },
    {
     "output_type": "stream",
     "name": "stdout",
     "text": [
      "\n",
      "      Epoch    GPU_mem   box_loss   seg_loss   cls_loss   dfl_loss  Instances       Size\n"
     ]
    },
    {
     "output_type": "stream",
     "name": "stderr",
     "text": [
      "     53/100      2.92G     0.6111     0.6037     0.5442     0.9926         12        640: 100%|██████████| 13/13 [00:05<00:00,  2.42it/s]\n",
      "                 Class     Images  Instances      Box(P          R      mAP50  mAP50-95)     Mask(P          R      mAP50  mAP50-95): 100%|██████████| 2/2 [00:01<00:00,  1.24it/s]"
     ]
    },
    {
     "output_type": "stream",
     "name": "stdout",
     "text": [
      "                   all         48        137      0.845      0.856      0.842      0.674      0.872      0.852      0.846      0.681\n"
     ]
    },
    {
     "output_type": "stream",
     "name": "stderr",
     "text": [
      "\n"
     ]
    },
    {
     "output_type": "stream",
     "name": "stdout",
     "text": [
      "\n",
      "      Epoch    GPU_mem   box_loss   seg_loss   cls_loss   dfl_loss  Instances       Size\n"
     ]
    },
    {
     "output_type": "stream",
     "name": "stderr",
     "text": [
      "     54/100      2.92G     0.5982     0.6374     0.5364     0.9733         17        640: 100%|██████████| 13/13 [00:03<00:00,  3.35it/s]\n",
      "                 Class     Images  Instances      Box(P          R      mAP50  mAP50-95)     Mask(P          R      mAP50  mAP50-95): 100%|██████████| 2/2 [00:00<00:00,  3.44it/s]"
     ]
    },
    {
     "output_type": "stream",
     "name": "stdout",
     "text": [
      "                   all         48        137      0.866      0.861      0.843      0.683      0.879      0.824      0.839      0.674\n"
     ]
    },
    {
     "output_type": "stream",
     "name": "stderr",
     "text": [
      "\n"
     ]
    },
    {
     "output_type": "stream",
     "name": "stdout",
     "text": [
      "\n",
      "      Epoch    GPU_mem   box_loss   seg_loss   cls_loss   dfl_loss  Instances       Size\n"
     ]
    },
    {
     "output_type": "stream",
     "name": "stderr",
     "text": [
      "     55/100      2.93G     0.5982     0.6811     0.5643     0.9718         18        640: 100%|██████████| 13/13 [00:03<00:00,  3.36it/s]\n",
      "                 Class     Images  Instances      Box(P          R      mAP50  mAP50-95)     Mask(P          R      mAP50  mAP50-95): 100%|██████████| 2/2 [00:00<00:00,  3.37it/s]"
     ]
    },
    {
     "output_type": "stream",
     "name": "stdout",
     "text": [
      "                   all         48        137        0.9      0.794      0.845      0.676        0.9      0.794      0.844      0.673\n"
     ]
    },
    {
     "output_type": "stream",
     "name": "stderr",
     "text": [
      "\n"
     ]
    },
    {
     "output_type": "stream",
     "name": "stdout",
     "text": [
      "\n",
      "      Epoch    GPU_mem   box_loss   seg_loss   cls_loss   dfl_loss  Instances       Size\n"
     ]
    },
    {
     "output_type": "stream",
     "name": "stderr",
     "text": [
      "     56/100      2.95G      0.578     0.6018     0.5194     0.9734         16        640: 100%|██████████| 13/13 [00:05<00:00,  2.21it/s]\n",
      "                 Class     Images  Instances      Box(P          R      mAP50  mAP50-95)     Mask(P          R      mAP50  mAP50-95): 100%|██████████| 2/2 [00:00<00:00,  2.64it/s]"
     ]
    },
    {
     "output_type": "stream",
     "name": "stdout",
     "text": [
      "                   all         48        137      0.913       0.81      0.856      0.697      0.913       0.81      0.858      0.672\n"
     ]
    },
    {
     "output_type": "stream",
     "name": "stderr",
     "text": [
      "\n"
     ]
    },
    {
     "output_type": "stream",
     "name": "stdout",
     "text": [
      "\n",
      "      Epoch    GPU_mem   box_loss   seg_loss   cls_loss   dfl_loss  Instances       Size\n"
     ]
    },
    {
     "output_type": "stream",
     "name": "stderr",
     "text": [
      "     57/100      2.89G     0.5896     0.6382     0.5247     0.9737         20        640: 100%|██████████| 13/13 [00:03<00:00,  3.34it/s]\n",
      "                 Class     Images  Instances      Box(P          R      mAP50  mAP50-95)     Mask(P          R      mAP50  mAP50-95): 100%|██████████| 2/2 [00:00<00:00,  3.03it/s]"
     ]
    },
    {
     "output_type": "stream",
     "name": "stdout",
     "text": [
      "                   all         48        137      0.855      0.834      0.848      0.675      0.879      0.833      0.844      0.653\n"
     ]
    },
    {
     "output_type": "stream",
     "name": "stderr",
     "text": [
      "\n"
     ]
    },
    {
     "output_type": "stream",
     "name": "stdout",
     "text": [
      "\n",
      "      Epoch    GPU_mem   box_loss   seg_loss   cls_loss   dfl_loss  Instances       Size\n"
     ]
    },
    {
     "output_type": "stream",
     "name": "stderr",
     "text": [
      "     58/100      2.97G     0.5903     0.6444      0.533     0.9705         17        640: 100%|██████████| 13/13 [00:06<00:00,  2.13it/s]\n",
      "                 Class     Images  Instances      Box(P          R      mAP50  mAP50-95)     Mask(P          R      mAP50  mAP50-95): 100%|██████████| 2/2 [00:01<00:00,  1.33it/s]"
     ]
    },
    {
     "output_type": "stream",
     "name": "stdout",
     "text": [
      "                   all         48        137      0.805      0.817      0.832      0.687      0.899      0.774       0.84      0.675\n"
     ]
    },
    {
     "output_type": "stream",
     "name": "stderr",
     "text": [
      "\n"
     ]
    },
    {
     "output_type": "stream",
     "name": "stdout",
     "text": [
      "\n",
      "      Epoch    GPU_mem   box_loss   seg_loss   cls_loss   dfl_loss  Instances       Size\n"
     ]
    },
    {
     "output_type": "stream",
     "name": "stderr",
     "text": [
      "     59/100      2.94G     0.5839     0.6342     0.5175     0.9776         20        640: 100%|██████████| 13/13 [00:04<00:00,  2.71it/s]\n",
      "                 Class     Images  Instances      Box(P          R      mAP50  mAP50-95)     Mask(P          R      mAP50  mAP50-95): 100%|██████████| 2/2 [00:00<00:00,  3.12it/s]"
     ]
    },
    {
     "output_type": "stream",
     "name": "stdout",
     "text": [
      "                   all         48        137      0.866       0.82      0.842      0.676      0.896      0.822      0.852      0.677\n"
     ]
    },
    {
     "output_type": "stream",
     "name": "stderr",
     "text": [
      "\n"
     ]
    },
    {
     "output_type": "stream",
     "name": "stdout",
     "text": [
      "\n",
      "      Epoch    GPU_mem   box_loss   seg_loss   cls_loss   dfl_loss  Instances       Size\n"
     ]
    },
    {
     "output_type": "stream",
     "name": "stderr",
     "text": [
      "     60/100      2.93G     0.5769     0.6346     0.5249     0.9602         20        640: 100%|██████████| 13/13 [00:03<00:00,  3.42it/s]\n",
      "                 Class     Images  Instances      Box(P          R      mAP50  mAP50-95)     Mask(P          R      mAP50  mAP50-95): 100%|██████████| 2/2 [00:00<00:00,  3.87it/s]"
     ]
    },
    {
     "output_type": "stream",
     "name": "stdout",
     "text": [
      "                   all         48        137      0.812      0.863       0.85      0.691      0.822      0.857       0.85      0.664\n"
     ]
    },
    {
     "output_type": "stream",
     "name": "stderr",
     "text": [
      "\n"
     ]
    },
    {
     "output_type": "stream",
     "name": "stdout",
     "text": [
      "\n",
      "      Epoch    GPU_mem   box_loss   seg_loss   cls_loss   dfl_loss  Instances       Size\n"
     ]
    },
    {
     "output_type": "stream",
     "name": "stderr",
     "text": [
      "     61/100      2.91G     0.5957     0.6337     0.5466     0.9786         22        640: 100%|██████████| 13/13 [00:04<00:00,  2.74it/s]\n",
      "                 Class     Images  Instances      Box(P          R      mAP50  mAP50-95)     Mask(P          R      mAP50  mAP50-95): 100%|██████████| 2/2 [00:01<00:00,  1.51it/s]"
     ]
    },
    {
     "output_type": "stream",
     "name": "stdout",
     "text": [
      "                   all         48        137      0.871      0.792      0.838      0.683      0.871      0.792      0.844      0.662\n"
     ]
    },
    {
     "output_type": "stream",
     "name": "stderr",
     "text": [
      "\n"
     ]
    },
    {
     "output_type": "stream",
     "name": "stdout",
     "text": [
      "\n",
      "      Epoch    GPU_mem   box_loss   seg_loss   cls_loss   dfl_loss  Instances       Size\n"
     ]
    },
    {
     "output_type": "stream",
     "name": "stderr",
     "text": [
      "     62/100      2.97G     0.5395     0.6208     0.4913     0.9427         18        640: 100%|██████████| 13/13 [00:04<00:00,  3.10it/s]\n",
      "                 Class     Images  Instances      Box(P          R      mAP50  mAP50-95)     Mask(P          R      mAP50  mAP50-95): 100%|██████████| 2/2 [00:00<00:00,  3.35it/s]"
     ]
    },
    {
     "output_type": "stream",
     "name": "stdout",
     "text": [
      "                   all         48        137      0.827      0.836      0.834      0.686      0.851       0.85      0.845      0.667\n"
     ]
    },
    {
     "output_type": "stream",
     "name": "stderr",
     "text": [
      "\n"
     ]
    },
    {
     "output_type": "stream",
     "name": "stdout",
     "text": [
      "\n",
      "      Epoch    GPU_mem   box_loss   seg_loss   cls_loss   dfl_loss  Instances       Size\n"
     ]
    },
    {
     "output_type": "stream",
     "name": "stderr",
     "text": [
      "     63/100      2.93G     0.5628     0.5963     0.5161     0.9648         20        640: 100%|██████████| 13/13 [00:03<00:00,  3.39it/s]\n",
      "                 Class     Images  Instances      Box(P          R      mAP50  mAP50-95)     Mask(P          R      mAP50  mAP50-95): 100%|██████████| 2/2 [00:00<00:00,  3.43it/s]"
     ]
    },
    {
     "output_type": "stream",
     "name": "stdout",
     "text": [
      "                   all         48        137      0.884      0.816      0.837      0.698      0.884      0.816      0.835      0.673\n"
     ]
    },
    {
     "output_type": "stream",
     "name": "stderr",
     "text": [
      "\n"
     ]
    },
    {
     "output_type": "stream",
     "name": "stdout",
     "text": [
      "\n",
      "      Epoch    GPU_mem   box_loss   seg_loss   cls_loss   dfl_loss  Instances       Size\n"
     ]
    },
    {
     "output_type": "stream",
     "name": "stderr",
     "text": [
      "     64/100      2.92G     0.5943     0.6179     0.5136     0.9668         25        640: 100%|██████████| 13/13 [00:05<00:00,  2.37it/s]\n",
      "                 Class     Images  Instances      Box(P          R      mAP50  mAP50-95)     Mask(P          R      mAP50  mAP50-95): 100%|██████████| 2/2 [00:01<00:00,  1.63it/s]"
     ]
    },
    {
     "output_type": "stream",
     "name": "stdout",
     "text": [
      "                   all         48        137      0.819      0.837      0.837      0.693      0.876      0.795      0.841       0.67\n"
     ]
    },
    {
     "output_type": "stream",
     "name": "stderr",
     "text": [
      "\n"
     ]
    },
    {
     "output_type": "stream",
     "name": "stdout",
     "text": [
      "\n",
      "      Epoch    GPU_mem   box_loss   seg_loss   cls_loss   dfl_loss  Instances       Size\n"
     ]
    },
    {
     "output_type": "stream",
     "name": "stderr",
     "text": [
      "     65/100      2.94G     0.5519     0.5923     0.4996     0.9525         27        640: 100%|██████████| 13/13 [00:03<00:00,  3.37it/s]\n",
      "                 Class     Images  Instances      Box(P          R      mAP50  mAP50-95)     Mask(P          R      mAP50  mAP50-95): 100%|██████████| 2/2 [00:00<00:00,  3.31it/s]"
     ]
    },
    {
     "output_type": "stream",
     "name": "stdout",
     "text": [
      "                   all         48        137      0.877      0.788      0.844      0.689      0.847       0.83      0.844      0.683\n"
     ]
    },
    {
     "output_type": "stream",
     "name": "stderr",
     "text": [
      "\n"
     ]
    },
    {
     "output_type": "stream",
     "name": "stdout",
     "text": [
      "\n",
      "      Epoch    GPU_mem   box_loss   seg_loss   cls_loss   dfl_loss  Instances       Size\n"
     ]
    },
    {
     "output_type": "stream",
     "name": "stderr",
     "text": [
      "     66/100      2.92G     0.5615     0.6119     0.4988     0.9507         14        640: 100%|██████████| 13/13 [00:03<00:00,  3.37it/s]\n",
      "                 Class     Images  Instances      Box(P          R      mAP50  mAP50-95)     Mask(P          R      mAP50  mAP50-95): 100%|██████████| 2/2 [00:00<00:00,  2.83it/s]"
     ]
    },
    {
     "output_type": "stream",
     "name": "stdout",
     "text": [
      "                   all         48        137      0.845      0.873      0.865      0.697      0.859      0.844      0.862      0.693\n"
     ]
    },
    {
     "output_type": "stream",
     "name": "stderr",
     "text": [
      "\n"
     ]
    },
    {
     "output_type": "stream",
     "name": "stdout",
     "text": [
      "\n",
      "      Epoch    GPU_mem   box_loss   seg_loss   cls_loss   dfl_loss  Instances       Size\n"
     ]
    },
    {
     "output_type": "stream",
     "name": "stderr",
     "text": [
      "     67/100      2.91G     0.5243     0.5387     0.4921     0.9598         19        640: 100%|██████████| 13/13 [00:05<00:00,  2.20it/s]\n",
      "                 Class     Images  Instances      Box(P          R      mAP50  mAP50-95)     Mask(P          R      mAP50  mAP50-95): 100%|██████████| 2/2 [00:00<00:00,  2.75it/s]"
     ]
    },
    {
     "output_type": "stream",
     "name": "stdout",
     "text": [
      "                   all         48        137      0.877      0.845      0.861      0.695      0.906      0.837      0.866      0.686\n"
     ]
    },
    {
     "output_type": "stream",
     "name": "stderr",
     "text": [
      "\n"
     ]
    },
    {
     "output_type": "stream",
     "name": "stdout",
     "text": [
      "\n",
      "      Epoch    GPU_mem   box_loss   seg_loss   cls_loss   dfl_loss  Instances       Size\n"
     ]
    },
    {
     "output_type": "stream",
     "name": "stderr",
     "text": [
      "     68/100      2.95G     0.5385     0.6259     0.5016     0.9555         27        640: 100%|██████████| 13/13 [00:03<00:00,  3.35it/s]\n",
      "                 Class     Images  Instances      Box(P          R      mAP50  mAP50-95)     Mask(P          R      mAP50  mAP50-95): 100%|██████████| 2/2 [00:00<00:00,  3.65it/s]"
     ]
    },
    {
     "output_type": "stream",
     "name": "stdout",
     "text": [
      "                   all         48        137        0.9      0.835      0.863      0.715        0.9      0.835      0.863        0.7\n"
     ]
    },
    {
     "output_type": "stream",
     "name": "stderr",
     "text": [
      "\n"
     ]
    },
    {
     "output_type": "stream",
     "name": "stdout",
     "text": [
      "\n",
      "      Epoch    GPU_mem   box_loss   seg_loss   cls_loss   dfl_loss  Instances       Size\n"
     ]
    },
    {
     "output_type": "stream",
     "name": "stderr",
     "text": [
      "     69/100      2.91G     0.5406     0.5679     0.4887     0.9311         29        640: 100%|██████████| 13/13 [00:03<00:00,  3.28it/s]\n",
      "                 Class     Images  Instances      Box(P          R      mAP50  mAP50-95)     Mask(P          R      mAP50  mAP50-95): 100%|██████████| 2/2 [00:01<00:00,  1.72it/s]"
     ]
    },
    {
     "output_type": "stream",
     "name": "stdout",
     "text": [
      "                   all         48        137      0.897      0.849      0.859      0.717      0.886       0.84      0.853      0.683\n"
     ]
    },
    {
     "output_type": "stream",
     "name": "stderr",
     "text": [
      "\n"
     ]
    },
    {
     "output_type": "stream",
     "name": "stdout",
     "text": [
      "\n",
      "      Epoch    GPU_mem   box_loss   seg_loss   cls_loss   dfl_loss  Instances       Size\n"
     ]
    },
    {
     "output_type": "stream",
     "name": "stderr",
     "text": [
      "     70/100      2.95G     0.5466     0.6222     0.4955     0.9541         18        640: 100%|██████████| 13/13 [00:05<00:00,  2.47it/s]\n",
      "                 Class     Images  Instances      Box(P          R      mAP50  mAP50-95)     Mask(P          R      mAP50  mAP50-95): 100%|██████████| 2/2 [00:00<00:00,  3.23it/s]"
     ]
    },
    {
     "output_type": "stream",
     "name": "stdout",
     "text": [
      "                   all         48        137      0.905       0.84      0.857      0.709      0.907      0.822      0.849      0.673\n"
     ]
    },
    {
     "output_type": "stream",
     "name": "stderr",
     "text": [
      "\n"
     ]
    },
    {
     "output_type": "stream",
     "name": "stdout",
     "text": [
      "\n",
      "      Epoch    GPU_mem   box_loss   seg_loss   cls_loss   dfl_loss  Instances       Size\n"
     ]
    },
    {
     "output_type": "stream",
     "name": "stderr",
     "text": [
      "     71/100       2.9G     0.5385     0.6076     0.5021     0.9628         25        640: 100%|██████████| 13/13 [00:03<00:00,  3.50it/s]\n",
      "                 Class     Images  Instances      Box(P          R      mAP50  mAP50-95)     Mask(P          R      mAP50  mAP50-95): 100%|██████████| 2/2 [00:00<00:00,  3.48it/s]"
     ]
    },
    {
     "output_type": "stream",
     "name": "stdout",
     "text": [
      "                   all         48        137      0.881      0.847      0.864      0.705      0.897      0.812      0.862      0.674\n"
     ]
    },
    {
     "output_type": "stream",
     "name": "stderr",
     "text": [
      "\n"
     ]
    },
    {
     "output_type": "stream",
     "name": "stdout",
     "text": [
      "\n",
      "      Epoch    GPU_mem   box_loss   seg_loss   cls_loss   dfl_loss  Instances       Size\n"
     ]
    },
    {
     "output_type": "stream",
     "name": "stderr",
     "text": [
      "     72/100       2.9G     0.5375     0.5857     0.4956     0.9395         23        640: 100%|██████████| 13/13 [00:04<00:00,  2.84it/s]\n",
      "                 Class     Images  Instances      Box(P          R      mAP50  mAP50-95)     Mask(P          R      mAP50  mAP50-95): 100%|██████████| 2/2 [00:01<00:00,  1.64it/s]"
     ]
    },
    {
     "output_type": "stream",
     "name": "stdout",
     "text": [
      "                   all         48        137      0.907      0.824      0.858      0.698      0.917      0.794      0.848       0.67\n"
     ]
    },
    {
     "output_type": "stream",
     "name": "stderr",
     "text": [
      "\n"
     ]
    },
    {
     "output_type": "stream",
     "name": "stdout",
     "text": [
      "\n",
      "      Epoch    GPU_mem   box_loss   seg_loss   cls_loss   dfl_loss  Instances       Size\n"
     ]
    },
    {
     "output_type": "stream",
     "name": "stderr",
     "text": [
      "     73/100      2.91G     0.5296     0.5706     0.4874     0.9389         18        640: 100%|██████████| 13/13 [00:04<00:00,  2.88it/s]\n",
      "                 Class     Images  Instances      Box(P          R      mAP50  mAP50-95)     Mask(P          R      mAP50  mAP50-95): 100%|██████████| 2/2 [00:00<00:00,  3.35it/s]"
     ]
    },
    {
     "output_type": "stream",
     "name": "stdout",
     "text": [
      "                   all         48        137      0.874      0.832      0.854      0.704      0.849      0.823      0.839      0.674\n"
     ]
    },
    {
     "output_type": "stream",
     "name": "stderr",
     "text": [
      "\n"
     ]
    },
    {
     "output_type": "stream",
     "name": "stdout",
     "text": [
      "\n",
      "      Epoch    GPU_mem   box_loss   seg_loss   cls_loss   dfl_loss  Instances       Size\n"
     ]
    },
    {
     "output_type": "stream",
     "name": "stderr",
     "text": [
      "     74/100      2.97G     0.5535     0.6328     0.4969     0.9477         29        640: 100%|██████████| 13/13 [00:03<00:00,  3.38it/s]\n",
      "                 Class     Images  Instances      Box(P          R      mAP50  mAP50-95)     Mask(P          R      mAP50  mAP50-95): 100%|██████████| 2/2 [00:00<00:00,  3.41it/s]"
     ]
    },
    {
     "output_type": "stream",
     "name": "stdout",
     "text": [
      "                   all         48        137      0.878      0.825      0.842      0.696       0.87      0.814      0.828      0.677\n"
     ]
    },
    {
     "output_type": "stream",
     "name": "stderr",
     "text": [
      "\n"
     ]
    },
    {
     "output_type": "stream",
     "name": "stdout",
     "text": [
      "\n",
      "      Epoch    GPU_mem   box_loss   seg_loss   cls_loss   dfl_loss  Instances       Size\n"
     ]
    },
    {
     "output_type": "stream",
     "name": "stderr",
     "text": [
      "     75/100      2.94G     0.5347      0.586     0.4785     0.9599         21        640: 100%|██████████| 13/13 [00:05<00:00,  2.49it/s]\n",
      "                 Class     Images  Instances      Box(P          R      mAP50  mAP50-95)     Mask(P          R      mAP50  mAP50-95): 100%|██████████| 2/2 [00:01<00:00,  1.38it/s]"
     ]
    },
    {
     "output_type": "stream",
     "name": "stdout",
     "text": [
      "                   all         48        137      0.875      0.819      0.846      0.698      0.899      0.791      0.846      0.676\n"
     ]
    },
    {
     "output_type": "stream",
     "name": "stderr",
     "text": [
      "\n"
     ]
    },
    {
     "output_type": "stream",
     "name": "stdout",
     "text": [
      "\n",
      "      Epoch    GPU_mem   box_loss   seg_loss   cls_loss   dfl_loss  Instances       Size\n"
     ]
    },
    {
     "output_type": "stream",
     "name": "stderr",
     "text": [
      "     76/100      2.88G     0.4906     0.5362     0.4597     0.9457         19        640: 100%|██████████| 13/13 [00:03<00:00,  3.35it/s]\n",
      "                 Class     Images  Instances      Box(P          R      mAP50  mAP50-95)     Mask(P          R      mAP50  mAP50-95): 100%|██████████| 2/2 [00:00<00:00,  3.32it/s]"
     ]
    },
    {
     "output_type": "stream",
     "name": "stdout",
     "text": [
      "                   all         48        137       0.87      0.847      0.841      0.696      0.872      0.847      0.848      0.691\n"
     ]
    },
    {
     "output_type": "stream",
     "name": "stderr",
     "text": [
      "\n"
     ]
    },
    {
     "output_type": "stream",
     "name": "stdout",
     "text": [
      "\n",
      "      Epoch    GPU_mem   box_loss   seg_loss   cls_loss   dfl_loss  Instances       Size\n"
     ]
    },
    {
     "output_type": "stream",
     "name": "stderr",
     "text": [
      "     77/100      2.92G     0.5074     0.5359     0.4518     0.9455         21        640: 100%|██████████| 13/13 [00:03<00:00,  3.43it/s]\n",
      "                 Class     Images  Instances      Box(P          R      mAP50  mAP50-95)     Mask(P          R      mAP50  mAP50-95): 100%|██████████| 2/2 [00:00<00:00,  3.15it/s]"
     ]
    },
    {
     "output_type": "stream",
     "name": "stdout",
     "text": [
      "                   all         48        137      0.884      0.854      0.852      0.716      0.897       0.85      0.857      0.692\n"
     ]
    },
    {
     "output_type": "stream",
     "name": "stderr",
     "text": [
      "\n"
     ]
    },
    {
     "output_type": "stream",
     "name": "stdout",
     "text": [
      "\n",
      "      Epoch    GPU_mem   box_loss   seg_loss   cls_loss   dfl_loss  Instances       Size\n"
     ]
    },
    {
     "output_type": "stream",
     "name": "stderr",
     "text": [
      "     78/100      2.89G     0.4833     0.6173     0.4664     0.9434         15        640: 100%|██████████| 13/13 [00:05<00:00,  2.19it/s]\n",
      "                 Class     Images  Instances      Box(P          R      mAP50  mAP50-95)     Mask(P          R      mAP50  mAP50-95): 100%|██████████| 2/2 [00:01<00:00,  1.89it/s]"
     ]
    },
    {
     "output_type": "stream",
     "name": "stdout",
     "text": [
      "                   all         48        137      0.852      0.845       0.85      0.704      0.863      0.855       0.85      0.671\n"
     ]
    },
    {
     "output_type": "stream",
     "name": "stderr",
     "text": [
      "\n"
     ]
    },
    {
     "output_type": "stream",
     "name": "stdout",
     "text": [
      "\n",
      "      Epoch    GPU_mem   box_loss   seg_loss   cls_loss   dfl_loss  Instances       Size\n"
     ]
    },
    {
     "output_type": "stream",
     "name": "stderr",
     "text": [
      "     79/100      2.93G     0.5077     0.5614     0.4575     0.9225         25        640: 100%|██████████| 13/13 [00:03<00:00,  3.40it/s]\n",
      "                 Class     Images  Instances      Box(P          R      mAP50  mAP50-95)     Mask(P          R      mAP50  mAP50-95): 100%|██████████| 2/2 [00:00<00:00,  3.40it/s]"
     ]
    },
    {
     "output_type": "stream",
     "name": "stdout",
     "text": [
      "                   all         48        137      0.899      0.808       0.86      0.697      0.913      0.817      0.858      0.671\n"
     ]
    },
    {
     "output_type": "stream",
     "name": "stderr",
     "text": [
      "\n"
     ]
    },
    {
     "output_type": "stream",
     "name": "stdout",
     "text": [
      "\n",
      "      Epoch    GPU_mem   box_loss   seg_loss   cls_loss   dfl_loss  Instances       Size\n"
     ]
    },
    {
     "output_type": "stream",
     "name": "stderr",
     "text": [
      "     80/100      2.96G     0.5093     0.6111     0.4587     0.9369         21        640: 100%|██████████| 13/13 [00:04<00:00,  3.23it/s]\n",
      "                 Class     Images  Instances      Box(P          R      mAP50  mAP50-95)     Mask(P          R      mAP50  mAP50-95): 100%|██████████| 2/2 [00:00<00:00,  2.21it/s]"
     ]
    },
    {
     "output_type": "stream",
     "name": "stdout",
     "text": [
      "                   all         48        137      0.862      0.828      0.857      0.706      0.881      0.823      0.841      0.675\n"
     ]
    },
    {
     "output_type": "stream",
     "name": "stderr",
     "text": [
      "\n"
     ]
    },
    {
     "output_type": "stream",
     "name": "stdout",
     "text": [
      "\n",
      "      Epoch    GPU_mem   box_loss   seg_loss   cls_loss   dfl_loss  Instances       Size\n"
     ]
    },
    {
     "output_type": "stream",
     "name": "stderr",
     "text": [
      "     81/100      2.93G     0.4938     0.5482      0.445     0.9426         21        640: 100%|██████████| 13/13 [00:05<00:00,  2.37it/s]\n",
      "                 Class     Images  Instances      Box(P          R      mAP50  mAP50-95)     Mask(P          R      mAP50  mAP50-95): 100%|██████████| 2/2 [00:00<00:00,  3.48it/s]"
     ]
    },
    {
     "output_type": "stream",
     "name": "stdout",
     "text": [
      "                   all         48        137      0.867      0.831      0.851      0.714      0.881      0.803      0.834      0.686\n"
     ]
    },
    {
     "output_type": "stream",
     "name": "stderr",
     "text": [
      "\n"
     ]
    },
    {
     "output_type": "stream",
     "name": "stdout",
     "text": [
      "\n",
      "      Epoch    GPU_mem   box_loss   seg_loss   cls_loss   dfl_loss  Instances       Size\n"
     ]
    },
    {
     "output_type": "stream",
     "name": "stderr",
     "text": [
      "     82/100      2.95G     0.4757     0.5646      0.437     0.9324         22        640: 100%|██████████| 13/13 [00:03<00:00,  3.51it/s]\n",
      "                 Class     Images  Instances      Box(P          R      mAP50  mAP50-95)     Mask(P          R      mAP50  mAP50-95): 100%|██████████| 2/2 [00:00<00:00,  2.99it/s]"
     ]
    },
    {
     "output_type": "stream",
     "name": "stdout",
     "text": [
      "                   all         48        137      0.871      0.847      0.858      0.714      0.864      0.811      0.837      0.682\n"
     ]
    },
    {
     "output_type": "stream",
     "name": "stderr",
     "text": [
      "\n"
     ]
    },
    {
     "output_type": "stream",
     "name": "stdout",
     "text": [
      "\n",
      "      Epoch    GPU_mem   box_loss   seg_loss   cls_loss   dfl_loss  Instances       Size\n"
     ]
    },
    {
     "output_type": "stream",
     "name": "stderr",
     "text": [
      "     83/100      2.91G     0.4892     0.5659     0.4507     0.9552         15        640: 100%|██████████| 13/13 [00:04<00:00,  2.99it/s]\n",
      "                 Class     Images  Instances      Box(P          R      mAP50  mAP50-95)     Mask(P          R      mAP50  mAP50-95): 100%|██████████| 2/2 [00:00<00:00,  2.09it/s]"
     ]
    },
    {
     "output_type": "stream",
     "name": "stdout",
     "text": [
      "                   all         48        137      0.904      0.826      0.862      0.715        0.9      0.814      0.844      0.688\n"
     ]
    },
    {
     "output_type": "stream",
     "name": "stderr",
     "text": [
      "\n"
     ]
    },
    {
     "output_type": "stream",
     "name": "stdout",
     "text": [
      "\n",
      "      Epoch    GPU_mem   box_loss   seg_loss   cls_loss   dfl_loss  Instances       Size\n"
     ]
    },
    {
     "output_type": "stream",
     "name": "stderr",
     "text": [
      "     84/100      2.93G     0.4766     0.5331     0.4336     0.9362         22        640: 100%|██████████| 13/13 [00:04<00:00,  2.66it/s]\n",
      "                 Class     Images  Instances      Box(P          R      mAP50  mAP50-95)     Mask(P          R      mAP50  mAP50-95): 100%|██████████| 2/2 [00:00<00:00,  2.46it/s]"
     ]
    },
    {
     "output_type": "stream",
     "name": "stdout",
     "text": [
      "                   all         48        137      0.898      0.824      0.862      0.722      0.887      0.814      0.841      0.687\n"
     ]
    },
    {
     "output_type": "stream",
     "name": "stderr",
     "text": [
      "\n"
     ]
    },
    {
     "output_type": "stream",
     "name": "stdout",
     "text": [
      "\n",
      "      Epoch    GPU_mem   box_loss   seg_loss   cls_loss   dfl_loss  Instances       Size\n"
     ]
    },
    {
     "output_type": "stream",
     "name": "stderr",
     "text": [
      "     85/100      2.91G     0.5131     0.5556     0.4604     0.9423         17        640: 100%|██████████| 13/13 [00:05<00:00,  2.27it/s]\n",
      "                 Class     Images  Instances      Box(P          R      mAP50  mAP50-95)     Mask(P          R      mAP50  mAP50-95): 100%|██████████| 2/2 [00:01<00:00,  1.58it/s]"
     ]
    },
    {
     "output_type": "stream",
     "name": "stdout",
     "text": [
      "                   all         48        137      0.893      0.844       0.86      0.715      0.882      0.834      0.836      0.691\n"
     ]
    },
    {
     "output_type": "stream",
     "name": "stderr",
     "text": [
      "\n"
     ]
    },
    {
     "output_type": "stream",
     "name": "stdout",
     "text": [
      "\n",
      "      Epoch    GPU_mem   box_loss   seg_loss   cls_loss   dfl_loss  Instances       Size\n"
     ]
    },
    {
     "output_type": "stream",
     "name": "stderr",
     "text": [
      "     86/100      2.92G     0.4861     0.5271     0.4502     0.9352         25        640: 100%|██████████| 13/13 [00:05<00:00,  2.29it/s]\n",
      "                 Class     Images  Instances      Box(P          R      mAP50  mAP50-95)     Mask(P          R      mAP50  mAP50-95): 100%|██████████| 2/2 [00:00<00:00,  3.40it/s]"
     ]
    },
    {
     "output_type": "stream",
     "name": "stdout",
     "text": [
      "                   all         48        137      0.894      0.844       0.86      0.712      0.881      0.834      0.834      0.681\n"
     ]
    },
    {
     "output_type": "stream",
     "name": "stderr",
     "text": [
      "\n"
     ]
    },
    {
     "output_type": "stream",
     "name": "stdout",
     "text": [
      "\n",
      "      Epoch    GPU_mem   box_loss   seg_loss   cls_loss   dfl_loss  Instances       Size\n"
     ]
    },
    {
     "output_type": "stream",
     "name": "stderr",
     "text": [
      "     87/100      2.97G     0.5099      0.623     0.4732     0.9439         22        640: 100%|██████████| 13/13 [00:03<00:00,  3.26it/s]\n",
      "                 Class     Images  Instances      Box(P          R      mAP50  mAP50-95)     Mask(P          R      mAP50  mAP50-95): 100%|██████████| 2/2 [00:00<00:00,  3.54it/s]"
     ]
    },
    {
     "output_type": "stream",
     "name": "stdout",
     "text": [
      "                   all         48        137       0.89       0.84      0.863      0.721      0.873      0.827      0.837      0.681\n"
     ]
    },
    {
     "output_type": "stream",
     "name": "stderr",
     "text": [
      "\n"
     ]
    },
    {
     "output_type": "stream",
     "name": "stdout",
     "text": [
      "\n",
      "      Epoch    GPU_mem   box_loss   seg_loss   cls_loss   dfl_loss  Instances       Size\n"
     ]
    },
    {
     "output_type": "stream",
     "name": "stderr",
     "text": [
      "     88/100      2.87G     0.4755     0.5436     0.4464     0.9267         17        640: 100%|██████████| 13/13 [00:04<00:00,  3.05it/s]\n",
      "                 Class     Images  Instances      Box(P          R      mAP50  mAP50-95)     Mask(P          R      mAP50  mAP50-95): 100%|██████████| 2/2 [00:01<00:00,  1.93it/s]\n"
     ]
    },
    {
     "output_type": "stream",
     "name": "stdout",
     "text": [
      "                   all         48        137      0.906      0.831      0.867      0.728      0.876      0.827      0.848      0.694\n",
      "\n",
      "      Epoch    GPU_mem   box_loss   seg_loss   cls_loss   dfl_loss  Instances       Size\n"
     ]
    },
    {
     "output_type": "stream",
     "name": "stderr",
     "text": [
      "     89/100      2.88G     0.4531     0.5197     0.4214     0.9162         20        640: 100%|██████████| 13/13 [00:04<00:00,  2.78it/s]\n",
      "                 Class     Images  Instances      Box(P          R      mAP50  mAP50-95)     Mask(P          R      mAP50  mAP50-95): 100%|██████████| 2/2 [00:00<00:00,  2.84it/s]"
     ]
    },
    {
     "output_type": "stream",
     "name": "stdout",
     "text": [
      "                   all         48        137      0.921      0.827      0.864      0.727      0.899      0.826      0.849      0.687\n"
     ]
    },
    {
     "output_type": "stream",
     "name": "stderr",
     "text": [
      "\n"
     ]
    },
    {
     "output_type": "stream",
     "name": "stdout",
     "text": [
      "\n",
      "      Epoch    GPU_mem   box_loss   seg_loss   cls_loss   dfl_loss  Instances       Size\n"
     ]
    },
    {
     "output_type": "stream",
     "name": "stderr",
     "text": [
      "     90/100      2.98G     0.4639     0.5182     0.4262     0.9327         15        640: 100%|██████████| 13/13 [00:03<00:00,  3.32it/s]\n",
      "                 Class     Images  Instances      Box(P          R      mAP50  mAP50-95)     Mask(P          R      mAP50  mAP50-95): 100%|██████████| 2/2 [00:00<00:00,  3.28it/s]"
     ]
    },
    {
     "output_type": "stream",
     "name": "stdout",
     "text": [
      "                   all         48        137      0.897      0.843      0.862       0.72      0.886      0.833      0.848       0.69\n"
     ]
    },
    {
     "output_type": "stream",
     "name": "stderr",
     "text": [
      "\n"
     ]
    },
    {
     "output_type": "stream",
     "name": "stdout",
     "text": [
      "Closing dataloader mosaic\n",
      "\u001B[34m\u001B[1malbumentations: \u001B[0mBlur(p=0.01, blur_limit=(3, 7)), MedianBlur(p=0.01, blur_limit=(3, 7)), ToGray(p=0.01, num_output_channels=3, method='weighted_average'), CLAHE(p=0.01, clip_limit=(1.0, 4.0), tile_grid_size=(8, 8))\n",
      "\n",
      "      Epoch    GPU_mem   box_loss   seg_loss   cls_loss   dfl_loss  Instances       Size\n"
     ]
    },
    {
     "output_type": "stream",
     "name": "stderr",
     "text": [
      "     91/100      2.76G     0.4935     0.5252     0.5041       0.92         10        640: 100%|██████████| 13/13 [00:08<00:00,  1.48it/s]\n",
      "                 Class     Images  Instances      Box(P          R      mAP50  mAP50-95)     Mask(P          R      mAP50  mAP50-95): 100%|██████████| 2/2 [00:00<00:00,  3.46it/s]"
     ]
    },
    {
     "output_type": "stream",
     "name": "stdout",
     "text": [
      "                   all         48        137      0.876       0.84      0.857      0.711      0.866      0.831      0.844      0.683\n"
     ]
    },
    {
     "output_type": "stream",
     "name": "stderr",
     "text": [
      "\n"
     ]
    },
    {
     "output_type": "stream",
     "name": "stdout",
     "text": [
      "\n",
      "      Epoch    GPU_mem   box_loss   seg_loss   cls_loss   dfl_loss  Instances       Size\n"
     ]
    },
    {
     "output_type": "stream",
     "name": "stderr",
     "text": [
      "     92/100      2.78G     0.4658     0.5354     0.4665     0.8982          7        640: 100%|██████████| 13/13 [00:03<00:00,  3.68it/s]\n",
      "                 Class     Images  Instances      Box(P          R      mAP50  mAP50-95)     Mask(P          R      mAP50  mAP50-95): 100%|██████████| 2/2 [00:00<00:00,  3.81it/s]"
     ]
    },
    {
     "output_type": "stream",
     "name": "stdout",
     "text": [
      "                   all         48        137      0.902      0.839      0.856      0.708      0.891       0.83      0.837      0.671\n"
     ]
    },
    {
     "output_type": "stream",
     "name": "stderr",
     "text": [
      "\n"
     ]
    },
    {
     "output_type": "stream",
     "name": "stdout",
     "text": [
      "\n",
      "      Epoch    GPU_mem   box_loss   seg_loss   cls_loss   dfl_loss  Instances       Size\n"
     ]
    },
    {
     "output_type": "stream",
     "name": "stderr",
     "text": [
      "     93/100      2.75G     0.4988     0.5209     0.4509     0.9317          9        640: 100%|██████████| 13/13 [00:03<00:00,  3.76it/s]\n",
      "                 Class     Images  Instances      Box(P          R      mAP50  mAP50-95)     Mask(P          R      mAP50  mAP50-95): 100%|██████████| 2/2 [00:00<00:00,  3.37it/s]"
     ]
    },
    {
     "output_type": "stream",
     "name": "stdout",
     "text": [
      "                   all         48        137      0.888       0.84      0.856      0.719       0.88      0.831      0.835      0.676\n"
     ]
    },
    {
     "output_type": "stream",
     "name": "stderr",
     "text": [
      "\n"
     ]
    },
    {
     "output_type": "stream",
     "name": "stdout",
     "text": [
      "\n",
      "      Epoch    GPU_mem   box_loss   seg_loss   cls_loss   dfl_loss  Instances       Size\n"
     ]
    },
    {
     "output_type": "stream",
     "name": "stderr",
     "text": [
      "     94/100      2.78G      0.474     0.5072     0.4396     0.9185          7        640: 100%|██████████| 13/13 [00:05<00:00,  2.41it/s]\n",
      "                 Class     Images  Instances      Box(P          R      mAP50  mAP50-95)     Mask(P          R      mAP50  mAP50-95): 100%|██████████| 2/2 [00:00<00:00,  2.20it/s]"
     ]
    },
    {
     "output_type": "stream",
     "name": "stdout",
     "text": [
      "                   all         48        137      0.881      0.845       0.86      0.728       0.87      0.835      0.842      0.682\n"
     ]
    },
    {
     "output_type": "stream",
     "name": "stderr",
     "text": [
      "\n"
     ]
    },
    {
     "output_type": "stream",
     "name": "stdout",
     "text": [
      "\n",
      "      Epoch    GPU_mem   box_loss   seg_loss   cls_loss   dfl_loss  Instances       Size\n"
     ]
    },
    {
     "output_type": "stream",
     "name": "stderr",
     "text": [
      "     95/100      2.76G     0.4504     0.4836     0.4289     0.9197         12        640: 100%|██████████| 13/13 [00:03<00:00,  3.71it/s]\n",
      "                 Class     Images  Instances      Box(P          R      mAP50  mAP50-95)     Mask(P          R      mAP50  mAP50-95): 100%|██████████| 2/2 [00:00<00:00,  3.56it/s]"
     ]
    },
    {
     "output_type": "stream",
     "name": "stdout",
     "text": [
      "                   all         48        137      0.879      0.845      0.863      0.728      0.868      0.835      0.847      0.691\n"
     ]
    },
    {
     "output_type": "stream",
     "name": "stderr",
     "text": [
      "\n"
     ]
    },
    {
     "output_type": "stream",
     "name": "stdout",
     "text": [
      "\n",
      "      Epoch    GPU_mem   box_loss   seg_loss   cls_loss   dfl_loss  Instances       Size\n"
     ]
    },
    {
     "output_type": "stream",
     "name": "stderr",
     "text": [
      "     96/100      2.76G     0.4318     0.4812     0.4083     0.8997          8        640: 100%|██████████| 13/13 [00:03<00:00,  3.63it/s]\n",
      "                 Class     Images  Instances      Box(P          R      mAP50  mAP50-95)     Mask(P          R      mAP50  mAP50-95): 100%|██████████| 2/2 [00:00<00:00,  3.76it/s]"
     ]
    },
    {
     "output_type": "stream",
     "name": "stdout",
     "text": [
      "                   all         48        137       0.89       0.84       0.87      0.731      0.879      0.831      0.856      0.697\n"
     ]
    },
    {
     "output_type": "stream",
     "name": "stderr",
     "text": [
      "\n"
     ]
    },
    {
     "output_type": "stream",
     "name": "stdout",
     "text": [
      "\n",
      "      Epoch    GPU_mem   box_loss   seg_loss   cls_loss   dfl_loss  Instances       Size\n"
     ]
    },
    {
     "output_type": "stream",
     "name": "stderr",
     "text": [
      "     97/100      2.75G     0.4527     0.4663     0.4364     0.9074          8        640: 100%|██████████| 13/13 [00:05<00:00,  2.38it/s]\n",
      "                 Class     Images  Instances      Box(P          R      mAP50  mAP50-95)     Mask(P          R      mAP50  mAP50-95): 100%|██████████| 2/2 [00:00<00:00,  3.31it/s]"
     ]
    },
    {
     "output_type": "stream",
     "name": "stdout",
     "text": [
      "                   all         48        137      0.895      0.826      0.872      0.734      0.895      0.826      0.874      0.698\n"
     ]
    },
    {
     "output_type": "stream",
     "name": "stderr",
     "text": [
      "\n"
     ]
    },
    {
     "output_type": "stream",
     "name": "stdout",
     "text": [
      "\n",
      "      Epoch    GPU_mem   box_loss   seg_loss   cls_loss   dfl_loss  Instances       Size\n"
     ]
    },
    {
     "output_type": "stream",
     "name": "stderr",
     "text": [
      "     98/100      2.75G     0.4631     0.4828     0.4191     0.9211          9        640: 100%|██████████| 13/13 [00:03<00:00,  3.71it/s]\n",
      "                 Class     Images  Instances      Box(P          R      mAP50  mAP50-95)     Mask(P          R      mAP50  mAP50-95): 100%|██████████| 2/2 [00:00<00:00,  3.65it/s]"
     ]
    },
    {
     "output_type": "stream",
     "name": "stdout",
     "text": [
      "                   all         48        137      0.916      0.825      0.874       0.74      0.916      0.825       0.87      0.695\n"
     ]
    },
    {
     "output_type": "stream",
     "name": "stderr",
     "text": [
      "\n"
     ]
    },
    {
     "output_type": "stream",
     "name": "stdout",
     "text": [
      "\n",
      "      Epoch    GPU_mem   box_loss   seg_loss   cls_loss   dfl_loss  Instances       Size\n"
     ]
    },
    {
     "output_type": "stream",
     "name": "stderr",
     "text": [
      "     99/100      2.76G     0.4648      0.516     0.4221      0.944          9        640: 100%|██████████| 13/13 [00:03<00:00,  3.80it/s]\n",
      "                 Class     Images  Instances      Box(P          R      mAP50  mAP50-95)     Mask(P          R      mAP50  mAP50-95): 100%|██████████| 2/2 [00:00<00:00,  3.46it/s]"
     ]
    },
    {
     "output_type": "stream",
     "name": "stdout",
     "text": [
      "                   all         48        137       0.92      0.824      0.871      0.743       0.92      0.824       0.87      0.697\n"
     ]
    },
    {
     "output_type": "stream",
     "name": "stderr",
     "text": [
      "\n"
     ]
    },
    {
     "output_type": "stream",
     "name": "stdout",
     "text": [
      "\n",
      "      Epoch    GPU_mem   box_loss   seg_loss   cls_loss   dfl_loss  Instances       Size\n"
     ]
    },
    {
     "output_type": "stream",
     "name": "stderr",
     "text": [
      "    100/100      2.76G     0.4537     0.4785     0.4214      0.922          7        640: 100%|██████████| 13/13 [00:05<00:00,  2.40it/s]\n",
      "                 Class     Images  Instances      Box(P          R      mAP50  mAP50-95)     Mask(P          R      mAP50  mAP50-95): 100%|██████████| 2/2 [00:00<00:00,  3.59it/s]"
     ]
    },
    {
     "output_type": "stream",
     "name": "stdout",
     "text": [
      "                   all         48        137       0.92      0.826      0.872      0.743       0.92      0.826      0.875      0.696\n"
     ]
    },
    {
     "output_type": "stream",
     "name": "stderr",
     "text": [
      "\n"
     ]
    },
    {
     "output_type": "stream",
     "name": "stdout",
     "text": [
      "\n",
      "100 epochs completed in 0.172 hours.\n",
      "Optimizer stripped from runs/segment/train3/weights/last.pt, 6.8MB\n",
      "Optimizer stripped from runs/segment/train3/weights/best.pt, 6.8MB\n",
      "\n",
      "Validating runs/segment/train3/weights/best.pt...\n",
      "Ultralytics 8.3.39 🚀 Python-3.10.12 torch-2.5.1+cu121 CUDA:0 (Tesla T4, 15102MiB)\n",
      "YOLOv8n-seg summary (fused): 195 layers, 3,258,649 parameters, 0 gradients, 12.0 GFLOPs\n"
     ]
    },
    {
     "output_type": "stream",
     "name": "stderr",
     "text": [
      "                 Class     Images  Instances      Box(P          R      mAP50  mAP50-95)     Mask(P          R      mAP50  mAP50-95): 100%|██████████| 2/2 [00:00<00:00,  2.84it/s]\n"
     ]
    },
    {
     "output_type": "stream",
     "name": "stdout",
     "text": [
      "                   all         48        137       0.92      0.826      0.872      0.743       0.92      0.826      0.875      0.691\n",
      "                 green         48         53      0.976      0.906      0.924      0.884      0.976      0.906      0.926      0.904\n",
      "                yellow         17         34      0.827      0.702       0.79      0.587      0.827      0.702      0.798      0.508\n",
      "                   red         26         50      0.956       0.87      0.902      0.757      0.956       0.87      0.902      0.661\n",
      "Speed: 0.2ms preprocess, 2.0ms inference, 0.0ms loss, 1.5ms postprocess per image\n",
      "Results saved to \u001B[1mruns/segment/train3\u001B[0m\n"
     ]
    }
   ],
   "execution_count": 5,
   "source": [
    "# Train the model\n",
    "model.train(data=\"./data.yaml\", epochs=100, imgsz=640)"
   ]
  },
  {
   "metadata": {
    "colab": {
     "base_uri": "https://localhost:8080/",
     "height": 568
    },
    "id": "swFkaQRZ9SC6",
    "executionInfo": {
     "status": "ok",
     "timestamp": 1732922282361,
     "user_tz": 300,
     "elapsed": 1889,
     "user": {
      "displayName": "Wei Xiang",
      "userId": "03584244961072852020"
     }
    },
    "outputId": "571431cb-c559-4949-86eb-d799e85539ea"
   },
   "cell_type": "code",
   "outputs": [
    {
     "output_type": "stream",
     "name": "stdout",
     "text": [
      "\n",
      "image 1/1 /content/datasets/ros-nav/images/val/210130000000.jpeg: 480x640 1 green, 3 reds, 13.8ms\n",
      "Speed: 3.4ms preprocess, 13.8ms inference, 4.0ms postprocess per image at shape (1, 3, 480, 640)\n",
      "torch.Size([4, 480, 640])\n"
     ]
    },
    {
     "output_type": "display_data",
     "data": {
      "text/plain": [
       "<PIL.Image.Image image mode=RGB size=640x480>"
      ],
      "image/png": "[encoded data removed]",
      "image/jpeg": "[encoded data removed]"
     },
     "metadata": {}
    }
   ],
   "execution_count": 38,
   "source": [
    "results = model.predict(\"/content/datasets/ros-nav/images/val/210130000000.jpeg\")\n",
    "for i, r in enumerate(results):\n",
    "    # Show results\n",
    "    r.show(boxes=False)"
   ]
  },
  {
   "metadata": {
    "ExecuteTime": {
     "end_time": "2024-11-30T04:10:30.201726Z",
     "start_time": "2024-11-30T04:10:29.253396Z"
    }
   },
   "cell_type": "code",
   "source": [
    "# test best.pt\n",
    "model = YOLO(\"best.pt\")\n",
    "results = model.predict(\"/content/datasets/ros-nav/images/val/210130000000.jpeg\")\n",
    "for i, r in enumerate(results):\n",
    "    # Show results\n",
    "    r.show(boxes=False)"
   ],
   "outputs": [
    {
     "name": "stdout",
     "output_type": "stream",
     "text": [
      "\n",
      "image 1/1 /Users/wallflower/PythonProjects/AI_Based_Auton_Nav/model_train/yolo-v8-seg/ros-nav/images/val/210130000000.jpeg: 480x640 1 green, 3 reds, 82.8ms\n",
      "Speed: 4.9ms preprocess, 82.8ms inference, 10.9ms postprocess per image at shape (1, 3, 480, 640)\n"
     ]
    }
   ],
   "execution_count": 3
  }
 ]
}
